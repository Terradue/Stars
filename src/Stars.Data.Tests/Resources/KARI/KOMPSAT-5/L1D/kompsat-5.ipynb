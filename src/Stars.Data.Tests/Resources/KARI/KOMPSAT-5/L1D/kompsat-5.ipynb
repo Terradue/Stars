{
 "cells": [
  {
   "cell_type": "code",
   "execution_count": 21,
   "metadata": {},
   "outputs": [],
   "source": [
    "from pystac import *\n",
    "from shapely.geometry import Point, Polygon, mapping\n",
    "import json\n",
    "from datetime import datetime"
   ]
  },
  {
   "cell_type": "markdown",
   "metadata": {},
   "source": [
    "## Initialize"
   ]
  },
  {
   "cell_type": "code",
   "execution_count": 22,
   "metadata": {},
   "outputs": [],
   "source": [
    "properties = {}"
   ]
  },
  {
   "cell_type": "markdown",
   "metadata": {},
   "source": [
    "## Identifier"
   ]
  },
  {
   "cell_type": "markdown",
   "metadata": {},
   "source": [
    "variable: item_id\n",
    "\n",
    "xpath or method: Auxiliary/Root/ProductFilename\n",
    "\n",
    "field: KMPS5_GTC_B_ES_10_HH_RD_P_20190916093251_20190916093256_20190918030009.h5\n",
    "\n",
    "notes: remove the extension\n",
    "\n",
    "example: KMPS5_GTC_B_ES_10_HH_RD_P_20190916093251_20190916093256_20190918030009\n",
    "\n",
    "-----------------------------------------------------"
   ]
  },
  {
   "cell_type": "code",
   "execution_count": 23,
   "metadata": {},
   "outputs": [],
   "source": [
    "properties['item_id'] = 'KMPS5_GTC_B_ES_10_HH_RD_P_20190916093251_20190916093256_20190918030009'"
   ]
  },
  {
   "cell_type": "markdown",
   "metadata": {},
   "source": [
    "## Mission"
   ]
  },
  {
   "cell_type": "markdown",
   "metadata": {},
   "source": [
    "\n",
    "variable: mission\n",
    "\n",
    "xpath or method: N/A\n",
    "\n",
    "field: N/A\n",
    "\n",
    "notes: HARDCODED\n",
    "\n",
    "example: kompsat-5\n",
    "\n",
    "-----------------------------------------------------\n",
    "\n",
    "variable: platform\n",
    "\n",
    "xpath or method: /Auxiliary/Root/SatelliteId\n",
    "\n",
    "field: KMPS5\n",
    "\n",
    "notes: N/A\n",
    "\n",
    "example: KMPS5\n",
    "\n",
    "-----------------------------------------------------\n",
    "\n",
    "variable: instruments\n",
    "\n",
    "xpath or method: N/A\n",
    "\n",
    "field: N/A\n",
    "\n",
    "notes: HARDCODED\n",
    "\n",
    "example: COSI\n",
    "\n",
    "-----------------------------------------------------"
   ]
  },
  {
   "cell_type": "code",
   "execution_count": 24,
   "metadata": {},
   "outputs": [],
   "source": [
    "properties['mission'] = 'kompsat-5'\n",
    "properties['platform'] = 'KMPS5'\n",
    "properties['instruments'] = 'COSI'"
   ]
  },
  {
   "cell_type": "markdown",
   "metadata": {},
   "source": [
    "## SAT extension"
   ]
  },
  {
   "cell_type": "markdown",
   "metadata": {},
   "source": [
    "variable: orbit_state\n",
    "\n",
    "xpath or method: /Auxiliary/Root/OrbitDirection\n",
    "\n",
    "field: ASCENDING\n",
    "\n",
    "notes: N/A\n",
    "\n",
    "example: ASCENDING\n",
    "\n",
    "-----------------------------------------------------\n",
    "\n",
    "variable: absolute_orbit\n",
    "\n",
    "xpath or method: /Auxiliary/Root/OrbitNumber\n",
    "\n",
    "field: 40077\n",
    "\n",
    "notes: N/A\n",
    "\n",
    "example: 40077\n",
    "\n",
    "-----------------------------------------------------\n",
    "\n",
    "variable: incidence_angle\n",
    "\n",
    "xpath or method: /Auxiliary/Root/ReferenceIncidenceAngle\n",
    "\n",
    "field: 45\n",
    "\n",
    "notes: N/A\n",
    "\n",
    "example: if not average between FarIncidenceAngle and NearIncidenceAngle\n",
    "\n",
    "-----------------------------------------------------"
   ]
  },
  {
   "cell_type": "code",
   "execution_count": 25,
   "metadata": {},
   "outputs": [],
   "source": [
    "properties['sat:orbit_state'] = 'ASCENDING'\n",
    "properties['sat:absolute_orbit'] = '40077'\n",
    "properties['sat:incidence_angle'] = '45'"
   ]
  },
  {
   "cell_type": "markdown",
   "metadata": {},
   "source": [
    "## SAR extension"
   ]
  },
  {
   "cell_type": "markdown",
   "metadata": {},
   "source": [
    "variable: sar:observation_direction\n",
    "\n",
    "xpath or method: /Auxiliary/Root/LookSide\n",
    "\n",
    "field: RIGHT\n",
    "\n",
    "notes: Antenna pointing direction, string: as \"right\" or \"left\". For KP5 given in capital letters -> e.g. from \"RIGHT\" to \"right\"\n",
    "\n",
    "example: right\n",
    "\n",
    "-----------------------------------------------------\n",
    "\n",
    "variable: sar:instrument_mode\n",
    "\n",
    "xpath or method: /Auxiliary/Root/AcquisitionMode\n",
    "\n",
    "field: WIDE SWATH\n",
    "\n",
    "notes: REQUIRED\n",
    "\n",
    "example: WIDE SWATH\n",
    "\n",
    "-----------------------------------------------------\n",
    "\n",
    "variable: sar:frequency_band\n",
    "\n",
    "xpath or method: /Auxiliary/Root/RadarWavelength\n",
    "\n",
    "field: N/A\n",
    "\n",
    "notes: REQUIRED: multiply by 100 to have wavelength in cm and choose among B={L(15-30),S(7.5-15),C(3.8-7.5),X(2.4-3.8)}, i.e. 0.031034415942028985 -> B=X\n",
    "\n",
    "example: X\n",
    "\n",
    "-----------------------------------------------------\n",
    "\n",
    "variable: sar:center_frequency\n",
    "\n",
    "xpath or method: /Auxiliary/Root/RadarFrequency\n",
    "\n",
    "field: 9660000000\n",
    "\n",
    "notes: In gigahertz (GHz), multiple the value by 1e-9.\n",
    "\n",
    "example: 9.66\n",
    "\n",
    "-----------------------------------------------------\n",
    "\n",
    "variable: sar:polarizations\n",
    "\n",
    "xpath or method: /Auxiliary/Root/SubSwaths/SubSwath id=\"XX\"/Polarisation\n",
    "\n",
    "field: N/A\n",
    "\n",
    "notes: REQUIRED Any combination of polarizations. Check each subswath XX=('01','02','03','04')\n",
    "\n",
    "example: HH\n",
    "\n",
    "-----------------------------------------------------\n",
    "\n",
    "variable: sar:product_type\n",
    "\n",
    "xpath or method: /Auxiliary/Root/RadarFrequency\n",
    "\n",
    "field: N/A\n",
    "\n",
    "notes: REQUIRED: from string choose among P=(SSC,MGD,GRD,GEC,GTC,RTC), i.e. GTC_B -> P=GTC\n",
    "\n",
    "example: GTC\n",
    "\n",
    "-----------------------------------------------------"
   ]
  },
  {
   "cell_type": "code",
   "execution_count": 26,
   "metadata": {},
   "outputs": [],
   "source": [
    "properties['sar:observation_direction'] = 'right'\n",
    "properties['sar:instrument_mode'] = 'WIDE SWATH'\n",
    "properties['sar:frequency_band'] = 'X'\n",
    "properties['sar:center_frequency'] = '9.66'\n",
    "properties['sar:polarizations'] = 'HH'\n",
    "properties['sar:product_type'] = 'GTC'"
   ]
  },
  {
   "cell_type": "markdown",
   "metadata": {},
   "source": [
    "## Processing Level"
   ]
  },
  {
   "cell_type": "markdown",
   "metadata": {},
   "source": [
    "\n",
    "variable: proc:level\n",
    "\n",
    "xpath or method: /Auxiliary/Root/RadarFrequency\n",
    "\n",
    "field: N/A\n",
    "\n",
    "notes: Linked to sar:product_type -> (GTC PRODUCT Synonymous with Level 1D Product, GEC Synonymous with Level 1C Product), Ref. K5 SAR Products Attributes doc, V1.0 / 2014.04.01, page : 4/71)\n",
    "\n",
    "example: L1D\n",
    "\n",
    "-----------------------------------------------------"
   ]
  },
  {
   "cell_type": "code",
   "execution_count": 27,
   "metadata": {},
   "outputs": [],
   "source": [
    "properties['processing:level'] = 'L1D'"
   ]
  },
  {
   "cell_type": "markdown",
   "metadata": {},
   "source": [
    "## Time"
   ]
  },
  {
   "cell_type": "markdown",
   "metadata": {},
   "source": [
    "\n",
    "variable: start_datetime\n",
    "\n",
    "xpath or method: /Auxiliary/Root/SceneSensingStartUTC\n",
    "\n",
    "field: 2020-12-09 00:42:07.622462000\n",
    "\n",
    "notes: format to ISO\n",
    "\n",
    "example: 2020-12-09 00:42:07Z\n",
    "\n",
    "-----------------------------------------------------\n",
    "\n",
    "variable: end_datetime\n",
    "\n",
    "xpath or method: /Auxiliary/Root/SceneSensingStopUTC\n",
    "\n",
    "field: 2020-12-09 00:42:40.919068000\n",
    "\n",
    "notes: format to ISO\n",
    "\n",
    "example: 2020-12-09 00:42:40Z\n",
    "\n",
    "-----------------------------------------------------\n",
    "\n",
    "variable: datetime\n",
    "\n",
    "xpath or method: /Auxiliary/Root/ProductGenerationUTC\n",
    "\n",
    "field: 2020-12-10 00:25:58.000000000\n",
    "\n",
    "notes: format to ISO\n",
    "\n",
    "example: 2020-12-10 00:25:58Z\n",
    "\n",
    "-----------------------------------------------------\n",
    "\n",
    "```xml\n",
    "    <SceneSensingStartUTC>2020-12-09 00:42:07.622462000</SceneSensingStartUTC>\n",
    "    <SceneSensingStopUTC>2020-12-09 00:42:40.919068000</SceneSensingStopUTC>\n",
    "```"
   ]
  },
  {
   "cell_type": "code",
   "execution_count": 28,
   "metadata": {},
   "outputs": [],
   "source": [
    "properties['datetime'] = '2020-12-10T00:25:58Z'\n",
    "properties['start_datetime'] = '2020-12-09T00:42:07Z'\n",
    "properties['end_datetime'] = '2020-12-09T00:42:40Z'"
   ]
  },
  {
   "cell_type": "markdown",
   "metadata": {},
   "source": [
    "## Spatial Information"
   ]
  },
  {
   "cell_type": "markdown",
   "metadata": {},
   "source": [
    "\n",
    "variable: proj:epsg\n",
    "\n",
    "xpath or method: /Auxiliary/Root/EllipsoidDesignator, /Auxiliary/Root/ProjectionID, /Auxiliary/Root/MapProjectionZone\n",
    "\n",
    "field: N/A\n",
    "\n",
    "notes: Use these 3 fields to derive EPSG. E.g. (WGS84,UNIVERSAL TRANSVERSE MERCATOR,44)->EPSG=32644, (WGS84,UNIVERSAL TRANSVERSE MERCATOR,-50)->EPSG=32750\n",
    "\n",
    "example: 32644\n",
    "\n",
    "-----------------------------------------------------\n",
    "\n",
    "variable: proj:wkt2\n",
    "\n",
    "xpath or method: /Auxiliary/Root/MBI/XxxXxxGeodeticCoordinates XxxXxx=(BottomLedt,BottomRight,TopLeft,TopRight)\n",
    "\n",
    "field: N/A\n",
    "\n",
    "notes: find WKT2 from BBOX\n",
    "\n",
    "example: N/A\n",
    "\n",
    "-----------------------------------------------------"
   ]
  },
  {
   "cell_type": "code",
   "execution_count": 29,
   "metadata": {},
   "outputs": [],
   "source": [
    "properties['proj:epsg'] = 32644\n",
    "# properties['proj:wkt2'] = ''  ###TBD"
   ]
  },
  {
   "cell_type": "markdown",
   "metadata": {},
   "source": [
    "## SAR geometry"
   ]
  },
  {
   "cell_type": "markdown",
   "metadata": {},
   "source": [
    "\n",
    "variable: sar:resolution_range\n",
    "\n",
    "xpath or method: /Auxiliary/Root/GroundRangeGeometricResolution\n",
    "\n",
    "field: 16.43536290851652\n",
    "\n",
    "notes: Range resolution in meters (m)\n",
    "\n",
    "example: 16.43536290851652\n",
    "\n",
    "-----------------------------------------------------\n",
    "\n",
    "variable: sar:resolution_azimuth\n",
    "\n",
    "xpath or method: /Auxiliary/Root/AzimuthGeometricResolution\n",
    "\n",
    "field: 19.730255997459341\n",
    "\n",
    "notes: Azimuth resolution in meters (m)\n",
    "\n",
    "example: 19.730255997459341\n",
    "\n",
    "-----------------------------------------------------\n",
    "\n",
    "variable: sar:pixel_spacing_range\n",
    "\n",
    "xpath or method: /Auxiliary/Root/SubSwaths/SubSwath id=\"XX\"/GroundRangeInstrumentGeometricResolution\n",
    "\n",
    "field: 4.0627320771387661\n",
    "\n",
    "notes: Strongly RECOMMENDED for GRD\n",
    "\n",
    "example: 4.0627320771387661\n",
    "\n",
    "-----------------------------------------------------\n",
    "\n",
    "variable: sar:pixel_spacing_azimuth\n",
    "\n",
    "xpath or method: /Auxiliary/Root/SubSwaths/SubSwath id=\"XX\"/AzimuthInstrumentGeometricResolution\n",
    "\n",
    "field: 16.853239427553948\n",
    "\n",
    "notes: Strongly RECOMMENDED for GRD\n",
    "\n",
    "example: 16.853239427553948\n",
    "\n",
    "-----------------------------------------------------\n",
    "\n",
    "variable: sar:looks_range\n",
    "\n",
    "xpath or method: /Auxiliary/Root/Root/RangeProcessingNumberofLooks\n",
    "\n",
    "field: 7\n",
    "\n",
    "notes: number of looks perpendicular to the flight path\n",
    "\n",
    "example: 7\n",
    "\n",
    "-----------------------------------------------------\n",
    "\n",
    "variable: sar:looks_azimuth\n",
    "\n",
    "xpath or method: /Auxiliary/Root/Root/AzimuthProcessingNumberofLooks\n",
    "\n",
    "field: 1\n",
    "\n",
    "notes: number of looks parallel to the flight path\n",
    "\n",
    "example: 1\n",
    "\n",
    "-----------------------------------------------------\n",
    "\n",
    "variable: sar:looks_equivalent_number\n",
    "\n",
    "xpath or method: /Auxiliary/Root/MBI/EquivalentNumberofLooks\n",
    "\n",
    "field: 4.0476193428039551\n",
    "\n",
    "notes: The equivalent number of looks (ENL)\n",
    "\n",
    "example: 4.0476193428039551\n",
    "\n",
    "-----------------------------------------------------"
   ]
  },
  {
   "cell_type": "code",
   "execution_count": 30,
   "metadata": {},
   "outputs": [],
   "source": [
    "properties['sar:resolution_range'] = 16.43536290851652\n",
    "properties['sar:resolution_azimuth'] = 19.730255997459341\n",
    "properties['sar:pixel_spacing_range'] = 4.0627320771387661\n",
    "properties['sar:pixel_spacing_azimuth'] = 16.853239427553948\n",
    "properties['sar:looks_range'] = 7\n",
    "properties['sar:looks_azimuth'] = 1\n",
    "properties['sar:looks_equivalent_number'] = 4.0476193428039551"
   ]
  },
  {
   "cell_type": "markdown",
   "metadata": {},
   "source": [
    "## GSD"
   ]
  },
  {
   "cell_type": "markdown",
   "metadata": {},
   "source": [
    "Wide swath mode imagery, 100 km swath width At nominal incidence angle of 45º -> 20 m GSD"
   ]
  },
  {
   "cell_type": "code",
   "execution_count": 31,
   "metadata": {},
   "outputs": [],
   "source": [
    "properties['gsd'] = 20.0"
   ]
  },
  {
   "cell_type": "markdown",
   "metadata": {},
   "source": [
    "## Image Geometry"
   ]
  },
  {
   "cell_type": "markdown",
   "metadata": {},
   "source": [
    "Geometry information at: /Auxiliary/Root/SubSwaths/SubSwath/SBI>\n",
    "```xml\n",
    "    <TopLeftGeodeticCoordinates>8.5997569381504899, 79.502419753930653, -96.708727340610722</TopLeftGeodeticCoordinates>\n",
    "    <TopRightGeodeticCoordinates>8.60248389641262, 80.621019754110122, 56.472185919132002</TopRightGeodeticCoordinates>\n",
    "    <BottomRightGeodeticCoordinates>7.4736259647067236, 80.62206588155189, 275.36740178243844</BottomRightGeodeticCoordinates>\n",
    "    <BottomLeftGeodeticCoordinates>7.4712610779009792, 79.506551881741757, -98.916134332857993</BottomLeftGeodeticCoordinates>\n",
    "```"
   ]
  },
  {
   "cell_type": "code",
   "execution_count": 32,
   "metadata": {},
   "outputs": [],
   "source": [
    "p1 = Point(8.5997569381504899, 79.502419753930653)\n",
    "p2 = Point(8.60248389641262, 80.621019754110122)\n",
    "p3 = Point(7.4736259647067236, 80.62206588155189)\n",
    "p4 = Point(7.4712610779009792, 79.506551881741757)\n",
    "p5 = Point(8.5997569381504899, 79.502419753930653)"
   ]
  },
  {
   "cell_type": "code",
   "execution_count": 33,
   "metadata": {},
   "outputs": [],
   "source": [
    "footprint = Polygon([p.x, p.y] for p in [p1, p2, p3, p4, p5])"
   ]
  },
  {
   "cell_type": "code",
   "execution_count": 34,
   "metadata": {},
   "outputs": [
    {
     "data": {
      "image/svg+xml": [
       "<svg xmlns=\"http://www.w3.org/2000/svg\" xmlns:xlink=\"http://www.w3.org/1999/xlink\" width=\"100.0\" height=\"100.0\" viewBox=\"7.426012165160514 79.45717084119019 1.2217206439925716 1.2101439531021612\" preserveAspectRatio=\"xMinYMin meet\"><g transform=\"matrix(1,0,0,-1,0,160.12448563548253)\"><path fill-rule=\"evenodd\" fill=\"#66cc99\" stroke=\"#555555\" stroke-width=\"0.024434412879851434\" opacity=\"0.6\" d=\"M 8.59975693815049,79.50241975393065 L 8.60248389641262,80.62101975411012 L 7.473625964706724,80.62206588155189 L 7.471261077900979,79.50655188174176 L 8.59975693815049,79.50241975393065 z\" /></g></svg>"
      ],
      "text/plain": [
       "<shapely.geometry.polygon.Polygon at 0x7f90371fd150>"
      ]
     },
     "execution_count": 34,
     "metadata": {},
     "output_type": "execute_result"
    }
   ],
   "source": [
    "footprint"
   ]
  },
  {
   "cell_type": "code",
   "execution_count": 35,
   "metadata": {},
   "outputs": [
    {
     "data": {
      "text/plain": [
       "[7.471261077900979, 79.50241975393065, 8.60248389641262, 80.62206588155189]"
      ]
     },
     "execution_count": 35,
     "metadata": {},
     "output_type": "execute_result"
    }
   ],
   "source": [
    "bbox = list(footprint.bounds)\n",
    "\n",
    "bbox"
   ]
  },
  {
   "cell_type": "code",
   "execution_count": 36,
   "metadata": {},
   "outputs": [
    {
     "data": {
      "text/plain": [
       "{'type': 'Polygon',\n",
       " 'coordinates': (((8.59975693815049, 79.50241975393065),\n",
       "   (8.60248389641262, 80.62101975411012),\n",
       "   (7.473625964706724, 80.62206588155189),\n",
       "   (7.471261077900979, 79.50655188174176),\n",
       "   (8.59975693815049, 79.50241975393065)),)}"
      ]
     },
     "execution_count": 36,
     "metadata": {},
     "output_type": "execute_result"
    }
   ],
   "source": [
    "geometry = mapping(footprint)\n",
    "\n",
    "geometry"
   ]
  },
  {
   "cell_type": "markdown",
   "metadata": {},
   "source": [
    "## Item"
   ]
  },
  {
   "cell_type": "code",
   "execution_count": 37,
   "metadata": {},
   "outputs": [
    {
     "ename": "NameError",
     "evalue": "name 'item_id' is not defined",
     "output_type": "error",
     "traceback": [
      "\u001b[0;31m---------------------------------------------------------------------------\u001b[0m",
      "\u001b[0;31mNameError\u001b[0m                                 Traceback (most recent call last)",
      "\u001b[0;32m<ipython-input-37-c8b1dda48146>\u001b[0m in \u001b[0;36m<module>\u001b[0;34m\u001b[0m\n\u001b[0;32m----> 1\u001b[0;31m item = Item(id=item_id, \n\u001b[0m\u001b[1;32m      2\u001b[0m            \u001b[0mgeometry\u001b[0m\u001b[0;34m=\u001b[0m\u001b[0mmapping\u001b[0m\u001b[0;34m(\u001b[0m\u001b[0mfootprint\u001b[0m\u001b[0;34m)\u001b[0m\u001b[0;34m,\u001b[0m\u001b[0;34m\u001b[0m\u001b[0;34m\u001b[0m\u001b[0m\n\u001b[1;32m      3\u001b[0m            \u001b[0mbbox\u001b[0m\u001b[0;34m=\u001b[0m\u001b[0mbbox\u001b[0m\u001b[0;34m,\u001b[0m\u001b[0;34m\u001b[0m\u001b[0;34m\u001b[0m\u001b[0m\n\u001b[1;32m      4\u001b[0m            \u001b[0mdatetime\u001b[0m\u001b[0;34m=\u001b[0m\u001b[0mdatetime\u001b[0m\u001b[0;34m.\u001b[0m\u001b[0mstrptime\u001b[0m\u001b[0;34m(\u001b[0m\u001b[0mproperties\u001b[0m\u001b[0;34m[\u001b[0m\u001b[0;34m'datetime'\u001b[0m\u001b[0;34m]\u001b[0m\u001b[0;34m,\u001b[0m \u001b[0;34m'%Y-%m-%dT%H:%M:%SZ'\u001b[0m\u001b[0;34m)\u001b[0m\u001b[0;34m,\u001b[0m\u001b[0;34m\u001b[0m\u001b[0;34m\u001b[0m\u001b[0m\n\u001b[1;32m      5\u001b[0m            \u001b[0mproperties\u001b[0m\u001b[0;34m=\u001b[0m\u001b[0mproperties\u001b[0m\u001b[0;34m,\u001b[0m\u001b[0;34m\u001b[0m\u001b[0;34m\u001b[0m\u001b[0m\n",
      "\u001b[0;31mNameError\u001b[0m: name 'item_id' is not defined"
     ]
    }
   ],
   "source": [
    "item = Item(id=item_id, \n",
    "           geometry=mapping(footprint),\n",
    "           bbox=bbox,\n",
    "           datetime=datetime.strptime(properties['datetime'], '%Y-%m-%dT%H:%M:%SZ'),\n",
    "           properties=properties,\n",
    "           stac_extensions=['eo', 'sat', 'proj', 'sar', 'processing'])"
   ]
  },
  {
   "cell_type": "code",
   "execution_count": 18,
   "metadata": {},
   "outputs": [
    {
     "data": {
      "text/plain": [
       "<module 'pystac.item' from '/srv/conda/envs/env_kompsat_5/lib/python3.7/site-packages/pystac/item.py'>"
      ]
     },
     "execution_count": 18,
     "metadata": {},
     "output_type": "execute_result"
    }
   ],
   "source": [
    "item"
   ]
  },
  {
   "cell_type": "code",
   "execution_count": 19,
   "metadata": {},
   "outputs": [
    {
     "ename": "AttributeError",
     "evalue": "module 'pystac.item' has no attribute 'to_dict'",
     "output_type": "error",
     "traceback": [
      "\u001b[0;31m---------------------------------------------------------------------------\u001b[0m",
      "\u001b[0;31mAttributeError\u001b[0m                            Traceback (most recent call last)",
      "\u001b[0;32m<ipython-input-19-1468181d815e>\u001b[0m in \u001b[0;36m<module>\u001b[0;34m\u001b[0m\n\u001b[0;32m----> 1\u001b[0;31m \u001b[0mitem\u001b[0m\u001b[0;34m.\u001b[0m\u001b[0mto_dict\u001b[0m\u001b[0;34m(\u001b[0m\u001b[0;34m)\u001b[0m\u001b[0;34m\u001b[0m\u001b[0;34m\u001b[0m\u001b[0m\n\u001b[0m",
      "\u001b[0;31mAttributeError\u001b[0m: module 'pystac.item' has no attribute 'to_dict'"
     ]
    }
   ],
   "source": [
    "item.to_dict()"
   ]
  },
  {
   "cell_type": "code",
   "execution_count": 20,
   "metadata": {},
   "outputs": [],
   "source": [
    "asset = Asset(href='./{}'.format('K5_20210109220808_000010_40557_D_ES01_HH_GTC_B_L1D.tif'),\n",
    "              media_type=MediaType.GEOTIFF,\n",
    "              roles=['data'])"
   ]
  },
  {
   "cell_type": "code",
   "execution_count": 90,
   "metadata": {},
   "outputs": [
    {
     "data": {
      "text/plain": [
       "{'href': './K5_20210109220808_000010_40557_D_ES01_HH_GTC_B_L1D.tif',\n",
       " 'type': 'image/tiff; application=geotiff',\n",
       " 'roles': ['data']}"
      ]
     },
     "execution_count": 90,
     "metadata": {},
     "output_type": "execute_result"
    }
   ],
   "source": [
    "asset.to_dict()"
   ]
  },
  {
   "cell_type": "code",
   "execution_count": 91,
   "metadata": {},
   "outputs": [
    {
     "data": {
      "text/plain": [
       "<Item id=KMPS5_GTC_B_ES_10_HH_RD_P_20190916093251_20190916093256_20190918030009>"
      ]
     },
     "execution_count": 91,
     "metadata": {},
     "output_type": "execute_result"
    }
   ],
   "source": [
    "item.add_asset(key='data', asset=asset)"
   ]
  },
  {
   "cell_type": "code",
   "execution_count": 92,
   "metadata": {},
   "outputs": [
    {
     "data": {
      "text/plain": [
       "{'type': 'Feature',\n",
       " 'stac_version': '1.0.0-beta3',\n",
       " 'id': 'KMPS5_GTC_B_ES_10_HH_RD_P_20190916093251_20190916093256_20190918030009',\n",
       " 'properties': {'item_id': 'KMPS5_GTC_B_ES_10_HH_RD_P_20190916093251_20190916093256_20190918030009',\n",
       "  'mission': 'kompsat-5',\n",
       "  'platform': 'KMPS5',\n",
       "  'instruments': 'COSI',\n",
       "  'sat:orbit_state': 'ASCENDING',\n",
       "  'sat:absolute_orbit': '40077',\n",
       "  'sat:incidence_angle': '45',\n",
       "  'sar:observation_direction': 'right',\n",
       "  'sar:instrument_mode': 'WIDE SWATH',\n",
       "  'sar:frequency_band': 'X',\n",
       "  'sar:center_frequency': '9.66',\n",
       "  'sar:polarizations': 'HH',\n",
       "  'sar:product_type': 'GTC',\n",
       "  'proc:level': 'L1D',\n",
       "  'created': '2020-12-10 00:25:58Z',\n",
       "  'start_datetime': '2020-12-09T00:42:07Z',\n",
       "  'end_datetime': '2020-12-09T00:42:40Z',\n",
       "  'proj:epsg': 32644,\n",
       "  'sar:resolution_range': 16.43536290851652,\n",
       "  'sar:resolution_azimuth': 19.73025599745934,\n",
       "  'sar:pixel_spacing_range': 4.062732077138766,\n",
       "  'sar:pixel_spacing_azimuth': 16.853239427553948,\n",
       "  'sar:looks_range': 7,\n",
       "  'sar:looks_azimuth': 1,\n",
       "  'sar:looks_equivalent_number': 4.047619342803955,\n",
       "  'gsd': 20.0,\n",
       "  'datetime': '2020-12-10T00:25:58Z'},\n",
       " 'geometry': {'type': 'Polygon',\n",
       "  'coordinates': (((8.59975693815049, 79.50241975393065),\n",
       "    (8.60248389641262, 80.62101975411012),\n",
       "    (7.473625964706724, 80.62206588155189),\n",
       "    (7.471261077900979, 79.50655188174176),\n",
       "    (8.59975693815049, 79.50241975393065)),)},\n",
       " 'links': [],\n",
       " 'assets': {'data': {'href': './K5_20210109220808_000010_40557_D_ES01_HH_GTC_B_L1D.tif',\n",
       "   'type': 'image/tiff; application=geotiff',\n",
       "   'roles': ['data']}},\n",
       " 'bbox': [7.471261077900979,\n",
       "  79.50241975393065,\n",
       "  8.60248389641262,\n",
       "  80.62206588155189],\n",
       " 'stac_extensions': ['eo', 'sat', 'proj', 'sar', 'processing']}"
      ]
     },
     "execution_count": 92,
     "metadata": {},
     "output_type": "execute_result"
    }
   ],
   "source": [
    "item.to_dict()"
   ]
  },
  {
   "cell_type": "code",
   "execution_count": 93,
   "metadata": {},
   "outputs": [
    {
     "data": {
      "text/plain": [
       "<Item id=KMPS5_GTC_B_ES_10_HH_RD_P_20190916093251_20190916093256_20190918030009>"
      ]
     },
     "execution_count": 93,
     "metadata": {},
     "output_type": "execute_result"
    }
   ],
   "source": [
    "item.add_asset(key='metadata', asset=Asset(href='./{}'.format('K5_20210109220808_000010_40557_D_ES01_HH_GTC_B_L1D_Aux.xml'),\n",
    "              media_type=MediaType.XML,\n",
    "              roles=['metadata']))"
   ]
  },
  {
   "cell_type": "code",
   "execution_count": 94,
   "metadata": {},
   "outputs": [
    {
     "data": {
      "text/plain": [
       "{'type': 'Feature',\n",
       " 'stac_version': '1.0.0-beta3',\n",
       " 'id': 'KMPS5_GTC_B_ES_10_HH_RD_P_20190916093251_20190916093256_20190918030009',\n",
       " 'properties': {'item_id': 'KMPS5_GTC_B_ES_10_HH_RD_P_20190916093251_20190916093256_20190918030009',\n",
       "  'mission': 'kompsat-5',\n",
       "  'platform': 'KMPS5',\n",
       "  'instruments': 'COSI',\n",
       "  'sat:orbit_state': 'ASCENDING',\n",
       "  'sat:absolute_orbit': '40077',\n",
       "  'sat:incidence_angle': '45',\n",
       "  'sar:observation_direction': 'right',\n",
       "  'sar:instrument_mode': 'WIDE SWATH',\n",
       "  'sar:frequency_band': 'X',\n",
       "  'sar:center_frequency': '9.66',\n",
       "  'sar:polarizations': 'HH',\n",
       "  'sar:product_type': 'GTC',\n",
       "  'proc:level': 'L1D',\n",
       "  'created': '2020-12-10 00:25:58Z',\n",
       "  'start_datetime': '2020-12-09T00:42:07Z',\n",
       "  'end_datetime': '2020-12-09T00:42:40Z',\n",
       "  'proj:epsg': 32644,\n",
       "  'sar:resolution_range': 16.43536290851652,\n",
       "  'sar:resolution_azimuth': 19.73025599745934,\n",
       "  'sar:pixel_spacing_range': 4.062732077138766,\n",
       "  'sar:pixel_spacing_azimuth': 16.853239427553948,\n",
       "  'sar:looks_range': 7,\n",
       "  'sar:looks_azimuth': 1,\n",
       "  'sar:looks_equivalent_number': 4.047619342803955,\n",
       "  'gsd': 20.0,\n",
       "  'datetime': '2020-12-10T00:25:58Z'},\n",
       " 'geometry': {'type': 'Polygon',\n",
       "  'coordinates': (((8.59975693815049, 79.50241975393065),\n",
       "    (8.60248389641262, 80.62101975411012),\n",
       "    (7.473625964706724, 80.62206588155189),\n",
       "    (7.471261077900979, 79.50655188174176),\n",
       "    (8.59975693815049, 79.50241975393065)),)},\n",
       " 'links': [],\n",
       " 'assets': {'data': {'href': './K5_20210109220808_000010_40557_D_ES01_HH_GTC_B_L1D.tif',\n",
       "   'type': 'image/tiff; application=geotiff',\n",
       "   'roles': ['data']},\n",
       "  'metadata': {'href': './K5_20210109220808_000010_40557_D_ES01_HH_GTC_B_L1D_Aux.xml',\n",
       "   'type': 'application/xml',\n",
       "   'roles': ['metadata']}},\n",
       " 'bbox': [7.471261077900979,\n",
       "  79.50241975393065,\n",
       "  8.60248389641262,\n",
       "  80.62206588155189],\n",
       " 'stac_extensions': ['eo', 'sat', 'proj', 'sar', 'processing']}"
      ]
     },
     "execution_count": 94,
     "metadata": {},
     "output_type": "execute_result"
    }
   ],
   "source": [
    "item.to_dict()"
   ]
  },
  {
   "cell_type": "code",
   "execution_count": 95,
   "metadata": {},
   "outputs": [
    {
     "data": {
      "text/plain": [
       "<Item id=KMPS5_GTC_B_ES_10_HH_RD_P_20190916093251_20190916093256_20190918030009>"
      ]
     },
     "execution_count": 95,
     "metadata": {},
     "output_type": "execute_result"
    }
   ],
   "source": [
    "item.add_asset(key='overview', asset=Asset(href='./{}'.format('K5_20210109220808_000010_40557_D_ES01_HH_GTC_B_L1D_QL.png'),\n",
    "              media_type=MediaType.XML,\n",
    "              roles=['overview']))"
   ]
  },
  {
   "cell_type": "code",
   "execution_count": 96,
   "metadata": {},
   "outputs": [
    {
     "data": {
      "text/plain": [
       "{'type': 'Feature',\n",
       " 'stac_version': '1.0.0-beta3',\n",
       " 'id': 'KMPS5_GTC_B_ES_10_HH_RD_P_20190916093251_20190916093256_20190918030009',\n",
       " 'properties': {'item_id': 'KMPS5_GTC_B_ES_10_HH_RD_P_20190916093251_20190916093256_20190918030009',\n",
       "  'mission': 'kompsat-5',\n",
       "  'platform': 'KMPS5',\n",
       "  'instruments': 'COSI',\n",
       "  'sat:orbit_state': 'ASCENDING',\n",
       "  'sat:absolute_orbit': '40077',\n",
       "  'sat:incidence_angle': '45',\n",
       "  'sar:observation_direction': 'right',\n",
       "  'sar:instrument_mode': 'WIDE SWATH',\n",
       "  'sar:frequency_band': 'X',\n",
       "  'sar:center_frequency': '9.66',\n",
       "  'sar:polarizations': 'HH',\n",
       "  'sar:product_type': 'GTC',\n",
       "  'proc:level': 'L1D',\n",
       "  'created': '2020-12-10 00:25:58Z',\n",
       "  'start_datetime': '2020-12-09T00:42:07Z',\n",
       "  'end_datetime': '2020-12-09T00:42:40Z',\n",
       "  'proj:epsg': 32644,\n",
       "  'sar:resolution_range': 16.43536290851652,\n",
       "  'sar:resolution_azimuth': 19.73025599745934,\n",
       "  'sar:pixel_spacing_range': 4.062732077138766,\n",
       "  'sar:pixel_spacing_azimuth': 16.853239427553948,\n",
       "  'sar:looks_range': 7,\n",
       "  'sar:looks_azimuth': 1,\n",
       "  'sar:looks_equivalent_number': 4.047619342803955,\n",
       "  'gsd': 20.0,\n",
       "  'datetime': '2020-12-10T00:25:58Z'},\n",
       " 'geometry': {'type': 'Polygon',\n",
       "  'coordinates': (((8.59975693815049, 79.50241975393065),\n",
       "    (8.60248389641262, 80.62101975411012),\n",
       "    (7.473625964706724, 80.62206588155189),\n",
       "    (7.471261077900979, 79.50655188174176),\n",
       "    (8.59975693815049, 79.50241975393065)),)},\n",
       " 'links': [],\n",
       " 'assets': {'data': {'href': './K5_20210109220808_000010_40557_D_ES01_HH_GTC_B_L1D.tif',\n",
       "   'type': 'image/tiff; application=geotiff',\n",
       "   'roles': ['data']},\n",
       "  'metadata': {'href': './K5_20210109220808_000010_40557_D_ES01_HH_GTC_B_L1D_Aux.xml',\n",
       "   'type': 'application/xml',\n",
       "   'roles': ['metadata']},\n",
       "  'overview': {'href': './K5_20210109220808_000010_40557_D_ES01_HH_GTC_B_L1D_QL.png',\n",
       "   'type': 'application/xml',\n",
       "   'roles': ['overview']}},\n",
       " 'bbox': [7.471261077900979,\n",
       "  79.50241975393065,\n",
       "  8.60248389641262,\n",
       "  80.62206588155189],\n",
       " 'stac_extensions': ['eo', 'sat', 'proj', 'sar', 'processing']}"
      ]
     },
     "execution_count": 96,
     "metadata": {},
     "output_type": "execute_result"
    }
   ],
   "source": [
    "item.to_dict()"
   ]
  },
  {
   "cell_type": "code",
   "execution_count": 97,
   "metadata": {},
   "outputs": [],
   "source": [
    "write_file(item, include_self_link=True, dest_href=f'MetadataExtractorsTests_{item.id}.json')"
   ]
  },
  {
   "cell_type": "code",
   "execution_count": null,
   "metadata": {},
   "outputs": [],
   "source": []
  }
 ],
 "metadata": {
  "kernelspec": {
   "display_name": "env_kompsat_5",
   "language": "python",
   "name": "env_kompsat_5"
  },
  "language_info": {
   "codemirror_mode": {
    "name": "ipython",
    "version": 3
   },
   "file_extension": ".py",
   "mimetype": "text/x-python",
   "name": "python",
   "nbconvert_exporter": "python",
   "pygments_lexer": "ipython3",
   "version": "3.7.9"
  }
 },
 "nbformat": 4,
 "nbformat_minor": 4
}