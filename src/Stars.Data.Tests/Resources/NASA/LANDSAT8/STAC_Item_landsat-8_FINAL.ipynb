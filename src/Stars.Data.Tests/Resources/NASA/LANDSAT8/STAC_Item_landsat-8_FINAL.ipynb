{
 "cells": [
  {
   "cell_type": "code",
   "execution_count": 1,
   "metadata": {},
   "outputs": [],
   "source": [
    "import os\n",
    "import csv\n",
    "import gzip\n",
    "from io import StringIO\n",
    "from urllib.request import urlopen\n",
    "from dateutil.parser import parse\n",
    "from shapely import geometry\n",
    "from pystac.extensions.eo import Band\n",
    "from pystac import *\n",
    "from shapely.geometry import Point, Polygon, mapping\n",
    "import json\n",
    "from datetime import datetime\n",
    "\n",
    "os.chdir('/workspace/terradue.data/Test/Resources/LANDSAT8/')"
   ]
  },
  {
   "cell_type": "markdown",
   "metadata": {},
   "source": [
    "## Read Metadata MTL.txt"
   ]
  },
  {
   "cell_type": "code",
   "execution_count": 2,
   "metadata": {},
   "outputs": [],
   "source": [
    "mtl_txt = 'L1T/data/LC80330352013157LGN00/LC80330352013157LGN00_MTL.txt'\n",
    "\n",
    "mtl_dict = {} \n",
    "\n",
    "# creating dictionary \n",
    "with open(mtl_txt) as f: \n",
    "    \n",
    "    for line in f.read().splitlines()[:-1]: # all lines but last one finishing in 'END'\n",
    "        # reads each line, split command and description\n",
    "        command, description = line.strip().split(' = ')\n",
    "        \n",
    "        # write to dict only actual metadata variables, not GROUP nor END_GROUP\n",
    "        if command != 'GROUP' and command != 'END_GROUP': mtl_dict[command] = description.strip('\"')\n",
    "\n",
    "# # To write out to file (not necessary)\n",
    "# out_file = open(\"test1.json\", \"w\") \n",
    "# json.dump(mtl_dict, out_file, indent = 4, sort_keys = False) \n",
    "# out_file.close()\n",
    "\n",
    "# mtl_dict"
   ]
  },
  {
   "cell_type": "code",
   "execution_count": 3,
   "metadata": {},
   "outputs": [
    {
     "name": "stdout",
     "output_type": "stream",
     "text": [
      "Help on function __init__ in module pystac.item:\n",
      "\n",
      "__init__(self, id, geometry, bbox, datetime, properties, stac_extensions=None, href=None, collection=None, extra_fields=None)\n",
      "    Initialize self.  See help(type(self)) for accurate signature.\n",
      "\n"
     ]
    }
   ],
   "source": [
    "# Call the pystac help to see what's required\n",
    "help(pystac.Item.__init__)"
   ]
  },
  {
   "cell_type": "markdown",
   "metadata": {},
   "source": [
    "## Get Identifier"
   ]
  },
  {
   "cell_type": "code",
   "execution_count": 4,
   "metadata": {},
   "outputs": [
    {
     "data": {
      "text/plain": [
       "'LC80330352013157LGN00'"
      ]
     },
     "execution_count": 4,
     "metadata": {},
     "output_type": "execute_result"
    }
   ],
   "source": [
    "item_id = mtl_dict['LANDSAT_SCENE_ID']\n",
    "item_id"
   ]
  },
  {
   "cell_type": "markdown",
   "metadata": {},
   "source": [
    "## Get Image Geometry and BBOX\n"
   ]
  },
  {
   "cell_type": "code",
   "execution_count": 5,
   "metadata": {},
   "outputs": [
    {
     "name": "stdout",
     "output_type": "stream",
     "text": [
      "POINT (-106.85401 37.03264)\n",
      "POINT (-104.28029 37.04494)\n",
      "POINT (-104.29837 35.03275)\n",
      "POINT (-106.80746 35.02132)\n",
      "POINT (-106.85401 37.03264)\n"
     ]
    }
   ],
   "source": [
    "p1 = Point(float(mtl_dict['CORNER_UL_LON_PRODUCT']), float(mtl_dict['CORNER_UL_LAT_PRODUCT'])); print(p1)\n",
    "p2 = Point(float(mtl_dict['CORNER_UR_LON_PRODUCT']), float(mtl_dict['CORNER_UR_LAT_PRODUCT'])); print(p2)\n",
    "p3 = Point(float(mtl_dict['CORNER_LR_LON_PRODUCT']), float(mtl_dict['CORNER_LR_LAT_PRODUCT'])); print(p3)\n",
    "p4 = Point(float(mtl_dict['CORNER_LL_LON_PRODUCT']), float(mtl_dict['CORNER_LL_LAT_PRODUCT'])); print(p4)\n",
    "p5 = Point(float(mtl_dict['CORNER_UL_LON_PRODUCT']), float(mtl_dict['CORNER_UL_LAT_PRODUCT'])); print(p5)"
   ]
  },
  {
   "cell_type": "code",
   "execution_count": 6,
   "metadata": {},
   "outputs": [
    {
     "data": {
      "image/svg+xml": [
       "<svg xmlns=\"http://www.w3.org/2000/svg\" xmlns:xlink=\"http://www.w3.org/1999/xlink\" width=\"100.0\" height=\"100.0\" viewBox=\"-106.95695880000001 34.9183712 2.779617600000023 2.229517599999994\" preserveAspectRatio=\"xMinYMin meet\"><g transform=\"matrix(1,0,0,-1,0,72.06626)\"><path fill-rule=\"evenodd\" fill=\"#66cc99\" stroke=\"#555555\" stroke-width=\"0.05559235200000046\" opacity=\"0.6\" d=\"M -106.85401,37.03264 L -104.28029,37.04494 L -104.29837,35.03275 L -106.80746,35.02132 L -106.85401,37.03264 z\" /></g></svg>"
      ],
      "text/plain": [
       "<shapely.geometry.polygon.Polygon at 0x7fa8e0a7a2d0>"
      ]
     },
     "execution_count": 6,
     "metadata": {},
     "output_type": "execute_result"
    }
   ],
   "source": [
    "footprint = Polygon([p.x, p.y] for p in [p1, p2, p3, p4, p5])\n",
    "\n",
    "footprint"
   ]
  },
  {
   "cell_type": "code",
   "execution_count": 7,
   "metadata": {},
   "outputs": [
    {
     "data": {
      "text/plain": [
       "[-106.85401, 35.02132, -104.28029, 37.04494]"
      ]
     },
     "execution_count": 7,
     "metadata": {},
     "output_type": "execute_result"
    }
   ],
   "source": [
    "bbox = list(footprint.bounds)\n",
    "\n",
    "bbox"
   ]
  },
  {
   "cell_type": "code",
   "execution_count": 8,
   "metadata": {},
   "outputs": [
    {
     "data": {
      "text/plain": [
       "{'type': 'Polygon',\n",
       " 'coordinates': (((-106.85401, 37.03264),\n",
       "   (-104.28029, 37.04494),\n",
       "   (-104.29837, 35.03275),\n",
       "   (-106.80746, 35.02132),\n",
       "   (-106.85401, 37.03264)),)}"
      ]
     },
     "metadata": {},
     "output_type": "display_data"
    }
   ],
   "source": [
    "geometry = mapping(footprint)\n",
    "\n",
    "display(geometry)\n",
    "# print(json.dumps(geometry, indent=2))"
   ]
  },
  {
   "cell_type": "markdown",
   "metadata": {},
   "source": [
    "## Get Date and Time"
   ]
  },
  {
   "cell_type": "code",
   "execution_count": 9,
   "metadata": {},
   "outputs": [
    {
     "data": {
      "text/plain": [
       "datetime.datetime(2013, 6, 6, 22, 9, 28)"
      ]
     },
     "execution_count": 9,
     "metadata": {},
     "output_type": "execute_result"
    }
   ],
   "source": [
    "datetime = datetime.strptime(mtl_dict['FILE_DATE'], '%Y-%m-%dT%H:%M:%SZ')\n",
    "datetime"
   ]
  },
  {
   "cell_type": "markdown",
   "metadata": {},
   "source": [
    "## Create the Item"
   ]
  },
  {
   "cell_type": "code",
   "execution_count": 10,
   "metadata": {},
   "outputs": [],
   "source": [
    "# !pip install pystac[validation] # we should add these to the environment.yml if it's needed."
   ]
  },
  {
   "cell_type": "code",
   "execution_count": 11,
   "metadata": {},
   "outputs": [],
   "source": [
    "item = pystac.Item(id=item_id, \n",
    "                   geometry=mapping(footprint),\n",
    "                   bbox=bbox,\n",
    "                   datetime=datetime,\n",
    "                   properties={})\n",
    "item.validate()"
   ]
  },
  {
   "cell_type": "code",
   "execution_count": 12,
   "metadata": {},
   "outputs": [
    {
     "data": {
      "text/plain": [
       "15.0"
      ]
     },
     "execution_count": 12,
     "metadata": {},
     "output_type": "execute_result"
    }
   ],
   "source": [
    "# Add Ground Sample Distance\n",
    "item.common_metadata.gsd = float(min(mtl_dict['GRID_CELL_SIZE_PANCHROMATIC'], mtl_dict['GRID_CELL_SIZE_REFLECTIVE'], mtl_dict['GRID_CELL_SIZE_THERMAL']))\n",
    "item.common_metadata.gsd"
   ]
  },
  {
   "cell_type": "code",
   "execution_count": 13,
   "metadata": {},
   "outputs": [],
   "source": [
    "# Add the EO Extension \n",
    "item.ext.enable('eo')"
   ]
  },
  {
   "cell_type": "code",
   "execution_count": 14,
   "metadata": {},
   "outputs": [
    {
     "data": {
      "text/plain": [
       "12.55"
      ]
     },
     "execution_count": 14,
     "metadata": {},
     "output_type": "execute_result"
    }
   ],
   "source": [
    "# Add Cloud Cover\n",
    "item.ext.eo.cloud_cover = float(mtl_dict['CLOUD_COVER'])\n",
    "item.ext.eo.cloud_cover"
   ]
  },
  {
   "cell_type": "markdown",
   "metadata": {},
   "source": [
    "## Add Assets"
   ]
  },
  {
   "cell_type": "code",
   "execution_count": 15,
   "metadata": {},
   "outputs": [
    {
     "data": {
      "text/plain": [
       "{'B1': {'href': 'LC80330352013157LGN00/LC80330352013157LGN00_B1.TIF',\n",
       "  'type': 'image/tiff; application=geotiff',\n",
       "  'band': <Band name=B1>,\n",
       "  'gsd': 30.0,\n",
       "  'title': 'Band 1 (coastal)'},\n",
       " 'B2': {'href': 'LC80330352013157LGN00/LC80330352013157LGN00_B2.TIF',\n",
       "  'type': 'image/tiff; application=geotiff',\n",
       "  'band': <Band name=B2>,\n",
       "  'gsd': 30.0,\n",
       "  'title': 'Band 2 (blue)'},\n",
       " 'B3': {'href': 'LC80330352013157LGN00/LC80330352013157LGN00_B3.TIF',\n",
       "  'type': 'image/tiff; application=geotiff',\n",
       "  'band': <Band name=B3>,\n",
       "  'gsd': 30.0,\n",
       "  'title': 'Band 3 (green)'},\n",
       " 'B4': {'href': 'LC80330352013157LGN00/LC80330352013157LGN00_B4.TIF',\n",
       "  'type': 'image/tiff; application=geotiff',\n",
       "  'band': <Band name=B4>,\n",
       "  'gsd': 30.0,\n",
       "  'title': 'Band 4 (red)'},\n",
       " 'B5': {'href': 'LC80330352013157LGN00/LC80330352013157LGN00_B5.TIF',\n",
       "  'type': 'image/tiff; application=geotiff',\n",
       "  'band': <Band name=B5>,\n",
       "  'gsd': 30.0,\n",
       "  'title': 'Band 5 (nir)'},\n",
       " 'B6': {'href': 'LC80330352013157LGN00/LC80330352013157LGN00_B6.TIF',\n",
       "  'type': 'image/tiff; application=geotiff',\n",
       "  'band': <Band name=B6>,\n",
       "  'gsd': 30.0,\n",
       "  'title': 'Band 6 (swir16)'},\n",
       " 'B7': {'href': 'LC80330352013157LGN00/LC80330352013157LGN00_B7.TIF',\n",
       "  'type': 'image/tiff; application=geotiff',\n",
       "  'band': <Band name=B7>,\n",
       "  'gsd': 30.0,\n",
       "  'title': 'Band 7 (swir22)'},\n",
       " 'B8': {'href': 'LC80330352013157LGN00/LC80330352013157LGN00_B8.TIF',\n",
       "  'type': 'image/tiff; application=geotiff',\n",
       "  'band': <Band name=B8>,\n",
       "  'gsd': 15.0,\n",
       "  'title': 'Band 8 (pan)'},\n",
       " 'B9': {'href': 'LC80330352013157LGN00/LC80330352013157LGN00_B9.TIF',\n",
       "  'type': 'image/tiff; application=geotiff',\n",
       "  'band': <Band name=B9>,\n",
       "  'gsd': 30.0,\n",
       "  'title': 'Band 9 (cirrus)'},\n",
       " 'B10': {'href': 'LC80330352013157LGN00/LC80330352013157LGN00_B10.TIF',\n",
       "  'type': 'image/tiff; application=geotiff',\n",
       "  'band': <Band name=B10>,\n",
       "  'gsd': 100.0,\n",
       "  'title': 'Band 10 (lwir11)'},\n",
       " 'B11': {'href': 'LC80330352013157LGN00/LC80330352013157LGN00_B11.TIF',\n",
       "  'type': 'image/tiff; application=geotiff',\n",
       "  'band': <Band name=B11>,\n",
       "  'gsd': 100.0,\n",
       "  'title': 'Band 11 (lwir12)'}}"
      ]
     },
     "execution_count": 15,
     "metadata": {},
     "output_type": "execute_result"
    }
   ],
   "source": [
    "from pystac.extensions.eo import Band\n",
    "\n",
    "l8_band_info = {\n",
    "    'B1':{\n",
    "        'href':'{}/{}'.format(item_id,mtl_dict['FILE_NAME_BAND_1']),\n",
    "        'type':pystac.MediaType.GEOTIFF,\n",
    "        'band':pystac.extensions.eo.Band.create(name=\"B1\",\n",
    "                                                common_name=\"coastal\", \n",
    "                                                center_wavelength=0.44, \n",
    "                                                full_width_half_max=0.02),\n",
    "        'gsd': 30.0,\n",
    "        'title':'Band 1 (coastal)'\n",
    "    },\n",
    "    \n",
    "    'B2':{\n",
    "        'href':'{}/{}'.format(item_id,mtl_dict['FILE_NAME_BAND_2']),\n",
    "        'type':pystac.MediaType.GEOTIFF,\n",
    "        'band':pystac.extensions.eo.Band.create(name=\"B2\",\n",
    "                                                common_name=\"blue\", \n",
    "                                                center_wavelength=0.48, \n",
    "                                                full_width_half_max=0.06),\n",
    "        'gsd': 30.0,\n",
    "        'title':'Band 2 (blue)'\n",
    "    },\n",
    "    \n",
    "    'B3':{\n",
    "        'href':'{}/{}'.format(item_id,mtl_dict['FILE_NAME_BAND_3']),\n",
    "        'type':pystac.MediaType.GEOTIFF,\n",
    "        'band':pystac.extensions.eo.Band.create(name=\"B3\",\n",
    "                                                common_name=\"green\", \n",
    "                                                center_wavelength=0.56, \n",
    "                                                full_width_half_max=0.06),\n",
    "        'gsd': 30.0,\n",
    "        'title':'Band 3 (green)'\n",
    "    },\n",
    "    \n",
    "    'B4':{\n",
    "        'href':'{}/{}'.format(item_id,mtl_dict['FILE_NAME_BAND_4']),\n",
    "        'type':pystac.MediaType.GEOTIFF,\n",
    "        'band':pystac.extensions.eo.Band.create(name=\"B4\",\n",
    "                                                common_name=\"red\", \n",
    "                                                center_wavelength=0.65, \n",
    "                                                full_width_half_max=0.04),\n",
    "        'gsd': 30.0,\n",
    "        'title':'Band 4 (red)'\n",
    "    },\n",
    "    \n",
    "    'B5':{\n",
    "        'href':'{}/{}'.format(item_id,mtl_dict['FILE_NAME_BAND_5']),\n",
    "        'type':pystac.MediaType.GEOTIFF,\n",
    "        'band':pystac.extensions.eo.Band.create(name=\"B5\",\n",
    "                                                common_name=\"nir\", \n",
    "                                                center_wavelength=0.86, \n",
    "                                                full_width_half_max=0.03),\n",
    "        'gsd': 30.0,\n",
    "        'title':'Band 5 (nir)'\n",
    "    },\n",
    "    \n",
    "    'B6':{\n",
    "        'href':'{}/{}'.format(item_id,mtl_dict['FILE_NAME_BAND_6']),\n",
    "        'type':pystac.MediaType.GEOTIFF,\n",
    "        'band':pystac.extensions.eo.Band.create(name=\"B6\",\n",
    "                                                common_name=\"swir16\", \n",
    "                                                center_wavelength=1.6, \n",
    "                                                full_width_half_max=0.08),\n",
    "        'gsd': 30.0,\n",
    "        'title':'Band 6 (swir16)'\n",
    "    },\n",
    "    \n",
    "    'B7':{\n",
    "        'href':'{}/{}'.format(item_id,mtl_dict['FILE_NAME_BAND_7']),\n",
    "        'type':pystac.MediaType.GEOTIFF,\n",
    "        'band':pystac.extensions.eo.Band.create(name=\"B7\",\n",
    "                                                common_name=\"swir22\", \n",
    "                                                center_wavelength=2.2, \n",
    "                                                full_width_half_max=0.2),\n",
    "        'gsd': 30.0,\n",
    "        'title':'Band 7 (swir22)'\n",
    "    },\n",
    "    \n",
    "    'B8':{\n",
    "        'href':'{}/{}'.format(item_id,mtl_dict['FILE_NAME_BAND_8']),\n",
    "        'type':pystac.MediaType.GEOTIFF,\n",
    "        'band':pystac.extensions.eo.Band.create(name=\"B8\",\n",
    "                                                common_name=\"pan\", \n",
    "                                                center_wavelength=0.59, \n",
    "                                                full_width_half_max=0.18),\n",
    "        'gsd': 15.0,\n",
    "        'title':'Band 8 (pan)'\n",
    "    },\n",
    "    \n",
    "    'B9':{\n",
    "        'href':'{}/{}'.format(item_id,mtl_dict['FILE_NAME_BAND_9']),\n",
    "        'type':pystac.MediaType.GEOTIFF,\n",
    "        'band':pystac.extensions.eo.Band.create(name=\"B9\",\n",
    "                                                common_name=\"cirrus\", \n",
    "                                                center_wavelength=1.37, \n",
    "                                                full_width_half_max=0.02),\n",
    "        'gsd': 30.0,\n",
    "        'title':'Band 9 (cirrus)'\n",
    "    },\n",
    "    \n",
    "    'B10':{\n",
    "        'href':'{}/{}'.format(item_id,mtl_dict['FILE_NAME_BAND_10']),\n",
    "        'type':pystac.MediaType.GEOTIFF,\n",
    "        'band':pystac.extensions.eo.Band.create(name=\"B10\",\n",
    "                                                common_name=\"lwir11\", \n",
    "                                                center_wavelength=10.9, \n",
    "                                                full_width_half_max=0.8),\n",
    "        'gsd': 100.0,\n",
    "        'title':'Band 10 (lwir11)'\n",
    "    },\n",
    "    \n",
    "    'B11':{\n",
    "        'href':'{}/{}'.format(item_id,mtl_dict['FILE_NAME_BAND_11']),\n",
    "        'type':pystac.MediaType.GEOTIFF,\n",
    "        'band':pystac.extensions.eo.Band.create(name=\"B11\",\n",
    "                                                common_name=\"lwir12\", \n",
    "                                                center_wavelength=12, \n",
    "                                                full_width_half_max=1),\n",
    "        'gsd': 100.0,\n",
    "        'title':'Band 11 (lwir12)'\n",
    "    }\n",
    "\n",
    "}\n",
    "l8_band_info"
   ]
  },
  {
   "cell_type": "code",
   "execution_count": 16,
   "metadata": {},
   "outputs": [],
   "source": [
    "# Other Assets\n",
    "\n",
    "\"\"\"Note the hrefs are not defined properly. Either edit and use the \n",
    "function below (taken from here: https://pystac.readthedocs.io/en/latest/tutorials/creating-a-landsat-stac.html)\n",
    "), or define the href directly in the dictionary such as it's been \n",
    "done for BQA and MTL\"\"\"\n",
    "\n",
    "# def get_asset_url(scene, suffix):\n",
    "#     product_id = scene['productId']\n",
    "#     download_url = scene['download_url']\n",
    "#     asset_filename = '{}_{}'.format(product_id, suffix)\n",
    "#     return download_url.replace('index.html', asset_filename)\n",
    "\n",
    "#def get_other_assets(scene):\n",
    "def get_other_assets():\n",
    "    return {\n",
    "            'BQA':{\n",
    "                'href':'{}/{}'.format(item_id,mtl_dict['FILE_NAME_BAND_QUALITY']),\n",
    "                'media_type':pystac.MediaType.GEOTIFF,\n",
    "                'title':'Band QA'\n",
    "            },\n",
    "            'MTL':{\n",
    "                'href':'{}/{}'.format(item_id,mtl_dict['METADATA_FILE_NAME']),\n",
    "                'media_type':'text/plain',\n",
    "                'title':'MTL'\n",
    "            }\n",
    "#             \"\"\",\n",
    "#             'thumbnail': {\n",
    "#                 'href': get_asset_url(scene, 'thumb_large.jpg'),\n",
    "#                 'media_type': pystac.MediaType.JPEG\n",
    "#             },\n",
    "#             'index': {\n",
    "#                 'href': get_asset_url(scene, 'index.html'),\n",
    "#                 'media_type': 'application/html'\n",
    "#             },\n",
    "#             'ANG': {\n",
    "#                 'href': get_asset_url(scene, 'ANG.txt'),\n",
    "#                 'media_type': 'text/plain'\n",
    "#             }\"\"\"\n",
    "    }"
   ]
  },
  {
   "cell_type": "code",
   "execution_count": 17,
   "metadata": {},
   "outputs": [
    {
     "data": {
      "text/plain": [
       "{'B1': <Asset href=LC80330352013157LGN00/LC80330352013157LGN00_B1.TIF>,\n",
       " 'B2': <Asset href=LC80330352013157LGN00/LC80330352013157LGN00_B2.TIF>,\n",
       " 'B3': <Asset href=LC80330352013157LGN00/LC80330352013157LGN00_B3.TIF>,\n",
       " 'B4': <Asset href=LC80330352013157LGN00/LC80330352013157LGN00_B4.TIF>,\n",
       " 'B5': <Asset href=LC80330352013157LGN00/LC80330352013157LGN00_B5.TIF>,\n",
       " 'B6': <Asset href=LC80330352013157LGN00/LC80330352013157LGN00_B6.TIF>,\n",
       " 'B7': <Asset href=LC80330352013157LGN00/LC80330352013157LGN00_B7.TIF>,\n",
       " 'B8': <Asset href=LC80330352013157LGN00/LC80330352013157LGN00_B8.TIF>,\n",
       " 'B9': <Asset href=LC80330352013157LGN00/LC80330352013157LGN00_B9.TIF>,\n",
       " 'B10': <Asset href=LC80330352013157LGN00/LC80330352013157LGN00_B10.TIF>,\n",
       " 'B11': <Asset href=LC80330352013157LGN00/LC80330352013157LGN00_B11.TIF>,\n",
       " 'BQA': <Asset href=LC80330352013157LGN00/LC80330352013157LGN00_BQA.TIF>,\n",
       " 'MTL': <Asset href=LC80330352013157LGN00/LC80330352013157LGN00_MTL.txt>}"
      ]
     },
     "metadata": {},
     "output_type": "display_data"
    }
   ],
   "source": [
    "# Add assets bands to the item\n",
    "for band_id, band_info in l8_band_info.items():\n",
    "    bands = [band_info['band']]\n",
    "    asset = pystac.Asset(href=band_info['href'],\n",
    "                         media_type=band_info['type'],\n",
    "                         roles=['data'])\n",
    "    item.ext.eo.set_bands(bands, asset)\n",
    "    #item.ext.eo.gsd(bands, band_info['gsd'])\n",
    "    item.add_asset(band_id, asset)\n",
    "\n",
    "# Add other assets\n",
    "for asset_id, asset_info in get_other_assets().items(): #get_other_assets(scene)\n",
    "    asset = pystac.Asset(href=asset_info['href'], \n",
    "                         media_type=asset_info['media_type'])\n",
    "    item.add_asset(asset_id,asset)\n",
    "    \n",
    "display(item.assets)"
   ]
  },
  {
   "cell_type": "code",
   "execution_count": 18,
   "metadata": {},
   "outputs": [
    {
     "data": {
      "text/plain": [
       "{'href': 'LC80330352013157LGN00/LC80330352013157LGN00_B4.TIF',\n",
       " 'type': 'image/tiff; application=geotiff',\n",
       " 'eo:bands': [{'name': 'B4',\n",
       "   'common_name': 'red',\n",
       "   'center_wavelength': 0.65,\n",
       "   'full_width_half_max': 0.04}],\n",
       " 'roles': ['data']}"
      ]
     },
     "metadata": {},
     "output_type": "display_data"
    },
    {
     "data": {
      "text/plain": [
       "{'href': 'LC80330352013157LGN00/LC80330352013157LGN00_MTL.txt',\n",
       " 'type': 'text/plain'}"
      ]
     },
     "metadata": {},
     "output_type": "display_data"
    }
   ],
   "source": [
    "# print an example to dictionary\n",
    "display(item.assets['B4'].to_dict())\n",
    "\n",
    "# print an example to dictionary\n",
    "display(item.assets['MTL'].to_dict())"
   ]
  },
  {
   "cell_type": "code",
   "execution_count": 19,
   "metadata": {},
   "outputs": [],
   "source": [
    "item.validate()"
   ]
  },
  {
   "cell_type": "code",
   "execution_count": null,
   "metadata": {},
   "outputs": [],
   "source": []
  },
  {
   "cell_type": "markdown",
   "metadata": {},
   "source": [
    "## Add Projection Information"
   ]
  },
  {
   "cell_type": "code",
   "execution_count": 20,
   "metadata": {},
   "outputs": [
    {
     "data": {
      "text/plain": [
       "32613"
      ]
     },
     "execution_count": 20,
     "metadata": {},
     "output_type": "execute_result"
    }
   ],
   "source": [
    "# Get epsg code\n",
    "def get_epsg(metadata, min_lat, max_lat):\n",
    "    if 'UTM_ZONE' in metadata:\n",
    "        center_lat = (min_lat + max_lat)/2.0\n",
    "        return int(('326' if center_lat > 0 else '327') + metadata['UTM_ZONE'])\n",
    "    else:\n",
    "        return None\n",
    "\n",
    "item.ext.enable('projection')\n",
    "item.ext.projection.epsg = get_epsg(mtl_dict, item.bbox[1], item.bbox[3])\n",
    "item.ext.projection.epsg"
   ]
  },
  {
   "cell_type": "code",
   "execution_count": null,
   "metadata": {},
   "outputs": [],
   "source": []
  },
  {
   "cell_type": "markdown",
   "metadata": {},
   "source": [
    "## Add Viewing Information"
   ]
  },
  {
   "cell_type": "code",
   "execution_count": 21,
   "metadata": {},
   "outputs": [
    {
     "data": {
      "text/plain": [
       "{'datetime': '2013-06-06T22:09:28Z',\n",
       " 'gsd': 15.0,\n",
       " 'eo:cloud_cover': 12.55,\n",
       " 'proj:epsg': 32613,\n",
       " 'view:sun_azimuth': 121.50951213,\n",
       " 'view:sun_elevation': 68.15928707}"
      ]
     },
     "execution_count": 21,
     "metadata": {},
     "output_type": "execute_result"
    }
   ],
   "source": [
    "item.ext.enable('view')\n",
    "item.ext.view.sun_azimuth = float(mtl_dict['SUN_AZIMUTH'])\n",
    "item.ext.view.sun_elevation = float(mtl_dict['SUN_ELEVATION'])\n",
    "\n",
    "item.properties"
   ]
  },
  {
   "cell_type": "code",
   "execution_count": 22,
   "metadata": {},
   "outputs": [
    {
     "data": {
      "text/plain": [
       "{'datetime': '2013-06-06T22:09:28Z',\n",
       " 'gsd': 15.0,\n",
       " 'eo:cloud_cover': 12.55,\n",
       " 'proj:epsg': 32613,\n",
       " 'view:sun_azimuth': 121.50951213,\n",
       " 'view:sun_elevation': 68.15928707,\n",
       " 'view:off_nadir': 0.0,\n",
       " 'view:incidence_angle': 0.0}"
      ]
     },
     "execution_count": 22,
     "metadata": {},
     "output_type": "execute_result"
    }
   ],
   "source": [
    "# Add NADIR/OFFNADIR information\n",
    "# if it's at NADIR, the incidente angle is 0. If Off-NADIR, the incident angle is the ROLL_ANGLE\n",
    "if mtl_dict['NADIR_OFFNADIR'] == 'NADIR':\n",
    "    item.ext.view.off_nadir = 0.0\n",
    "    item.ext.view.incidence_angle = 0.0\n",
    "    \n",
    "else:\n",
    "    item.ext.view.off_nadir = mtl_dict['ROLL_ANGLE']\n",
    "    item.ext.view.incidence_angle = mtl_dict['ROLL_ANGLE']\n",
    "\n",
    "item.properties"
   ]
  },
  {
   "cell_type": "code",
   "execution_count": 23,
   "metadata": {},
   "outputs": [],
   "source": [
    "item.validate()"
   ]
  },
  {
   "cell_type": "markdown",
   "metadata": {},
   "source": [
    "## Add Properties"
   ]
  },
  {
   "cell_type": "code",
   "execution_count": 24,
   "metadata": {},
   "outputs": [
    {
     "data": {
      "text/plain": [
       "{'datetime': '2013-06-06T22:09:28Z',\n",
       " 'gsd': 15.0,\n",
       " 'eo:cloud_cover': 12.55,\n",
       " 'proj:epsg': 32613,\n",
       " 'view:sun_azimuth': 121.50951213,\n",
       " 'view:sun_elevation': 68.15928707,\n",
       " 'view:off_nadir': 0.0,\n",
       " 'view:incidence_angle': 0.0,\n",
       " 'platform': 'landsat-8',\n",
       " 'title': 'LC80330352013157LGN00',\n",
       " 'product_type': 'L1T',\n",
       " 'instruments': ['oli', 'tirs'],\n",
       " 'landsat:path': 33,\n",
       " 'landsat:row': 35,\n",
       " 'landsat:relative_orbit': 33,\n",
       " 'landsat:orbit_state': 'DESCENDING'}"
      ]
     },
     "execution_count": 24,
     "metadata": {},
     "output_type": "execute_result"
    }
   ],
   "source": [
    "item.common_metadata.platform = mtl_dict['SPACECRAFT_ID'].lower().replace('_','-')\n",
    "\n",
    "# Generic properties\n",
    "item.properties['gsd'] = item.common_metadata.gsd\n",
    "item.properties['title'] = item_id\n",
    "item.properties['product_type'] = mtl_dict['DATA_TYPE']\n",
    "item.properties['platform'] = mtl_dict['SPACECRAFT_ID'].lower().replace('_','-')\n",
    "item.properties['instruments'] = mtl_dict['SENSOR_ID'].lower().split('_')\n",
    "\n",
    "# Add landsat properties\n",
    "item.properties['landsat:path'] = int(mtl_dict['WRS_PATH'])\n",
    "item.properties['landsat:row'] = int(mtl_dict['WRS_ROW'])\n",
    "item.properties['landsat:relative_orbit'] = item.properties['landsat:path']\n",
    "# add orbit_state\n",
    "item.properties['landsat:orbit_state'] = 'DESCENDING' # for datetime acquisition, and ASCENDING for nighttime only\n",
    "\n",
    "# add landsat to the stac_extensions list\n",
    "item.stac_extensions.append('landsat')\n",
    "\n",
    "item.properties"
   ]
  },
  {
   "cell_type": "code",
   "execution_count": 25,
   "metadata": {},
   "outputs": [],
   "source": [
    "item.validate()"
   ]
  },
  {
   "cell_type": "code",
   "execution_count": null,
   "metadata": {},
   "outputs": [],
   "source": []
  },
  {
   "cell_type": "markdown",
   "metadata": {},
   "source": [
    "## Write out to file "
   ]
  },
  {
   "cell_type": "code",
   "execution_count": 26,
   "metadata": {},
   "outputs": [
    {
     "data": {
      "text/plain": [
       "{'type': 'Feature',\n",
       " 'stac_version': '1.0.0-beta3',\n",
       " 'id': 'LC80330352013157LGN00',\n",
       " 'properties': {'datetime': '2013-06-06T22:09:28Z',\n",
       "  'gsd': 15.0,\n",
       "  'eo:cloud_cover': 12.55,\n",
       "  'proj:epsg': 32613,\n",
       "  'view:sun_azimuth': 121.50951213,\n",
       "  'view:sun_elevation': 68.15928707,\n",
       "  'view:off_nadir': 0.0,\n",
       "  'view:incidence_angle': 0.0,\n",
       "  'platform': 'landsat-8',\n",
       "  'title': 'LC80330352013157LGN00',\n",
       "  'product_type': 'L1T',\n",
       "  'instruments': ['oli', 'tirs'],\n",
       "  'landsat:path': 33,\n",
       "  'landsat:row': 35,\n",
       "  'landsat:relative_orbit': 33,\n",
       "  'landsat:orbit_state': 'DESCENDING'},\n",
       " 'geometry': {'type': 'Polygon',\n",
       "  'coordinates': (((-106.85401, 37.03264),\n",
       "    (-104.28029, 37.04494),\n",
       "    (-104.29837, 35.03275),\n",
       "    (-106.80746, 35.02132),\n",
       "    (-106.85401, 37.03264)),)},\n",
       " 'links': [],\n",
       " 'assets': {'B1': {'href': 'LC80330352013157LGN00/LC80330352013157LGN00_B1.TIF',\n",
       "   'type': 'image/tiff; application=geotiff',\n",
       "   'eo:bands': [{'name': 'B1',\n",
       "     'common_name': 'coastal',\n",
       "     'center_wavelength': 0.44,\n",
       "     'full_width_half_max': 0.02}],\n",
       "   'roles': ['data']},\n",
       "  'B2': {'href': 'LC80330352013157LGN00/LC80330352013157LGN00_B2.TIF',\n",
       "   'type': 'image/tiff; application=geotiff',\n",
       "   'eo:bands': [{'name': 'B2',\n",
       "     'common_name': 'blue',\n",
       "     'center_wavelength': 0.48,\n",
       "     'full_width_half_max': 0.06}],\n",
       "   'roles': ['data']},\n",
       "  'B3': {'href': 'LC80330352013157LGN00/LC80330352013157LGN00_B3.TIF',\n",
       "   'type': 'image/tiff; application=geotiff',\n",
       "   'eo:bands': [{'name': 'B3',\n",
       "     'common_name': 'green',\n",
       "     'center_wavelength': 0.56,\n",
       "     'full_width_half_max': 0.06}],\n",
       "   'roles': ['data']},\n",
       "  'B4': {'href': 'LC80330352013157LGN00/LC80330352013157LGN00_B4.TIF',\n",
       "   'type': 'image/tiff; application=geotiff',\n",
       "   'eo:bands': [{'name': 'B4',\n",
       "     'common_name': 'red',\n",
       "     'center_wavelength': 0.65,\n",
       "     'full_width_half_max': 0.04}],\n",
       "   'roles': ['data']},\n",
       "  'B5': {'href': 'LC80330352013157LGN00/LC80330352013157LGN00_B5.TIF',\n",
       "   'type': 'image/tiff; application=geotiff',\n",
       "   'eo:bands': [{'name': 'B5',\n",
       "     'common_name': 'nir',\n",
       "     'center_wavelength': 0.86,\n",
       "     'full_width_half_max': 0.03}],\n",
       "   'roles': ['data']},\n",
       "  'B6': {'href': 'LC80330352013157LGN00/LC80330352013157LGN00_B6.TIF',\n",
       "   'type': 'image/tiff; application=geotiff',\n",
       "   'eo:bands': [{'name': 'B6',\n",
       "     'common_name': 'swir16',\n",
       "     'center_wavelength': 1.6,\n",
       "     'full_width_half_max': 0.08}],\n",
       "   'roles': ['data']},\n",
       "  'B7': {'href': 'LC80330352013157LGN00/LC80330352013157LGN00_B7.TIF',\n",
       "   'type': 'image/tiff; application=geotiff',\n",
       "   'eo:bands': [{'name': 'B7',\n",
       "     'common_name': 'swir22',\n",
       "     'center_wavelength': 2.2,\n",
       "     'full_width_half_max': 0.2}],\n",
       "   'roles': ['data']},\n",
       "  'B8': {'href': 'LC80330352013157LGN00/LC80330352013157LGN00_B8.TIF',\n",
       "   'type': 'image/tiff; application=geotiff',\n",
       "   'eo:bands': [{'name': 'B8',\n",
       "     'common_name': 'pan',\n",
       "     'center_wavelength': 0.59,\n",
       "     'full_width_half_max': 0.18}],\n",
       "   'roles': ['data']},\n",
       "  'B9': {'href': 'LC80330352013157LGN00/LC80330352013157LGN00_B9.TIF',\n",
       "   'type': 'image/tiff; application=geotiff',\n",
       "   'eo:bands': [{'name': 'B9',\n",
       "     'common_name': 'cirrus',\n",
       "     'center_wavelength': 1.37,\n",
       "     'full_width_half_max': 0.02}],\n",
       "   'roles': ['data']},\n",
       "  'B10': {'href': 'LC80330352013157LGN00/LC80330352013157LGN00_B10.TIF',\n",
       "   'type': 'image/tiff; application=geotiff',\n",
       "   'eo:bands': [{'name': 'B10',\n",
       "     'common_name': 'lwir11',\n",
       "     'center_wavelength': 10.9,\n",
       "     'full_width_half_max': 0.8}],\n",
       "   'roles': ['data']},\n",
       "  'B11': {'href': 'LC80330352013157LGN00/LC80330352013157LGN00_B11.TIF',\n",
       "   'type': 'image/tiff; application=geotiff',\n",
       "   'eo:bands': [{'name': 'B11',\n",
       "     'common_name': 'lwir12',\n",
       "     'center_wavelength': 12,\n",
       "     'full_width_half_max': 1}],\n",
       "   'roles': ['data']},\n",
       "  'BQA': {'href': 'LC80330352013157LGN00/LC80330352013157LGN00_BQA.TIF',\n",
       "   'type': 'image/tiff; application=geotiff'},\n",
       "  'MTL': {'href': 'LC80330352013157LGN00/LC80330352013157LGN00_MTL.txt',\n",
       "   'type': 'text/plain'}},\n",
       " 'bbox': [-106.85401, 35.02132, -104.28029, 37.04494],\n",
       " 'stac_extensions': ['eo', 'projection', 'view', 'landsat']}"
      ]
     },
     "execution_count": 26,
     "metadata": {},
     "output_type": "execute_result"
    }
   ],
   "source": [
    "item.to_dict()"
   ]
  },
  {
   "cell_type": "code",
   "execution_count": 27,
   "metadata": {},
   "outputs": [
    {
     "name": "stdout",
     "output_type": "stream",
     "text": [
      "STAC item created successfully.\n"
     ]
    }
   ],
   "source": [
    "write_file(item, include_self_link=True, dest_href=f'L1T/MetadataExtractorsTests_{item.id}_v2.json')\n",
    "print('STAC item created successfully.')"
   ]
  },
  {
   "cell_type": "code",
   "execution_count": null,
   "metadata": {},
   "outputs": [],
   "source": []
  },
  {
   "cell_type": "code",
   "execution_count": null,
   "metadata": {},
   "outputs": [],
   "source": []
  }
 ],
 "metadata": {
  "kernelspec": {
   "display_name": "Python [conda env:env_kompsat_5]",
   "language": "python",
   "name": "conda-env-env_kompsat_5-py"
  },
  "language_info": {
   "codemirror_mode": {
    "name": "ipython",
    "version": 3
   },
   "file_extension": ".py",
   "mimetype": "text/x-python",
   "name": "python",
   "nbconvert_exporter": "python",
   "pygments_lexer": "ipython3",
   "version": "3.7.9"
  }
 },
 "nbformat": 4,
 "nbformat_minor": 4
}
