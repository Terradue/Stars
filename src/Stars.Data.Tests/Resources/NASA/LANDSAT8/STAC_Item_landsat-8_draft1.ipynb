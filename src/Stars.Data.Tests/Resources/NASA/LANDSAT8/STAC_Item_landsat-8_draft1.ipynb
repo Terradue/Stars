{
 "cells": [
  {
   "cell_type": "code",
   "execution_count": 35,
   "metadata": {},
   "outputs": [],
   "source": [
    "import os\n",
    "import csv\n",
    "import gzip\n",
    "from io import StringIO\n",
    "from urllib.request import urlopen\n",
    "from dateutil.parser import parse\n",
    "from shapely import geometry\n",
    "from pystac.extensions.eo import Band\n",
    "from pystac import *\n",
    "from shapely.geometry import Point, Polygon, mapping\n",
    "import json\n",
    "from datetime import datetime\n",
    "\n",
    "os.chdir('/workspace/terradue.data/Test/Resources/LANDSAT8/')"
   ]
  },
  {
   "cell_type": "markdown",
   "metadata": {
    "collapsed": "true"
   },
   "source": [
    "## Function to read file from URL location"
   ]
  },
  {
   "cell_type": "code",
   "execution_count": null,
   "metadata": {},
   "outputs": [],
   "source": [
    "url_test = 'https://s3-us-west-2.amazonaws.com/landsat-pds/c1/L8/149/039/LC08_L1TP_149039_20170411_20170415_01_T1/index.html'"
   ]
  },
  {
   "cell_type": "code",
   "execution_count": null,
   "metadata": {},
   "outputs": [],
   "source": [
    "def get_asset_url(scene, suffix):\n",
    "    product_id = scene['productId']\n",
    "    download_url = scene['download_url']\n",
    "    asset_filename = '{}_{}'.format(product_id, suffix)\n",
    "    return download_url.replace('index.html', asset_filename)"
   ]
  },
  {
   "cell_type": "code",
   "execution_count": null,
   "metadata": {},
   "outputs": [],
   "source": [
    "scene_list = 'vendor_metadata/LC80330352013157LGN00_MTL.txt'"
   ]
  },
  {
   "cell_type": "code",
   "execution_count": null,
   "metadata": {},
   "outputs": [],
   "source": [
    "# def get_scenes(scene_list):\n",
    "\n",
    "scenes = None\n",
    "\n",
    "if scene_list is not None:\n",
    "\n",
    "    if os.path.exists(scene_list):\n",
    "        print('read from file')\n",
    "        #with open(scene_list, 'r') as file:\n",
    "        #    content = file.read()\n",
    "\n",
    "        scenes = list(csv.DictReader(open(scene_list)))\n",
    "\n",
    "else:\n",
    "\n",
    "    # Collection 1 data from URL\n",
    "    url = 'https://landsat-pds.s3.amazonaws.com/c1/L8/scene_list.gz'\n",
    "\n",
    "    # Read and unzip the content\n",
    "    response = urlopen(url)\n",
    "    gunzip_response = gzip.GzipFile(fileobj=response)\n",
    "    content = gunzip_response.read()\n",
    "    \n",
    "    # Read the scenes in as dictionaries\n",
    "    scenes = list(csv.DictReader(StringIO(content.decode(\"utf-8\"))))\n",
    "\n",
    "scenes\n",
    "# return scenes\n"
   ]
  },
  {
   "cell_type": "code",
   "execution_count": null,
   "metadata": {},
   "outputs": [],
   "source": [
    "scenes"
   ]
  },
  {
   "cell_type": "code",
   "execution_count": null,
   "metadata": {},
   "outputs": [],
   "source": []
  },
  {
   "cell_type": "code",
   "execution_count": null,
   "metadata": {},
   "outputs": [],
   "source": []
  },
  {
   "cell_type": "code",
   "execution_count": null,
   "metadata": {},
   "outputs": [],
   "source": []
  },
  {
   "cell_type": "code",
   "execution_count": null,
   "metadata": {},
   "outputs": [],
   "source": []
  },
  {
   "cell_type": "code",
   "execution_count": null,
   "metadata": {},
   "outputs": [],
   "source": []
  },
  {
   "cell_type": "code",
   "execution_count": null,
   "metadata": {},
   "outputs": [],
   "source": []
  },
  {
   "cell_type": "code",
   "execution_count": null,
   "metadata": {},
   "outputs": [],
   "source": []
  },
  {
   "cell_type": "code",
   "execution_count": null,
   "metadata": {},
   "outputs": [],
   "source": []
  },
  {
   "cell_type": "code",
   "execution_count": null,
   "metadata": {},
   "outputs": [],
   "source": []
  },
  {
   "cell_type": "markdown",
   "metadata": {
    "collapsed": "true"
   },
   "source": [
    "## Read Metadata MTL.txt"
   ]
  },
  {
   "cell_type": "code",
   "execution_count": 2,
   "metadata": {},
   "outputs": [],
   "source": [
    "mtl_txt = 'vendor_metadata/LC80330352013157LGN00_MTL.txt'\n",
    "\n",
    "mtl_dict = {} \n",
    "\n",
    "# creating dictionary \n",
    "with open(mtl_txt) as f: \n",
    "    \n",
    "    for line in f.read().splitlines()[:-1]: # all lines but last one finishing in 'END'\n",
    "        # reads each line, split command and description\n",
    "        command, description = line.strip().split(' = ')\n",
    "        \n",
    "        # write to dict only actual metadata variables, not GROUP nor END_GROUP\n",
    "        if command != 'GROUP' and command != 'END_GROUP': mtl_dict[command] = description.strip('\"')\n",
    "\n",
    "# # To write out to file (not necessary)\n",
    "# out_file = open(\"test1.json\", \"w\") \n",
    "# json.dump(mtl_dict, out_file, indent = 4, sort_keys = False) \n",
    "# out_file.close()\n",
    "\n",
    "# mtl_dict"
   ]
  },
  {
   "cell_type": "code",
   "execution_count": 3,
   "metadata": {},
   "outputs": [
    {
     "name": "stdout",
     "output_type": "stream",
     "text": [
      "Help on function __init__ in module pystac.item:\n",
      "\n",
      "__init__(self, id, geometry, bbox, datetime, properties, stac_extensions=None, href=None, collection=None, extra_fields=None)\n",
      "    Initialize self.  See help(type(self)) for accurate signature.\n",
      "\n"
     ]
    }
   ],
   "source": [
    "# Call the pystac help to see what's required\n",
    "help(pystac.Item.__init__)"
   ]
  },
  {
   "cell_type": "markdown",
   "metadata": {},
   "source": [
    "## Get Identifier"
   ]
  },
  {
   "cell_type": "code",
   "execution_count": 4,
   "metadata": {},
   "outputs": [
    {
     "data": {
      "text/plain": [
       "{'id': 'LC80330352013157LGN00',\n",
       " 'ORIGIN': 'Image courtesy of the U.S. Geological Survey',\n",
       " 'REQUEST_ID': '0501306063923_00028'}"
      ]
     },
     "execution_count": 4,
     "metadata": {},
     "output_type": "execute_result"
    }
   ],
   "source": [
    "mtl_file_info = {}\n",
    "item_id = mtl_dict['LANDSAT_SCENE_ID']\n",
    "\n",
    "mtl_file_info['id'] = item_id\n",
    "mtl_file_info['ORIGIN'] = mtl_dict['ORIGIN']\n",
    "mtl_file_info['REQUEST_ID'] = mtl_dict['REQUEST_ID']\n",
    "mtl_file_info"
   ]
  },
  {
   "cell_type": "markdown",
   "metadata": {},
   "source": [
    "## Get Image Geometry and BBOX\n"
   ]
  },
  {
   "cell_type": "code",
   "execution_count": 5,
   "metadata": {},
   "outputs": [
    {
     "name": "stdout",
     "output_type": "stream",
     "text": [
      "POINT (37.03264 -106.85401)\n",
      "POINT (37.04494 -104.28029)\n",
      "POINT (35.03275 -104.29837)\n",
      "POINT (35.02132 -106.80746)\n",
      "POINT (37.03264 -106.85401)\n"
     ]
    }
   ],
   "source": [
    "p1 = Point(float(mtl_dict['CORNER_UL_LAT_PRODUCT']), float(mtl_dict['CORNER_UL_LON_PRODUCT'])); print(p1)\n",
    "p2 = Point(float(mtl_dict['CORNER_UR_LAT_PRODUCT']), float(mtl_dict['CORNER_UR_LON_PRODUCT'])); print(p2)\n",
    "p3 = Point(float(mtl_dict['CORNER_LR_LAT_PRODUCT']), float(mtl_dict['CORNER_LR_LON_PRODUCT'])); print(p3)\n",
    "p4 = Point(float(mtl_dict['CORNER_LL_LAT_PRODUCT']), float(mtl_dict['CORNER_LL_LON_PRODUCT'])); print(p4)\n",
    "p5 = Point(float(mtl_dict['CORNER_UL_LAT_PRODUCT']), float(mtl_dict['CORNER_UL_LON_PRODUCT'])); print(p5)"
   ]
  },
  {
   "cell_type": "code",
   "execution_count": 6,
   "metadata": {},
   "outputs": [
    {
     "data": {
      "image/svg+xml": [
       "<svg xmlns=\"http://www.w3.org/2000/svg\" xmlns:xlink=\"http://www.w3.org/1999/xlink\" width=\"100.0\" height=\"100.0\" viewBox=\"34.9183712 -106.95695880000001 2.229517599999994 2.779617600000023\" preserveAspectRatio=\"xMinYMin meet\"><g transform=\"matrix(1,0,0,-1,0,-211.1343)\"><path fill-rule=\"evenodd\" fill=\"#66cc99\" stroke=\"#555555\" stroke-width=\"0.05559235200000046\" opacity=\"0.6\" d=\"M 37.03264,-106.85401 L 37.04494,-104.28029 L 35.03275,-104.29837 L 35.02132,-106.80746 L 37.03264,-106.85401 z\" /></g></svg>"
      ],
      "text/plain": [
       "<shapely.geometry.polygon.Polygon at 0x7f327c4e8150>"
      ]
     },
     "execution_count": 6,
     "metadata": {},
     "output_type": "execute_result"
    }
   ],
   "source": [
    "footprint = Polygon([p.x, p.y] for p in [p1, p2, p3, p4, p5])\n",
    "\n",
    "footprint"
   ]
  },
  {
   "cell_type": "code",
   "execution_count": 7,
   "metadata": {},
   "outputs": [
    {
     "data": {
      "text/plain": [
       "[35.02132, -106.85401, 37.04494, -104.28029]"
      ]
     },
     "execution_count": 7,
     "metadata": {},
     "output_type": "execute_result"
    }
   ],
   "source": [
    "bbox = list(footprint.bounds)\n",
    "\n",
    "bbox"
   ]
  },
  {
   "cell_type": "code",
   "execution_count": 8,
   "metadata": {},
   "outputs": [
    {
     "data": {
      "text/plain": [
       "{'type': 'Polygon',\n",
       " 'coordinates': (((37.03264, -106.85401),\n",
       "   (37.04494, -104.28029),\n",
       "   (35.03275, -104.29837),\n",
       "   (35.02132, -106.80746),\n",
       "   (37.03264, -106.85401)),)}"
      ]
     },
     "metadata": {},
     "output_type": "display_data"
    }
   ],
   "source": [
    "geometry = mapping(footprint)\n",
    "\n",
    "display(geometry)\n",
    "# print(json.dumps(geometry, indent=2))"
   ]
  },
  {
   "cell_type": "code",
   "execution_count": 9,
   "metadata": {},
   "outputs": [],
   "source": [
    "geometry['CORNER_UL_PROJECTION_X_PRODUCT'] = mtl_dict['CORNER_UL_PROJECTION_X_PRODUCT']\n",
    "geometry['CORNER_UL_PROJECTION_Y_PRODUCT'] = mtl_dict['CORNER_UL_PROJECTION_Y_PRODUCT']\n",
    "geometry['CORNER_UR_PROJECTION_X_PRODUCT'] = mtl_dict['CORNER_UR_PROJECTION_X_PRODUCT']\n",
    "geometry['CORNER_UR_PROJECTION_Y_PRODUCT'] = mtl_dict['CORNER_UR_PROJECTION_Y_PRODUCT']\n",
    "geometry['CORNER_LL_PROJECTION_X_PRODUCT'] = mtl_dict['CORNER_LL_PROJECTION_X_PRODUCT']\n",
    "geometry['CORNER_LL_PROJECTION_Y_PRODUCT'] = mtl_dict['CORNER_LL_PROJECTION_Y_PRODUCT']\n",
    "geometry['CORNER_LR_PROJECTION_X_PRODUCT'] = mtl_dict['CORNER_LR_PROJECTION_X_PRODUCT']\n",
    "geometry['CORNER_LR_PROJECTION_Y_PRODUCT'] = mtl_dict['CORNER_LR_PROJECTION_Y_PRODUCT']"
   ]
  },
  {
   "cell_type": "markdown",
   "metadata": {},
   "source": [
    "## Date and Time"
   ]
  },
  {
   "cell_type": "code",
   "execution_count": 10,
   "metadata": {},
   "outputs": [
    {
     "data": {
      "text/plain": [
       "{'DATE_ACQUIRED': '2013-06-06',\n",
       " 'datetime': datetime.datetime(2013, 6, 6, 22, 9, 28),\n",
       " 'SCENE_CENTER_TIME': '17:40:31.7519495Z'}"
      ]
     },
     "execution_count": 10,
     "metadata": {},
     "output_type": "execute_result"
    }
   ],
   "source": [
    "date_and_time = {}\n",
    "date_and_time['DATE_ACQUIRED'] = mtl_dict['DATE_ACQUIRED']\n",
    "date_and_time['datetime'] = datetime.strptime(mtl_dict['FILE_DATE'], '%Y-%m-%dT%H:%M:%SZ')\n",
    "date_and_time['SCENE_CENTER_TIME'] = mtl_dict['SCENE_CENTER_TIME']\n",
    "date_and_time"
   ]
  },
  {
   "cell_type": "markdown",
   "metadata": {},
   "source": [
    "## Properties"
   ]
  },
  {
   "cell_type": "code",
   "execution_count": 11,
   "metadata": {},
   "outputs": [],
   "source": [
    "properties = {}"
   ]
  },
  {
   "cell_type": "markdown",
   "metadata": {},
   "source": [
    "### Projection Information"
   ]
  },
  {
   "cell_type": "code",
   "execution_count": 12,
   "metadata": {},
   "outputs": [
    {
     "data": {
      "text/plain": [
       "{'MAP_PROJECTION': 'UTM',\n",
       " 'DATUM': 'WGS84',\n",
       " 'ELLIPSOID': 'WGS84',\n",
       " 'UTM_ZONE': '13',\n",
       " 'GRID_CELL_SIZE_PANCHROMATIC': '15.00',\n",
       " 'GRID_CELL_SIZE_REFLECTIVE': '30.00',\n",
       " 'GRID_CELL_SIZE_THERMAL': '30.00',\n",
       " 'ORIENTATION': 'NORTH_UP',\n",
       " 'RESAMPLING_OPTION': 'CUBIC_CONVOLUTION'}"
      ]
     },
     "execution_count": 12,
     "metadata": {},
     "output_type": "execute_result"
    }
   ],
   "source": [
    "# proj = {}\n",
    "properties['MAP_PROJECTION'] = mtl_dict['MAP_PROJECTION']\n",
    "properties['DATUM'] = mtl_dict['DATUM']\n",
    "properties['ELLIPSOID'] = mtl_dict['ELLIPSOID']\n",
    "properties['UTM_ZONE'] = mtl_dict['UTM_ZONE']\n",
    "properties['GRID_CELL_SIZE_PANCHROMATIC'] = mtl_dict['GRID_CELL_SIZE_PANCHROMATIC']\n",
    "properties['GRID_CELL_SIZE_REFLECTIVE'] = mtl_dict['GRID_CELL_SIZE_REFLECTIVE']\n",
    "properties['GRID_CELL_SIZE_THERMAL'] = mtl_dict['GRID_CELL_SIZE_THERMAL']\n",
    "properties['ORIENTATION'] = mtl_dict['ORIENTATION']\n",
    "properties['RESAMPLING_OPTION'] = mtl_dict['RESAMPLING_OPTION']\n",
    "properties"
   ]
  },
  {
   "cell_type": "markdown",
   "metadata": {},
   "source": [
    "### Mission Info"
   ]
  },
  {
   "cell_type": "code",
   "execution_count": 13,
   "metadata": {},
   "outputs": [],
   "source": [
    "properties['platform'] = mtl_dict['SPACECRAFT_ID']\n",
    "properties['instrument'] = mtl_dict['SENSOR_ID']\n",
    "properties['WRS_PATH'] = mtl_dict['WRS_PATH']\n",
    "properties['WRS_ROW'] = mtl_dict['WRS_ROW']\n",
    "properties['NADIR'] = mtl_dict['NADIR_OFFNADIR']\n",
    "properties['TARGET_WRS_PATH'] = mtl_dict['TARGET_WRS_PATH']\n",
    "properties['TARGET_WRS_ROW'] = mtl_dict['TARGET_WRS_ROW']\n",
    "\n",
    "properties['STATION_ID'] = mtl_dict['STATION_ID']\n",
    "properties['PROCESSING_SOFTWARE_VERSION'] = mtl_dict['PROCESSING_SOFTWARE_VERSION']"
   ]
  },
  {
   "cell_type": "markdown",
   "metadata": {},
   "source": [
    "### Format"
   ]
  },
  {
   "cell_type": "code",
   "execution_count": 14,
   "metadata": {},
   "outputs": [],
   "source": [
    "properties['DATA_TYPE'] = mtl_dict['DATA_TYPE']\n",
    "properties['ELEVATION_SOURCE'] = mtl_dict['ELEVATION_SOURCE']\n",
    "properties['OUTPUT_FORMAT'] = mtl_dict['OUTPUT_FORMAT']\n",
    "\n",
    "properties['PANCHROMATIC_LINES'] = mtl_dict['PANCHROMATIC_LINES']\n",
    "properties['PANCHROMATIC_SAMPLES'] = mtl_dict['PANCHROMATIC_SAMPLES']\n",
    "properties['REFLECTIVE_LINES'] = mtl_dict['REFLECTIVE_LINES']\n",
    "properties['REFLECTIVE_SAMPLES'] = mtl_dict['REFLECTIVE_SAMPLES']\n",
    "properties['THERMAL_LINES'] = mtl_dict['THERMAL_LINES']\n",
    "properties['THERMAL_SAMPLES'] = mtl_dict['THERMAL_SAMPLES']"
   ]
  },
  {
   "cell_type": "markdown",
   "metadata": {},
   "source": [
    "### Image Attributes"
   ]
  },
  {
   "cell_type": "code",
   "execution_count": 15,
   "metadata": {},
   "outputs": [],
   "source": [
    "# attributes = {}\n",
    "properties['CLOUD_COVER'] = mtl_dict['CLOUD_COVER']\n",
    "properties['IMAGE_QUALITY_OLI'] = mtl_dict['IMAGE_QUALITY_OLI']\n",
    "properties['IMAGE_QUALITY_TIRS'] = mtl_dict['IMAGE_QUALITY_TIRS']\n",
    "properties['ROLL_ANGLE'] = mtl_dict['ROLL_ANGLE']\n",
    "properties['SUN_AZIMUTH'] = mtl_dict['SUN_AZIMUTH']\n",
    "properties['SUN_ELEVATION'] = mtl_dict['SUN_ELEVATION']\n",
    "properties['EARTH_SUN_DISTANCE'] = mtl_dict['EARTH_SUN_DISTANCE']\n",
    "properties['GROUND_CONTROL_POINTS_MODEL'] = mtl_dict['GROUND_CONTROL_POINTS_MODEL']\n",
    "properties['GEOMETRIC_RMSE_MODEL'] = mtl_dict['GEOMETRIC_RMSE_MODEL']\n",
    "properties['GEOMETRIC_RMSE_MODEL_Y'] = mtl_dict['GEOMETRIC_RMSE_MODEL_Y']\n",
    "properties['GEOMETRIC_RMSE_MODEL_X'] = mtl_dict['GEOMETRIC_RMSE_MODEL_X']\n",
    "properties['GROUND_CONTROL_POINTS_VERIFY'] = mtl_dict['GROUND_CONTROL_POINTS_VERIFY']\n",
    "properties['GEOMETRIC_RMSE_VERIFY'] = mtl_dict['GEOMETRIC_RMSE_VERIFY']"
   ]
  },
  {
   "cell_type": "markdown",
   "metadata": {},
   "source": [
    "### File names"
   ]
  },
  {
   "cell_type": "code",
   "execution_count": 16,
   "metadata": {},
   "outputs": [],
   "source": [
    "properties['METADATA_FILE_NAME'] = mtl_dict['METADATA_FILE_NAME']\n",
    "properties['BPF_NAME_OLI'] = mtl_dict['BPF_NAME_OLI']\n",
    "properties['BPF_NAME_TIRS'] = mtl_dict['BPF_NAME_TIRS']\n",
    "properties['CPF_NAME'] = mtl_dict['CPF_NAME']\n",
    "properties['RLUT_FILE_NAME'] = mtl_dict['RLUT_FILE_NAME']"
   ]
  },
  {
   "cell_type": "code",
   "execution_count": 17,
   "metadata": {},
   "outputs": [
    {
     "data": {
      "text/plain": [
       "{'MAP_PROJECTION': 'UTM',\n",
       " 'DATUM': 'WGS84',\n",
       " 'ELLIPSOID': 'WGS84',\n",
       " 'UTM_ZONE': '13',\n",
       " 'GRID_CELL_SIZE_PANCHROMATIC': '15.00',\n",
       " 'GRID_CELL_SIZE_REFLECTIVE': '30.00',\n",
       " 'GRID_CELL_SIZE_THERMAL': '30.00',\n",
       " 'ORIENTATION': 'NORTH_UP',\n",
       " 'RESAMPLING_OPTION': 'CUBIC_CONVOLUTION',\n",
       " 'platform': 'LANDSAT_8',\n",
       " 'instrument': 'OLI_TIRS',\n",
       " 'WRS_PATH': '33',\n",
       " 'WRS_ROW': '35',\n",
       " 'NADIR': 'NADIR',\n",
       " 'TARGET_WRS_PATH': '33',\n",
       " 'TARGET_WRS_ROW': '35',\n",
       " 'STATION_ID': 'LGN',\n",
       " 'PROCESSING_SOFTWARE_VERSION': 'LPGS_2.2.2',\n",
       " 'DATA_TYPE': 'L1T',\n",
       " 'ELEVATION_SOURCE': 'GLS2000',\n",
       " 'OUTPUT_FORMAT': 'GEOTIFF',\n",
       " 'PANCHROMATIC_LINES': '14881',\n",
       " 'PANCHROMATIC_SAMPLES': '15261',\n",
       " 'REFLECTIVE_LINES': '7441',\n",
       " 'REFLECTIVE_SAMPLES': '7631',\n",
       " 'THERMAL_LINES': '7441',\n",
       " 'THERMAL_SAMPLES': '7631',\n",
       " 'CLOUD_COVER': '12.55',\n",
       " 'IMAGE_QUALITY_OLI': '9',\n",
       " 'IMAGE_QUALITY_TIRS': '9',\n",
       " 'ROLL_ANGLE': '-0.001',\n",
       " 'SUN_AZIMUTH': '121.50951213',\n",
       " 'SUN_ELEVATION': '68.15928707',\n",
       " 'EARTH_SUN_DISTANCE': '1.0148446',\n",
       " 'GROUND_CONTROL_POINTS_MODEL': '323',\n",
       " 'GEOMETRIC_RMSE_MODEL': '7.630',\n",
       " 'GEOMETRIC_RMSE_MODEL_Y': '5.345',\n",
       " 'GEOMETRIC_RMSE_MODEL_X': '5.445',\n",
       " 'GROUND_CONTROL_POINTS_VERIFY': '128',\n",
       " 'GEOMETRIC_RMSE_VERIFY': '4.424',\n",
       " 'METADATA_FILE_NAME': 'LC80330352013157LGN00_MTL.txt',\n",
       " 'BPF_NAME_OLI': 'LO8BPF20130606172850_20130606174500.01',\n",
       " 'BPF_NAME_TIRS': 'LT8BPF20130606172457_20130606174552.01',\n",
       " 'CPF_NAME': 'L8CPF20130401_20130630.04',\n",
       " 'RLUT_FILE_NAME': 'L8RLUT20130211_20431231v06.h5'}"
      ]
     },
     "execution_count": 17,
     "metadata": {},
     "output_type": "execute_result"
    }
   ],
   "source": [
    "properties"
   ]
  },
  {
   "cell_type": "markdown",
   "metadata": {},
   "source": [
    "## Create the Item"
   ]
  },
  {
   "cell_type": "code",
   "execution_count": null,
   "metadata": {},
   "outputs": [],
   "source": [
    "# !pip install pystac[validation]"
   ]
  },
  {
   "cell_type": "code",
   "execution_count": 34,
   "metadata": {},
   "outputs": [],
   "source": [
    "item = pystac.Item(id=item_id, \n",
    "                   geometry=mapping(footprint),\n",
    "                   bbox=bbox,\n",
    "                   datetime=date_and_time['datetime'],\n",
    "                   properties=properties)\n",
    "item.validate()"
   ]
  },
  {
   "cell_type": "code",
   "execution_count": 19,
   "metadata": {},
   "outputs": [],
   "source": [
    "# Add Ground Sample Distance\n",
    "item.common_metadata.gsd = 30.0"
   ]
  },
  {
   "cell_type": "code",
   "execution_count": 20,
   "metadata": {},
   "outputs": [],
   "source": [
    "# Add the EO Extension \n",
    "item.ext.enable('eo')"
   ]
  },
  {
   "cell_type": "code",
   "execution_count": 21,
   "metadata": {},
   "outputs": [
    {
     "data": {
      "text/plain": [
       "12.55"
      ]
     },
     "execution_count": 21,
     "metadata": {},
     "output_type": "execute_result"
    }
   ],
   "source": [
    "# Add Cloud Cover\n",
    "item.ext.eo.cloud_cover = float(mtl_dict['CLOUD_COVER'])\n",
    "item.ext.eo.cloud_cover"
   ]
  },
  {
   "cell_type": "markdown",
   "metadata": {},
   "source": [
    "### Add Assets - Band Info"
   ]
  },
  {
   "cell_type": "code",
   "execution_count": 22,
   "metadata": {},
   "outputs": [
    {
     "data": {
      "text/plain": [
       "{'B1': {'href': './LC80330352013157LGN00_B1.TIF',\n",
       "  'type': '',\n",
       "  'band': <Band name=B1>,\n",
       "  'gsd': 30.0,\n",
       "  'title': 'Band 1 (coastal)',\n",
       "  'RADIANCE_MAXIMUM_BAND_1': '758.41290',\n",
       "  'RADIANCE_MINIMUM_BAND_1': '-62.62999',\n",
       "  'REFLECTANCE_MAXIMUM_BAND_1': '1.210700',\n",
       "  'REFLECTANCE_MINIMUM_BAND_1': '-0.099980',\n",
       "  'QUANTIZE_CAL_MAX_BAND_1': '65535',\n",
       "  'QUANTIZE_CAL_MIN_BAND_1': '1',\n",
       "  'RADIANCE_MULT_BAND_1': '1.2529E-02',\n",
       "  'RADIANCE_ADD_BAND_1': '-62.64251',\n",
       "  'REFLECTANCE_MULT_BAND_1': '2.0000E-05',\n",
       "  'REFLECTANCE_ADD_BAND_1': '-0.100000'},\n",
       " 'B2': {'href': './LC80330352013157LGN00_B2.TIF',\n",
       "  'type': '',\n",
       "  'band': <Band name=B2>,\n",
       "  'gsd': 30.0,\n",
       "  'title': 'Band 2 (blue)',\n",
       "  'RADIANCE_MAXIMUM_BAND_2': '773.38159',\n",
       "  'RADIANCE_MINIMUM_BAND_2': '-63.86610',\n",
       "  'REFLECTANCE_MAXIMUM_BAND_2': '1.210700',\n",
       "  'REFLECTANCE_MINIMUM_BAND_2': '-0.099980',\n",
       "  'QUANTIZE_CAL_MAX_BAND_2': '65535',\n",
       "  'QUANTIZE_CAL_MIN_BAND_2': '1',\n",
       "  'RADIANCE_MULT_BAND_2': '1.2776E-02',\n",
       "  'RADIANCE_ADD_BAND_2': '-63.87888',\n",
       "  'REFLECTANCE_MULT_BAND_2': '2.0000E-05',\n",
       "  'REFLECTANCE_ADD_BAND_2': '-0.100000'},\n",
       " 'B3': {'href': './LC80330352013157LGN00_B3.TIF',\n",
       "  'type': '',\n",
       "  'band': <Band name=B3>,\n",
       "  'gsd': 30.0,\n",
       "  'title': 'Band 3 (green)',\n",
       "  'RADIANCE_MAXIMUM_BAND_3': '708.15668',\n",
       "  'RADIANCE_MINIMUM_BAND_3': '-58.47980',\n",
       "  'REFLECTANCE_MAXIMUM_BAND_3': '1.210700',\n",
       "  'REFLECTANCE_MINIMUM_BAND_3': '-0.099980',\n",
       "  'QUANTIZE_CAL_MAX_BAND_3': '65535',\n",
       "  'QUANTIZE_CAL_MIN_BAND_3': '1',\n",
       "  'RADIANCE_MULT_BAND_3': '1.1698E-02',\n",
       "  'RADIANCE_ADD_BAND_3': '-58.49150',\n",
       "  'REFLECTANCE_MULT_BAND_3': '2.0000E-05',\n",
       "  'REFLECTANCE_ADD_BAND_3': '-0.100000'},\n",
       " 'B4': {'href': './LC80330352013157LGN00_B4.TIF',\n",
       "  'type': '',\n",
       "  'band': <Band name=B4>,\n",
       "  'gsd': 30.0,\n",
       "  'title': 'Band 4 (red)',\n",
       "  'RADIANCE_MAXIMUM_BAND_4': '599.76532',\n",
       "  'RADIANCE_MINIMUM_BAND_4': '-49.52882',\n",
       "  'REFLECTANCE_MAXIMUM_BAND_4': '1.210700',\n",
       "  'REFLECTANCE_MINIMUM_BAND_4': '-0.099980',\n",
       "  'QUANTIZE_CAL_MAX_BAND_4': '65535',\n",
       "  'QUANTIZE_CAL_MIN_BAND_4': '1',\n",
       "  'RADIANCE_MULT_BAND_4': '9.9077E-03',\n",
       "  'RADIANCE_ADD_BAND_4': '-49.53872',\n",
       "  'REFLECTANCE_MULT_BAND_4': '2.0000E-05',\n",
       "  'REFLECTANCE_ADD_BAND_4': '-0.100000'},\n",
       " 'B5': {'href': './LC80330352013157LGN00_B5.TIF',\n",
       "  'type': '',\n",
       "  'band': <Band name=B5>,\n",
       "  'gsd': 30.0,\n",
       "  'title': 'Band 5 (nir)',\n",
       "  'RADIANCE_MAXIMUM_BAND_5': '363.94427',\n",
       "  'RADIANCE_MINIMUM_BAND_5': '-30.05464',\n",
       "  'REFLECTANCE_MAXIMUM_BAND_5': '1.210700',\n",
       "  'REFLECTANCE_MINIMUM_BAND_5': '-0.099980',\n",
       "  'QUANTIZE_CAL_MAX_BAND_5': '65535',\n",
       "  'QUANTIZE_CAL_MIN_BAND_5': '1',\n",
       "  'RADIANCE_MULT_BAND_5': '6.0121E-03',\n",
       "  'RADIANCE_ADD_BAND_5': '-30.06065',\n",
       "  'REFLECTANCE_MULT_BAND_5': '2.0000E-05',\n",
       "  'REFLECTANCE_ADD_BAND_5': '-0.100000'},\n",
       " 'B6': {'href': './LC80330352013157LGN00_B6.TIF',\n",
       "  'type': '',\n",
       "  'band': <Band name=B6>,\n",
       "  'gsd': 30.0,\n",
       "  'title': 'Band 6 (swir16)',\n",
       "  'RADIANCE_MAXIMUM_BAND_6': '91.69579',\n",
       "  'RADIANCE_MINIMUM_BAND_6': '-7.57227',\n",
       "  'REFLECTANCE_MAXIMUM_BAND_6': '1.210700',\n",
       "  'REFLECTANCE_MINIMUM_BAND_6': '-0.099980',\n",
       "  'QUANTIZE_CAL_MAX_BAND_6': '65535',\n",
       "  'QUANTIZE_CAL_MIN_BAND_6': '1',\n",
       "  'RADIANCE_MULT_BAND_6': '1.5148E-03',\n",
       "  'RADIANCE_ADD_BAND_6': '-7.57378',\n",
       "  'REFLECTANCE_MULT_BAND_6': '2.0000E-05',\n",
       "  'REFLECTANCE_ADD_BAND_6': '-0.100000'},\n",
       " 'B7': {'href': './LC80330352013157LGN00_B7.TIF',\n",
       "  'type': '',\n",
       "  'band': <Band name=B7>,\n",
       "  'gsd': 30.0,\n",
       "  'title': 'Band 7 (swir22)',\n",
       "  'RADIANCE_MAXIMUM_BAND_7': '29.82847',\n",
       "  'RADIANCE_MINIMUM_BAND_7': '-2.46324',\n",
       "  'REFLECTANCE_MAXIMUM_BAND_1': '1.210700',\n",
       "  'REFLECTANCE_MINIMUM_BAND_7': '-0.099980',\n",
       "  'QUANTIZE_CAL_MAX_BAND_7': '65535',\n",
       "  'QUANTIZE_CAL_MIN_BAND_7': '1',\n",
       "  'RADIANCE_MULT_BAND_7': '4.9275E-04',\n",
       "  'RADIANCE_ADD_BAND_7': '-2.46374',\n",
       "  'REFLECTANCE_MULT_BAND_7': '2.0000E-05',\n",
       "  'REFLECTANCE_ADD_BAND_7': '-0.100000'},\n",
       " 'B8': {'href': './LC80330352013157LGN00_B8.TIF',\n",
       "  'type': '',\n",
       "  'band': <Band name=B8>,\n",
       "  'gsd': 30.0,\n",
       "  'title': 'Band 8 (pan)',\n",
       "  'RADIANCE_MAXIMUM_BAND_8': '675.59772',\n",
       "  'RADIANCE_MINIMUM_BAND_8': '-55.79108',\n",
       "  'REFLECTANCE_MAXIMUM_BAND_1': '1.210700',\n",
       "  'REFLECTANCE_MINIMUM_BAND_8': '-0.099980',\n",
       "  'QUANTIZE_CAL_MAX_BAND_8': '65535',\n",
       "  'QUANTIZE_CAL_MIN_BAND_8': '1',\n",
       "  'RADIANCE_MULT_BAND_8': '1.1160E-02',\n",
       "  'RADIANCE_ADD_BAND_8': '-55.80224',\n",
       "  'REFLECTANCE_MULT_BAND_8': '2.0000E-05',\n",
       "  'REFLECTANCE_ADD_BAND_8': '-0.100000'},\n",
       " 'B9': {'href': './LC80330352013157LGN00_B9.TIF',\n",
       "  'type': '',\n",
       "  'band': <Band name=B9>,\n",
       "  'gsd': 30.0,\n",
       "  'title': 'Band 9 (cirrus)',\n",
       "  'RADIANCE_MAXIMUM_BAND_9': '149.55980',\n",
       "  'RADIANCE_MINIMUM_BAND_9': '-12.35070',\n",
       "  'REFLECTANCE_MAXIMUM_BAND_1': '1.210700',\n",
       "  'REFLECTANCE_MINIMUM_BAND_9': '-0.099980',\n",
       "  'QUANTIZE_CAL_MAX_BAND_9': '65535',\n",
       "  'QUANTIZE_CAL_MIN_BAND_9': '1',\n",
       "  'RADIANCE_MULT_BAND_9': '2.4706E-03',\n",
       "  'RADIANCE_ADD_BAND_9': '-12.35317',\n",
       "  'REFLECTANCE_MULT_BAND_9': '2.0000E-05',\n",
       "  'REFLECTANCE_ADD_BAND_9': '-0.100000'},\n",
       " 'B10': {'href': './LC80330352013157LGN00_B10.TIF',\n",
       "  'type': '',\n",
       "  'band': <Band name=B10>,\n",
       "  'gsd': 30.0,\n",
       "  'title': 'Band 10 (lwir11)',\n",
       "  'RADIANCE_MAXIMUM_BAND_10': '22.00180',\n",
       "  'RADIANCE_MINIMUM_BAND_10': '0.10033',\n",
       "  'QUANTIZE_CAL_MAX_BAND_10': '65535',\n",
       "  'QUANTIZE_CAL_MIN_BAND_10': '1',\n",
       "  'RADIANCE_MULT_BAND_10': '3.3420E-04',\n",
       "  'RADIANCE_ADD_BAND_10': '0.10000',\n",
       "  'K1_CONSTANT_BAND_10': '774.89',\n",
       "  'K2_CONSTANT_BAND_10': '1321.08'},\n",
       " 'B11': {'href': './LC80330352013157LGN00_B11.TIF',\n",
       "  'type': '',\n",
       "  'band': <Band name=B11>,\n",
       "  'gsd': 30.0,\n",
       "  'title': 'Band 11 (lwir12)',\n",
       "  'RADIANCE_MAXIMUM_BAND_11': '22.00180',\n",
       "  'RADIANCE_MINIMUM_BAND_11': '0.10033',\n",
       "  'QUANTIZE_CAL_MAX_BAND_11': '65535',\n",
       "  'QUANTIZE_CAL_MIN_BAND_11': '1',\n",
       "  'RADIANCE_MULT_BAND_11': '3.3420E-04',\n",
       "  'RADIANCE_ADD_BAND_11': '0.10000',\n",
       "  'K1_CONSTANT_BAND_11': '480.89',\n",
       "  'K2_CONSTANT_BAND_11': '1201.14'}}"
      ]
     },
     "execution_count": 22,
     "metadata": {},
     "output_type": "execute_result"
    }
   ],
   "source": [
    "from pystac.extensions.eo import Band\n",
    "\n",
    "assets = {\n",
    "    'B1':{\n",
    "        'href':'./{}'.format(mtl_dict['FILE_NAME_BAND_1']),\n",
    "        'type':'',\n",
    "        'band':pystac.extensions.eo.Band.create(name=\"B1\",\n",
    "                                                common_name=\"coastal\", \n",
    "                                                center_wavelength=0.44, \n",
    "                                                full_width_half_max=0.02),\n",
    "        'gsd': item.common_metadata.gsd,\n",
    "        'title':'Band 1 (coastal)',\n",
    "        'RADIANCE_MAXIMUM_BAND_1':mtl_dict['RADIANCE_MAXIMUM_BAND_1'],\n",
    "        'RADIANCE_MINIMUM_BAND_1':mtl_dict['RADIANCE_MINIMUM_BAND_1'],\n",
    "        'REFLECTANCE_MAXIMUM_BAND_1':mtl_dict['REFLECTANCE_MAXIMUM_BAND_1'],\n",
    "        'REFLECTANCE_MINIMUM_BAND_1':mtl_dict['REFLECTANCE_MINIMUM_BAND_1'],\n",
    "        'QUANTIZE_CAL_MAX_BAND_1':mtl_dict['QUANTIZE_CAL_MAX_BAND_1'],\n",
    "        'QUANTIZE_CAL_MIN_BAND_1':mtl_dict['QUANTIZE_CAL_MIN_BAND_1'],\n",
    "        'RADIANCE_MULT_BAND_1':mtl_dict['RADIANCE_MULT_BAND_1'],\n",
    "        'RADIANCE_ADD_BAND_1':mtl_dict['RADIANCE_ADD_BAND_1'],\n",
    "        'REFLECTANCE_MULT_BAND_1':mtl_dict['REFLECTANCE_MULT_BAND_1'],\n",
    "        'REFLECTANCE_ADD_BAND_1':mtl_dict['REFLECTANCE_ADD_BAND_1']\n",
    "    },\n",
    "    \n",
    "    'B2':{\n",
    "        'href':'./{}'.format(mtl_dict['FILE_NAME_BAND_2']),\n",
    "        'type':'',\n",
    "        'band':pystac.extensions.eo.Band.create(name=\"B2\",\n",
    "                                                common_name=\"blue\", \n",
    "                                                center_wavelength=0.48, \n",
    "                                                full_width_half_max=0.06),\n",
    "        'gsd': item.common_metadata.gsd,\n",
    "        'title':'Band 2 (blue)',\n",
    "        'RADIANCE_MAXIMUM_BAND_2':mtl_dict['RADIANCE_MAXIMUM_BAND_2'],\n",
    "        'RADIANCE_MINIMUM_BAND_2':mtl_dict['RADIANCE_MINIMUM_BAND_2'],\n",
    "        'REFLECTANCE_MAXIMUM_BAND_2':mtl_dict['REFLECTANCE_MAXIMUM_BAND_2'],\n",
    "        'REFLECTANCE_MINIMUM_BAND_2':mtl_dict['REFLECTANCE_MINIMUM_BAND_2'],\n",
    "        'QUANTIZE_CAL_MAX_BAND_2':mtl_dict['QUANTIZE_CAL_MAX_BAND_2'],\n",
    "        'QUANTIZE_CAL_MIN_BAND_2':mtl_dict['QUANTIZE_CAL_MIN_BAND_2'],\n",
    "        'RADIANCE_MULT_BAND_2':mtl_dict['RADIANCE_MULT_BAND_2'],\n",
    "        'RADIANCE_ADD_BAND_2':mtl_dict['RADIANCE_ADD_BAND_2'],\n",
    "        'REFLECTANCE_MULT_BAND_2':mtl_dict['REFLECTANCE_MULT_BAND_2'],\n",
    "        'REFLECTANCE_ADD_BAND_2':mtl_dict['REFLECTANCE_ADD_BAND_2']\n",
    "    },\n",
    "    \n",
    "    'B3':{\n",
    "        'href':'./{}'.format(mtl_dict['FILE_NAME_BAND_3']),\n",
    "        'type':'',\n",
    "        'band':pystac.extensions.eo.Band.create(name=\"B3\",\n",
    "                                                common_name=\"green\", \n",
    "                                                center_wavelength=0.56, \n",
    "                                                full_width_half_max=0.06),\n",
    "        'gsd': item.common_metadata.gsd,\n",
    "        'title':'Band 3 (green)',\n",
    "        'RADIANCE_MAXIMUM_BAND_3':mtl_dict['RADIANCE_MAXIMUM_BAND_3'],\n",
    "        'RADIANCE_MINIMUM_BAND_3':mtl_dict['RADIANCE_MINIMUM_BAND_3'],\n",
    "        'REFLECTANCE_MAXIMUM_BAND_3':mtl_dict['REFLECTANCE_MAXIMUM_BAND_3'],\n",
    "        'REFLECTANCE_MINIMUM_BAND_3':mtl_dict['REFLECTANCE_MINIMUM_BAND_3'],\n",
    "        'QUANTIZE_CAL_MAX_BAND_3':mtl_dict['QUANTIZE_CAL_MAX_BAND_3'],\n",
    "        'QUANTIZE_CAL_MIN_BAND_3':mtl_dict['QUANTIZE_CAL_MIN_BAND_3'],\n",
    "        'RADIANCE_MULT_BAND_3':mtl_dict['RADIANCE_MULT_BAND_3'],\n",
    "        'RADIANCE_ADD_BAND_3':mtl_dict['RADIANCE_ADD_BAND_3'],\n",
    "        'REFLECTANCE_MULT_BAND_3':mtl_dict['REFLECTANCE_MULT_BAND_3'],\n",
    "        'REFLECTANCE_ADD_BAND_3':mtl_dict['REFLECTANCE_ADD_BAND_3']\n",
    "    },\n",
    "    \n",
    "    'B4':{\n",
    "        'href':'./{}'.format(mtl_dict['FILE_NAME_BAND_4']),\n",
    "        'type':'',\n",
    "        'band':pystac.extensions.eo.Band.create(name=\"B4\",\n",
    "                                                common_name=\"red\", \n",
    "                                                center_wavelength=0.65, \n",
    "                                                full_width_half_max=0.04),\n",
    "        'gsd': item.common_metadata.gsd,\n",
    "        'title':'Band 4 (red)',\n",
    "        'RADIANCE_MAXIMUM_BAND_4':mtl_dict['RADIANCE_MAXIMUM_BAND_4'],\n",
    "        'RADIANCE_MINIMUM_BAND_4':mtl_dict['RADIANCE_MINIMUM_BAND_4'],\n",
    "        'REFLECTANCE_MAXIMUM_BAND_4':mtl_dict['REFLECTANCE_MAXIMUM_BAND_4'],\n",
    "        'REFLECTANCE_MINIMUM_BAND_4':mtl_dict['REFLECTANCE_MINIMUM_BAND_4'],\n",
    "        'QUANTIZE_CAL_MAX_BAND_4':mtl_dict['QUANTIZE_CAL_MAX_BAND_4'],\n",
    "        'QUANTIZE_CAL_MIN_BAND_4':mtl_dict['QUANTIZE_CAL_MIN_BAND_4'],\n",
    "        'RADIANCE_MULT_BAND_4':mtl_dict['RADIANCE_MULT_BAND_4'],\n",
    "        'RADIANCE_ADD_BAND_4':mtl_dict['RADIANCE_ADD_BAND_4'],\n",
    "        'REFLECTANCE_MULT_BAND_4':mtl_dict['REFLECTANCE_MULT_BAND_4'],\n",
    "        'REFLECTANCE_ADD_BAND_4':mtl_dict['REFLECTANCE_ADD_BAND_4']\n",
    "    },\n",
    "    \n",
    "    'B5':{\n",
    "        'href':'./{}'.format(mtl_dict['FILE_NAME_BAND_5']),\n",
    "        'type':'',\n",
    "        'band':pystac.extensions.eo.Band.create(name=\"B5\",\n",
    "                                                common_name=\"nir\", \n",
    "                                                center_wavelength=0.86, \n",
    "                                                full_width_half_max=0.03),\n",
    "        'gsd': item.common_metadata.gsd,\n",
    "        'title':'Band 5 (nir)',\n",
    "        'RADIANCE_MAXIMUM_BAND_5':mtl_dict['RADIANCE_MAXIMUM_BAND_5'],\n",
    "        'RADIANCE_MINIMUM_BAND_5':mtl_dict['RADIANCE_MINIMUM_BAND_5'],\n",
    "        'REFLECTANCE_MAXIMUM_BAND_5':mtl_dict['REFLECTANCE_MAXIMUM_BAND_5'],\n",
    "        'REFLECTANCE_MINIMUM_BAND_5':mtl_dict['REFLECTANCE_MINIMUM_BAND_5'],\n",
    "        'QUANTIZE_CAL_MAX_BAND_5':mtl_dict['QUANTIZE_CAL_MAX_BAND_5'],\n",
    "        'QUANTIZE_CAL_MIN_BAND_5':mtl_dict['QUANTIZE_CAL_MIN_BAND_5'],\n",
    "        'RADIANCE_MULT_BAND_5':mtl_dict['RADIANCE_MULT_BAND_5'],\n",
    "        'RADIANCE_ADD_BAND_5':mtl_dict['RADIANCE_ADD_BAND_5'],\n",
    "        'REFLECTANCE_MULT_BAND_5':mtl_dict['REFLECTANCE_MULT_BAND_5'],\n",
    "        'REFLECTANCE_ADD_BAND_5':mtl_dict['REFLECTANCE_ADD_BAND_5']\n",
    "    },\n",
    "    \n",
    "    'B6':{\n",
    "        'href':'./{}'.format(mtl_dict['FILE_NAME_BAND_6']),\n",
    "        'type':'',\n",
    "        'band':pystac.extensions.eo.Band.create(name=\"B6\",\n",
    "                                                common_name=\"swir16\", \n",
    "                                                center_wavelength=1.6, \n",
    "                                                full_width_half_max=0.08),\n",
    "        'gsd': item.common_metadata.gsd,\n",
    "        'title':'Band 6 (swir16)',\n",
    "        'RADIANCE_MAXIMUM_BAND_6':mtl_dict['RADIANCE_MAXIMUM_BAND_6'],\n",
    "        'RADIANCE_MINIMUM_BAND_6':mtl_dict['RADIANCE_MINIMUM_BAND_6'],\n",
    "        'REFLECTANCE_MAXIMUM_BAND_6':mtl_dict['REFLECTANCE_MAXIMUM_BAND_6'],\n",
    "        'REFLECTANCE_MINIMUM_BAND_6':mtl_dict['REFLECTANCE_MINIMUM_BAND_6'],\n",
    "        'QUANTIZE_CAL_MAX_BAND_6':mtl_dict['QUANTIZE_CAL_MAX_BAND_6'],\n",
    "        'QUANTIZE_CAL_MIN_BAND_6':mtl_dict['QUANTIZE_CAL_MIN_BAND_6'],\n",
    "        'RADIANCE_MULT_BAND_6':mtl_dict['RADIANCE_MULT_BAND_6'],\n",
    "        'RADIANCE_ADD_BAND_6':mtl_dict['RADIANCE_ADD_BAND_6'],\n",
    "        'REFLECTANCE_MULT_BAND_6':mtl_dict['REFLECTANCE_MULT_BAND_6'],\n",
    "        'REFLECTANCE_ADD_BAND_6':mtl_dict['REFLECTANCE_ADD_BAND_6']\n",
    "    },\n",
    "    \n",
    "    'B7':{\n",
    "        'href':'./{}'.format(mtl_dict['FILE_NAME_BAND_7']),\n",
    "        'type':'',\n",
    "        'band':pystac.extensions.eo.Band.create(name=\"B7\",\n",
    "                                                common_name=\"swir22\", \n",
    "                                                center_wavelength=2.2, \n",
    "                                                full_width_half_max=0.2),\n",
    "        'gsd': item.common_metadata.gsd,\n",
    "        'title':'Band 7 (swir22)',\n",
    "        'RADIANCE_MAXIMUM_BAND_7':mtl_dict['RADIANCE_MAXIMUM_BAND_7'],\n",
    "        'RADIANCE_MINIMUM_BAND_7':mtl_dict['RADIANCE_MINIMUM_BAND_7'],'REFLECTANCE_MAXIMUM_BAND_1':mtl_dict['REFLECTANCE_MAXIMUM_BAND_1'],\n",
    "        'REFLECTANCE_MINIMUM_BAND_7':mtl_dict['REFLECTANCE_MINIMUM_BAND_7'],\n",
    "        'QUANTIZE_CAL_MAX_BAND_7':mtl_dict['QUANTIZE_CAL_MAX_BAND_7'],\n",
    "        'QUANTIZE_CAL_MIN_BAND_7':mtl_dict['QUANTIZE_CAL_MIN_BAND_7'],\n",
    "        'RADIANCE_MULT_BAND_7':mtl_dict['RADIANCE_MULT_BAND_7'],\n",
    "        'RADIANCE_ADD_BAND_7':mtl_dict['RADIANCE_ADD_BAND_7'],\n",
    "        'REFLECTANCE_MULT_BAND_7':mtl_dict['REFLECTANCE_MULT_BAND_7'],\n",
    "        'REFLECTANCE_ADD_BAND_7':mtl_dict['REFLECTANCE_ADD_BAND_7']\n",
    "    },\n",
    "    \n",
    "    'B8':{\n",
    "        'href':'./{}'.format(mtl_dict['FILE_NAME_BAND_8']),\n",
    "        'type':'',\n",
    "        'band':pystac.extensions.eo.Band.create(name=\"B8\",\n",
    "                                                common_name=\"pan\", \n",
    "                                                center_wavelength=0.59, \n",
    "                                                full_width_half_max=0.18),\n",
    "        'gsd': item.common_metadata.gsd,\n",
    "        'title':'Band 8 (pan)',\n",
    "        'RADIANCE_MAXIMUM_BAND_8':mtl_dict['RADIANCE_MAXIMUM_BAND_8'],\n",
    "        'RADIANCE_MINIMUM_BAND_8':mtl_dict['RADIANCE_MINIMUM_BAND_8'],'REFLECTANCE_MAXIMUM_BAND_1':mtl_dict['REFLECTANCE_MAXIMUM_BAND_1'],\n",
    "        'REFLECTANCE_MINIMUM_BAND_8':mtl_dict['REFLECTANCE_MINIMUM_BAND_8'],\n",
    "        'QUANTIZE_CAL_MAX_BAND_8':mtl_dict['QUANTIZE_CAL_MAX_BAND_8'],\n",
    "        'QUANTIZE_CAL_MIN_BAND_8':mtl_dict['QUANTIZE_CAL_MIN_BAND_8'],\n",
    "        'RADIANCE_MULT_BAND_8':mtl_dict['RADIANCE_MULT_BAND_8'],\n",
    "        'RADIANCE_ADD_BAND_8':mtl_dict['RADIANCE_ADD_BAND_8'],\n",
    "        'REFLECTANCE_MULT_BAND_8':mtl_dict['REFLECTANCE_MULT_BAND_8'],\n",
    "        'REFLECTANCE_ADD_BAND_8':mtl_dict['REFLECTANCE_ADD_BAND_8']\n",
    "    },\n",
    "    \n",
    "    'B9':{\n",
    "        'href':'./{}'.format(mtl_dict['FILE_NAME_BAND_9']),\n",
    "        'type':'',\n",
    "        'band':pystac.extensions.eo.Band.create(name=\"B9\",\n",
    "                                                common_name=\"cirrus\", \n",
    "                                                center_wavelength=1.37, \n",
    "                                                full_width_half_max=0.02),\n",
    "        'gsd': item.common_metadata.gsd,\n",
    "        'title':'Band 9 (cirrus)',\n",
    "        'RADIANCE_MAXIMUM_BAND_9':mtl_dict['RADIANCE_MAXIMUM_BAND_9'],\n",
    "        'RADIANCE_MINIMUM_BAND_9':mtl_dict['RADIANCE_MINIMUM_BAND_9'],'REFLECTANCE_MAXIMUM_BAND_1':mtl_dict['REFLECTANCE_MAXIMUM_BAND_1'],\n",
    "        'REFLECTANCE_MINIMUM_BAND_9':mtl_dict['REFLECTANCE_MINIMUM_BAND_9'],\n",
    "        'QUANTIZE_CAL_MAX_BAND_9':mtl_dict['QUANTIZE_CAL_MAX_BAND_9'],\n",
    "        'QUANTIZE_CAL_MIN_BAND_9':mtl_dict['QUANTIZE_CAL_MIN_BAND_9'],\n",
    "        'RADIANCE_MULT_BAND_9':mtl_dict['RADIANCE_MULT_BAND_9'],\n",
    "        'RADIANCE_ADD_BAND_9':mtl_dict['RADIANCE_ADD_BAND_9'],\n",
    "        'REFLECTANCE_MULT_BAND_9':mtl_dict['REFLECTANCE_MULT_BAND_9'],\n",
    "        'REFLECTANCE_ADD_BAND_9':mtl_dict['REFLECTANCE_ADD_BAND_9']\n",
    "    },\n",
    "    \n",
    "    'B10':{\n",
    "        'href':'./{}'.format(mtl_dict['FILE_NAME_BAND_10']),\n",
    "        'type':'',\n",
    "        'band':pystac.extensions.eo.Band.create(name=\"B10\",\n",
    "                                                common_name=\"lwir11\", \n",
    "                                                center_wavelength=10.9, \n",
    "                                                full_width_half_max=0.8),\n",
    "        'gsd': item.common_metadata.gsd,\n",
    "        'title':'Band 10 (lwir11)',\n",
    "        'RADIANCE_MAXIMUM_BAND_10':mtl_dict['RADIANCE_MAXIMUM_BAND_10'],\n",
    "        'RADIANCE_MINIMUM_BAND_10':mtl_dict['RADIANCE_MINIMUM_BAND_10'],\n",
    "        'QUANTIZE_CAL_MAX_BAND_10':mtl_dict['QUANTIZE_CAL_MAX_BAND_10'],\n",
    "        'QUANTIZE_CAL_MIN_BAND_10':mtl_dict['QUANTIZE_CAL_MIN_BAND_10'],\n",
    "        'RADIANCE_MULT_BAND_10':mtl_dict['RADIANCE_MULT_BAND_10'],\n",
    "        'RADIANCE_ADD_BAND_10':mtl_dict['RADIANCE_ADD_BAND_10'],\n",
    "        'K1_CONSTANT_BAND_10':mtl_dict['K1_CONSTANT_BAND_10'],\n",
    "        'K2_CONSTANT_BAND_10':mtl_dict['K2_CONSTANT_BAND_10']\n",
    "    },\n",
    "    \n",
    "    'B11':{\n",
    "        'href':'./{}'.format(mtl_dict['FILE_NAME_BAND_11']),\n",
    "        'type':'',\n",
    "        'band':pystac.extensions.eo.Band.create(name=\"B11\",\n",
    "                                                common_name=\"lwir12\", \n",
    "                                                center_wavelength=12, \n",
    "                                                full_width_half_max=1),\n",
    "        'gsd': item.common_metadata.gsd,\n",
    "        'title':'Band 11 (lwir12)',\n",
    "        'RADIANCE_MAXIMUM_BAND_11':mtl_dict['RADIANCE_MAXIMUM_BAND_11'],\n",
    "        'RADIANCE_MINIMUM_BAND_11':mtl_dict['RADIANCE_MINIMUM_BAND_11'],\n",
    "        'QUANTIZE_CAL_MAX_BAND_11':mtl_dict['QUANTIZE_CAL_MAX_BAND_11'],\n",
    "        'QUANTIZE_CAL_MIN_BAND_11':mtl_dict['QUANTIZE_CAL_MIN_BAND_11'],\n",
    "        'RADIANCE_MULT_BAND_11':mtl_dict['RADIANCE_MULT_BAND_11'],\n",
    "        'RADIANCE_ADD_BAND_11':mtl_dict['RADIANCE_ADD_BAND_11'],\n",
    "        'K1_CONSTANT_BAND_11':mtl_dict['K1_CONSTANT_BAND_11'],\n",
    "        'K2_CONSTANT_BAND_11':mtl_dict['K2_CONSTANT_BAND_11']\n",
    "#     }, THESE TWO I SHOULD ADD TO THE OTHER_ASSETS AS THEY DONT HAVE THE 'band' KEY \n",
    "    \n",
    "#     'BQA':{\n",
    "#         'href':'./{}'.format(mtl_dict['FILE_NAME_BAND_QUALITY']),\n",
    "#         'type':'',\n",
    "#         'title':'Band QA'\n",
    "#     },\n",
    "    \n",
    "#     'MTL':{\n",
    "#         'href':mtl_dict['METADATA_FILE_NAME'],\n",
    "#         'type':'',\n",
    "#         'title':'Band QA (nir)'\n",
    "    }\n",
    "\n",
    "}\n",
    "assets"
   ]
  },
  {
   "cell_type": "code",
   "execution_count": null,
   "metadata": {},
   "outputs": [],
   "source": [
    "# # Other Assets\n",
    "\n",
    "# for this I need the url of the L8 catalogue, so I can apply the function get_asset_url and retrieve relevant info\n",
    "\n",
    "# def get_asset_url(scene, suffix):\n",
    "#     product_id = scene['productId']\n",
    "#     download_url = scene['download_url']\n",
    "#     asset_filename = '{}_{}'.format(product_id, suffix)\n",
    "#     return download_url.replace('index.html', asset_filename)\n",
    "\n",
    "# def get_other_assets(scene):\n",
    "#     return {\n",
    "#             'thumbnail': {\n",
    "#                 'href': get_asset_url(scene, 'thumb_large.jpg'),\n",
    "#                 'media_type': pystac.MediaType.JPEG\n",
    "#             },\n",
    "#             'index': {\n",
    "#                 'href': get_asset_url(scene, 'index.html'),\n",
    "#                 'media_type': 'application/html'\n",
    "#             },\n",
    "#             'ANG': {\n",
    "#                 'href': get_asset_url(scene, 'ANG.txt'),\n",
    "#                 'media_type': 'text/plain'\n",
    "#             },\n",
    "#             'MTL': {\n",
    "#                 'href': get_asset_url(scene, 'MTL.txt'),\n",
    "#                 'media_type': 'text/plain'\n",
    "#             },\n",
    "#             'BQA': {\n",
    "#                 'href': get_asset_url(scene, 'BQA.TIF'),\n",
    "#                 'media_type': pystac.MediaType.GEOTIFF\n",
    "#             }\n",
    "#     }"
   ]
  },
  {
   "cell_type": "code",
   "execution_count": 23,
   "metadata": {},
   "outputs": [],
   "source": [
    "# Add assets bands to the item\n",
    "for band_id, band_info in assets.items():\n",
    "    asset = pystac.Asset(href='...'+band_id,\n",
    "                         media_type=MediaType.GEOTIFF,\n",
    "                         roles=['data'])\n",
    "    bands = [band_info['band']]\n",
    "    item.ext.eo.set_bands(bands, asset)\n",
    "    item.add_asset(band_id, asset)\n",
    "\n",
    "# Add other assets\n",
    "# MISSING\n",
    "# for asset_id, asset_info in get_other_assets(scene).items():\n",
    "#     item.add_asset(asset_id,\n",
    "#                    pystac.Asset(href=asset_info['href'], media_type=asset_info['media_type']))"
   ]
  },
  {
   "cell_type": "code",
   "execution_count": 27,
   "metadata": {},
   "outputs": [
    {
     "data": {
      "text/plain": [
       "{'href': '...B4',\n",
       " 'type': 'image/tiff; application=geotiff',\n",
       " 'eo:bands': [{'name': 'B4',\n",
       "   'common_name': 'red',\n",
       "   'center_wavelength': 0.65,\n",
       "   'full_width_half_max': 0.04}],\n",
       " 'roles': ['data']}"
      ]
     },
     "execution_count": 27,
     "metadata": {},
     "output_type": "execute_result"
    }
   ],
   "source": [
    "# print an example to dictionary\n",
    "item.assets['B4'].to_dict()"
   ]
  },
  {
   "cell_type": "code",
   "execution_count": null,
   "metadata": {},
   "outputs": [],
   "source": []
  },
  {
   "cell_type": "code",
   "execution_count": null,
   "metadata": {},
   "outputs": [],
   "source": []
  },
  {
   "cell_type": "code",
   "execution_count": null,
   "metadata": {},
   "outputs": [],
   "source": []
  },
  {
   "cell_type": "code",
   "execution_count": null,
   "metadata": {},
   "outputs": [],
   "source": [
    "# # Define a method to add all relevant assets to the item\n",
    "# NEED THE FULL URL HERE!!!!!!!\n",
    "# def add_assets(item, scene):\n",
    "#     # Add bands\n",
    "#     for band_id, band_info in landsat_band_info.items():\n",
    "#         band_url = get_asset_url(scene, '{}.TIF'.format(band_id))\n",
    "#         asset = pystac.Asset(href=band_url, media_type=pystac.MediaType.COG)\n",
    "#         bands = [band_info['band']]\n",
    "#         item.ext.eo.set_bands(bands, asset)\n",
    "#         item.add_asset(band_id, asset)\n",
    "\n",
    "#         # If this asset has a different GSD than the item, set it on the asset\n",
    "#         if band_info['gsd'] != item.common_metadata.gsd:\n",
    "#             item.common_metadata.set_gsd(band_info['gsd'], asset)\n",
    "\n",
    "# #     # Add other assets\n",
    "# #     for asset_id, asset_info in get_other_assets(scene).items():\n",
    "# #         item.add_asset(asset_id,\n",
    "# #                        pystac.Asset(href=asset_info['href'], media_type=asset_info['media_type']))"
   ]
  },
  {
   "cell_type": "code",
   "execution_count": 28,
   "metadata": {},
   "outputs": [],
   "source": [
    "item.validate()"
   ]
  },
  {
   "cell_type": "code",
   "execution_count": null,
   "metadata": {},
   "outputs": [],
   "source": []
  },
  {
   "cell_type": "code",
   "execution_count": null,
   "metadata": {},
   "outputs": [],
   "source": []
  },
  {
   "cell_type": "code",
   "execution_count": null,
   "metadata": {},
   "outputs": [],
   "source": []
  },
  {
   "cell_type": "code",
   "execution_count": null,
   "metadata": {},
   "outputs": [],
   "source": []
  },
  {
   "cell_type": "code",
   "execution_count": null,
   "metadata": {},
   "outputs": [],
   "source": []
  },
  {
   "cell_type": "markdown",
   "metadata": {},
   "source": [
    "## Add Projection Information"
   ]
  },
  {
   "cell_type": "code",
   "execution_count": 29,
   "metadata": {},
   "outputs": [
    {
     "data": {
      "text/plain": [
       "32713"
      ]
     },
     "execution_count": 29,
     "metadata": {},
     "output_type": "execute_result"
    }
   ],
   "source": [
    "# Get epsg code\n",
    "def get_epsg(metadata, min_lat, max_lat):\n",
    "    if 'UTM_ZONE' in metadata:\n",
    "        center_lat = (min_lat + max_lat)/2.0\n",
    "        return int(('326' if center_lat > 0 else '327') + metadata['UTM_ZONE'])\n",
    "    else:\n",
    "        return None\n",
    "\n",
    "item.ext.enable('projection')\n",
    "item.ext.projection.epsg = get_epsg(mtl_dict, item.bbox[1], item.bbox[3])\n",
    "item.ext.projection.epsg"
   ]
  },
  {
   "cell_type": "code",
   "execution_count": null,
   "metadata": {},
   "outputs": [],
   "source": []
  },
  {
   "cell_type": "markdown",
   "metadata": {},
   "source": [
    "### View Geometry Information"
   ]
  },
  {
   "cell_type": "code",
   "execution_count": 30,
   "metadata": {},
   "outputs": [
    {
     "data": {
      "text/plain": [
       "{'MAP_PROJECTION': 'UTM',\n",
       " 'DATUM': 'WGS84',\n",
       " 'ELLIPSOID': 'WGS84',\n",
       " 'UTM_ZONE': '13',\n",
       " 'GRID_CELL_SIZE_PANCHROMATIC': '15.00',\n",
       " 'GRID_CELL_SIZE_REFLECTIVE': '30.00',\n",
       " 'GRID_CELL_SIZE_THERMAL': '30.00',\n",
       " 'ORIENTATION': 'NORTH_UP',\n",
       " 'RESAMPLING_OPTION': 'CUBIC_CONVOLUTION',\n",
       " 'platform': 'LANDSAT_8',\n",
       " 'instrument': 'OLI_TIRS',\n",
       " 'WRS_PATH': '33',\n",
       " 'WRS_ROW': '35',\n",
       " 'NADIR': 'NADIR',\n",
       " 'TARGET_WRS_PATH': '33',\n",
       " 'TARGET_WRS_ROW': '35',\n",
       " 'STATION_ID': 'LGN',\n",
       " 'PROCESSING_SOFTWARE_VERSION': 'LPGS_2.2.2',\n",
       " 'DATA_TYPE': 'L1T',\n",
       " 'ELEVATION_SOURCE': 'GLS2000',\n",
       " 'OUTPUT_FORMAT': 'GEOTIFF',\n",
       " 'PANCHROMATIC_LINES': '14881',\n",
       " 'PANCHROMATIC_SAMPLES': '15261',\n",
       " 'REFLECTIVE_LINES': '7441',\n",
       " 'REFLECTIVE_SAMPLES': '7631',\n",
       " 'THERMAL_LINES': '7441',\n",
       " 'THERMAL_SAMPLES': '7631',\n",
       " 'CLOUD_COVER': '12.55',\n",
       " 'IMAGE_QUALITY_OLI': '9',\n",
       " 'IMAGE_QUALITY_TIRS': '9',\n",
       " 'ROLL_ANGLE': '-0.001',\n",
       " 'SUN_AZIMUTH': '121.50951213',\n",
       " 'SUN_ELEVATION': '68.15928707',\n",
       " 'EARTH_SUN_DISTANCE': '1.0148446',\n",
       " 'GROUND_CONTROL_POINTS_MODEL': '323',\n",
       " 'GEOMETRIC_RMSE_MODEL': '7.630',\n",
       " 'GEOMETRIC_RMSE_MODEL_Y': '5.345',\n",
       " 'GEOMETRIC_RMSE_MODEL_X': '5.445',\n",
       " 'GROUND_CONTROL_POINTS_VERIFY': '128',\n",
       " 'GEOMETRIC_RMSE_VERIFY': '4.424',\n",
       " 'METADATA_FILE_NAME': 'LC80330352013157LGN00_MTL.txt',\n",
       " 'BPF_NAME_OLI': 'LO8BPF20130606172850_20130606174500.01',\n",
       " 'BPF_NAME_TIRS': 'LT8BPF20130606172457_20130606174552.01',\n",
       " 'CPF_NAME': 'L8CPF20130401_20130630.04',\n",
       " 'RLUT_FILE_NAME': 'L8RLUT20130211_20431231v06.h5',\n",
       " 'datetime': '2013-06-06T22:09:28Z',\n",
       " 'gsd': 30.0,\n",
       " 'eo:cloud_cover': 12.55,\n",
       " 'proj:epsg': 32713,\n",
       " 'view:sun_azimuth': 121.50951213,\n",
       " 'view:sun_elevation': 68.15928707}"
      ]
     },
     "execution_count": 30,
     "metadata": {},
     "output_type": "execute_result"
    }
   ],
   "source": [
    "item.ext.enable('view')\n",
    "item.ext.view.sun_azimuth = float(mtl_dict['SUN_AZIMUTH'])\n",
    "item.ext.view.sun_elevation = float(mtl_dict['SUN_ELEVATION'])\n",
    "item.properties"
   ]
  },
  {
   "cell_type": "code",
   "execution_count": 31,
   "metadata": {},
   "outputs": [],
   "source": [
    "item.validate()"
   ]
  },
  {
   "cell_type": "code",
   "execution_count": 32,
   "metadata": {},
   "outputs": [
    {
     "data": {
      "text/plain": [
       "{'type': 'Feature',\n",
       " 'stac_version': '1.0.0-beta3',\n",
       " 'id': 'LC80330352013157LGN00',\n",
       " 'properties': {'MAP_PROJECTION': 'UTM',\n",
       "  'DATUM': 'WGS84',\n",
       "  'ELLIPSOID': 'WGS84',\n",
       "  'UTM_ZONE': '13',\n",
       "  'GRID_CELL_SIZE_PANCHROMATIC': '15.00',\n",
       "  'GRID_CELL_SIZE_REFLECTIVE': '30.00',\n",
       "  'GRID_CELL_SIZE_THERMAL': '30.00',\n",
       "  'ORIENTATION': 'NORTH_UP',\n",
       "  'RESAMPLING_OPTION': 'CUBIC_CONVOLUTION',\n",
       "  'platform': 'LANDSAT_8',\n",
       "  'instrument': 'OLI_TIRS',\n",
       "  'WRS_PATH': '33',\n",
       "  'WRS_ROW': '35',\n",
       "  'NADIR': 'NADIR',\n",
       "  'TARGET_WRS_PATH': '33',\n",
       "  'TARGET_WRS_ROW': '35',\n",
       "  'STATION_ID': 'LGN',\n",
       "  'PROCESSING_SOFTWARE_VERSION': 'LPGS_2.2.2',\n",
       "  'DATA_TYPE': 'L1T',\n",
       "  'ELEVATION_SOURCE': 'GLS2000',\n",
       "  'OUTPUT_FORMAT': 'GEOTIFF',\n",
       "  'PANCHROMATIC_LINES': '14881',\n",
       "  'PANCHROMATIC_SAMPLES': '15261',\n",
       "  'REFLECTIVE_LINES': '7441',\n",
       "  'REFLECTIVE_SAMPLES': '7631',\n",
       "  'THERMAL_LINES': '7441',\n",
       "  'THERMAL_SAMPLES': '7631',\n",
       "  'CLOUD_COVER': '12.55',\n",
       "  'IMAGE_QUALITY_OLI': '9',\n",
       "  'IMAGE_QUALITY_TIRS': '9',\n",
       "  'ROLL_ANGLE': '-0.001',\n",
       "  'SUN_AZIMUTH': '121.50951213',\n",
       "  'SUN_ELEVATION': '68.15928707',\n",
       "  'EARTH_SUN_DISTANCE': '1.0148446',\n",
       "  'GROUND_CONTROL_POINTS_MODEL': '323',\n",
       "  'GEOMETRIC_RMSE_MODEL': '7.630',\n",
       "  'GEOMETRIC_RMSE_MODEL_Y': '5.345',\n",
       "  'GEOMETRIC_RMSE_MODEL_X': '5.445',\n",
       "  'GROUND_CONTROL_POINTS_VERIFY': '128',\n",
       "  'GEOMETRIC_RMSE_VERIFY': '4.424',\n",
       "  'METADATA_FILE_NAME': 'LC80330352013157LGN00_MTL.txt',\n",
       "  'BPF_NAME_OLI': 'LO8BPF20130606172850_20130606174500.01',\n",
       "  'BPF_NAME_TIRS': 'LT8BPF20130606172457_20130606174552.01',\n",
       "  'CPF_NAME': 'L8CPF20130401_20130630.04',\n",
       "  'RLUT_FILE_NAME': 'L8RLUT20130211_20431231v06.h5',\n",
       "  'datetime': '2013-06-06T22:09:28Z',\n",
       "  'gsd': 30.0,\n",
       "  'eo:cloud_cover': 12.55,\n",
       "  'proj:epsg': 32713,\n",
       "  'view:sun_azimuth': 121.50951213,\n",
       "  'view:sun_elevation': 68.15928707},\n",
       " 'geometry': {'type': 'Polygon',\n",
       "  'coordinates': (((37.03264, -106.85401),\n",
       "    (37.04494, -104.28029),\n",
       "    (35.03275, -104.29837),\n",
       "    (35.02132, -106.80746),\n",
       "    (37.03264, -106.85401)),)},\n",
       " 'links': [],\n",
       " 'assets': {'B1': {'href': '...B1',\n",
       "   'type': 'image/tiff; application=geotiff',\n",
       "   'eo:bands': [{'name': 'B1',\n",
       "     'common_name': 'coastal',\n",
       "     'center_wavelength': 0.44,\n",
       "     'full_width_half_max': 0.02}],\n",
       "   'roles': ['data']},\n",
       "  'B2': {'href': '...B2',\n",
       "   'type': 'image/tiff; application=geotiff',\n",
       "   'eo:bands': [{'name': 'B2',\n",
       "     'common_name': 'blue',\n",
       "     'center_wavelength': 0.48,\n",
       "     'full_width_half_max': 0.06}],\n",
       "   'roles': ['data']},\n",
       "  'B3': {'href': '...B3',\n",
       "   'type': 'image/tiff; application=geotiff',\n",
       "   'eo:bands': [{'name': 'B3',\n",
       "     'common_name': 'green',\n",
       "     'center_wavelength': 0.56,\n",
       "     'full_width_half_max': 0.06}],\n",
       "   'roles': ['data']},\n",
       "  'B4': {'href': '...B4',\n",
       "   'type': 'image/tiff; application=geotiff',\n",
       "   'eo:bands': [{'name': 'B4',\n",
       "     'common_name': 'red',\n",
       "     'center_wavelength': 0.65,\n",
       "     'full_width_half_max': 0.04}],\n",
       "   'roles': ['data']},\n",
       "  'B5': {'href': '...B5',\n",
       "   'type': 'image/tiff; application=geotiff',\n",
       "   'eo:bands': [{'name': 'B5',\n",
       "     'common_name': 'nir',\n",
       "     'center_wavelength': 0.86,\n",
       "     'full_width_half_max': 0.03}],\n",
       "   'roles': ['data']},\n",
       "  'B6': {'href': '...B6',\n",
       "   'type': 'image/tiff; application=geotiff',\n",
       "   'eo:bands': [{'name': 'B6',\n",
       "     'common_name': 'swir16',\n",
       "     'center_wavelength': 1.6,\n",
       "     'full_width_half_max': 0.08}],\n",
       "   'roles': ['data']},\n",
       "  'B7': {'href': '...B7',\n",
       "   'type': 'image/tiff; application=geotiff',\n",
       "   'eo:bands': [{'name': 'B7',\n",
       "     'common_name': 'swir22',\n",
       "     'center_wavelength': 2.2,\n",
       "     'full_width_half_max': 0.2}],\n",
       "   'roles': ['data']},\n",
       "  'B8': {'href': '...B8',\n",
       "   'type': 'image/tiff; application=geotiff',\n",
       "   'eo:bands': [{'name': 'B8',\n",
       "     'common_name': 'pan',\n",
       "     'center_wavelength': 0.59,\n",
       "     'full_width_half_max': 0.18}],\n",
       "   'roles': ['data']},\n",
       "  'B9': {'href': '...B9',\n",
       "   'type': 'image/tiff; application=geotiff',\n",
       "   'eo:bands': [{'name': 'B9',\n",
       "     'common_name': 'cirrus',\n",
       "     'center_wavelength': 1.37,\n",
       "     'full_width_half_max': 0.02}],\n",
       "   'roles': ['data']},\n",
       "  'B10': {'href': '...B10',\n",
       "   'type': 'image/tiff; application=geotiff',\n",
       "   'eo:bands': [{'name': 'B10',\n",
       "     'common_name': 'lwir11',\n",
       "     'center_wavelength': 10.9,\n",
       "     'full_width_half_max': 0.8}],\n",
       "   'roles': ['data']},\n",
       "  'B11': {'href': '...B11',\n",
       "   'type': 'image/tiff; application=geotiff',\n",
       "   'eo:bands': [{'name': 'B11',\n",
       "     'common_name': 'lwir12',\n",
       "     'center_wavelength': 12,\n",
       "     'full_width_half_max': 1}],\n",
       "   'roles': ['data']}},\n",
       " 'bbox': [35.02132, -106.85401, 37.04494, -104.28029],\n",
       " 'stac_extensions': ['eo', 'projection', 'view']}"
      ]
     },
     "execution_count": 32,
     "metadata": {},
     "output_type": "execute_result"
    }
   ],
   "source": [
    "item.to_dict()"
   ]
  },
  {
   "cell_type": "code",
   "execution_count": null,
   "metadata": {},
   "outputs": [],
   "source": [
    "'https://s3-us-west-2.amazonaws.com/landsat-pds/c1/L8/033/035/LC80330352013157LGN00/index.html"
   ]
  },
  {
   "cell_type": "code",
   "execution_count": null,
   "metadata": {},
   "outputs": [],
   "source": []
  },
  {
   "cell_type": "code",
   "execution_count": null,
   "metadata": {},
   "outputs": [],
   "source": [
    "write_file(item, include_self_link=True, dest_href=f'MetadataExtractorsTests_{item.id}.json')"
   ]
  },
  {
   "cell_type": "code",
   "execution_count": null,
   "metadata": {},
   "outputs": [],
   "source": []
  }
 ],
 "metadata": {
  "kernelspec": {
   "display_name": "Python [conda env:env_kompsat_5]",
   "language": "python",
   "name": "conda-env-env_kompsat_5-py"
  },
  "language_info": {
   "codemirror_mode": {
    "name": "ipython",
    "version": 3
   },
   "file_extension": ".py",
   "mimetype": "text/x-python",
   "name": "python",
   "nbconvert_exporter": "python",
   "pygments_lexer": "ipython3",
   "version": "3.7.9"
  }
 },
 "nbformat": 4,
 "nbformat_minor": 4
}
