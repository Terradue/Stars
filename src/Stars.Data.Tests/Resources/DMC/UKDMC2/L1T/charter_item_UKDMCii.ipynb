{
 "cells": [
  {
   "cell_type": "code",
   "execution_count": 68,
   "metadata": {},
   "outputs": [],
   "source": [
    "from pystac import *\n",
    "from shapely.geometry import Point, Polygon, mapping\n",
    "import json\n",
    "from datetime import datetime"
   ]
  },
  {
   "cell_type": "markdown",
   "metadata": {},
   "source": [
    "## Item identifier\n",
    "\n",
    "The value is extracted from:\n",
    "\n",
    "```\n",
    "/Dimap_Document/Metadata_Id/Dataset_Id/DATASET_NAME\n",
    "```"
   ]
  },
  {
   "cell_type": "code",
   "execution_count": 69,
   "metadata": {},
   "outputs": [],
   "source": [
    "item_id = 'U200a421_000000_015499_p_L1T'"
   ]
  },
  {
   "cell_type": "code",
   "execution_count": 70,
   "metadata": {},
   "outputs": [],
   "source": [
    "properties = {}"
   ]
  },
  {
   "cell_type": "markdown",
   "metadata": {},
   "source": [
    "## Spatial information"
   ]
  },
  {
   "cell_type": "markdown",
   "metadata": {},
   "source": [
    "The values for the coordinates are extracted from:\n",
    "\n",
    "```\n",
    "/Dimap_Document/Dataset_Frame\n",
    "```\n",
    "\n",
    "There are 4 vertex:\n",
    "\n",
    "```xml\n",
    "<Vertex>\n",
    "    <FRAME_X unit=\"M\">747725.0</FRAME_X>\n",
    "    <FRAME_Y unit=\"M\">1685189.0</FRAME_Y>\n",
    "    <FRAME_LON unit=\"DEG\">125.3062132704</FRAME_LON>\n",
    "    <FRAME_LAT unit=\"DEG\">15.23102562987</FRAME_LAT>\n",
    "    <FRAME_COL>14467.0</FRAME_COL>\n",
    "    <FRAME_ROW>0.0</FRAME_ROW>\n",
    "</Vertex>\n",
    "```\n",
    "\n",
    "Take the FRAME_LON and FRAME_LAT and build the points with:"
   ]
  },
  {
   "cell_type": "code",
   "execution_count": 71,
   "metadata": {},
   "outputs": [],
   "source": [
    "p1 = Point(125.3062132704, 15.23102562987)\n",
    "p2 = Point(122.345820746, 14.86938884105)\n",
    "p3 = Point(122.9974202006, 11.83916572868)\n",
    "p4 = Point(125.9228087702, 12.20444482678)\n"
   ]
  },
  {
   "cell_type": "code",
   "execution_count": 72,
   "metadata": {},
   "outputs": [],
   "source": [
    "footprint = Polygon([p.x, p.y] for p in [p1, p2, p3, p4])"
   ]
  },
  {
   "cell_type": "code",
   "execution_count": 73,
   "metadata": {},
   "outputs": [
    {
     "output_type": "execute_result",
     "data": {
      "text/plain": [
       "<shapely.geometry.polygon.Polygon at 0x7f7f0bc38760>"
      ],
      "image/svg+xml": "<svg xmlns=\"http://www.w3.org/2000/svg\" xmlns:xlink=\"http://www.w3.org/1999/xlink\" width=\"100.0\" height=\"100.0\" viewBox=\"122.202741225032 11.696086207712 3.8631470661360083 3.678018943126\" preserveAspectRatio=\"xMinYMin meet\"><g transform=\"matrix(1,0,0,-1,0,27.070191358549998)\"><path fill-rule=\"evenodd\" fill=\"#66cc99\" stroke=\"#555555\" stroke-width=\"0.07726294132272017\" opacity=\"0.6\" d=\"M 125.3062132704,15.23102562987 L 122.345820746,14.86938884105 L 122.9974202006,11.83916572868 L 125.9228087702,12.20444482678 L 125.3062132704,15.23102562987 z\" /></g></svg>"
     },
     "metadata": {},
     "execution_count": 73
    }
   ],
   "source": [
    "footprint"
   ]
  },
  {
   "cell_type": "code",
   "execution_count": 74,
   "metadata": {},
   "outputs": [
    {
     "output_type": "execute_result",
     "data": {
      "text/plain": [
       "[122.345820746, 11.83916572868, 125.9228087702, 15.23102562987]"
      ]
     },
     "metadata": {},
     "execution_count": 74
    }
   ],
   "source": [
    "bbox = list(footprint.bounds)\n",
    "\n",
    "bbox"
   ]
  },
  {
   "cell_type": "code",
   "execution_count": 75,
   "metadata": {},
   "outputs": [
    {
     "output_type": "execute_result",
     "data": {
      "text/plain": [
       "{'type': 'Polygon',\n",
       " 'coordinates': (((125.3062132704, 15.23102562987),\n",
       "   (122.345820746, 14.86938884105),\n",
       "   (122.9974202006, 11.83916572868),\n",
       "   (125.9228087702, 12.20444482678),\n",
       "   (125.3062132704, 15.23102562987)),)}"
      ]
     },
     "metadata": {},
     "execution_count": 75
    }
   ],
   "source": [
    "geometry=mapping(footprint)\n",
    "\n",
    "geometry"
   ]
  },
  {
   "cell_type": "markdown",
   "metadata": {},
   "source": [
    "## GSD\n",
    "\n",
    "Extracted from \n",
    "\n",
    "```\n",
    "/Dimap_Document/Dataset_Sources/Source_Information/Scene_Source/THEORETICAL_RESOLUTION\n",
    "```"
   ]
  },
  {
   "cell_type": "code",
   "execution_count": 76,
   "metadata": {},
   "outputs": [],
   "source": [
    "properties['gsd'] = 22.0"
   ]
  },
  {
   "cell_type": "markdown",
   "metadata": {},
   "source": [
    "## Projection"
   ]
  },
  {
   "cell_type": "markdown",
   "metadata": {},
   "source": [
    "Extracted from: \n",
    "\n",
    "```\n",
    "/Dimap_Document/Coordinate_Reference_System/Horizontal_CS/HORIZONTAL_CS_CODE\n",
    "```      "
   ]
  },
  {
   "cell_type": "code",
   "execution_count": 77,
   "metadata": {},
   "outputs": [],
   "source": [
    "properties['proj:epsg'] = 'EPSG:32651'"
   ]
  },
  {
   "cell_type": "markdown",
   "metadata": {},
   "source": [
    "## Time"
   ]
  },
  {
   "cell_type": "markdown",
   "metadata": {},
   "source": [
    "Extracted from: \n",
    "\n",
    "```\n",
    "/Dimap_Document/Dataset_Sources/Source_Information/Scene_Source/IMAGING_START_TIME\n",
    "/Dimap_Document/Dataset_Sources/Source_Information/Scene_Source/IMAGING_STOP_TIME\n",
    "``` "
   ]
  },
  {
   "cell_type": "code",
   "execution_count": 78,
   "metadata": {},
   "outputs": [],
   "source": [
    "properties['datetime'] = '2019-12-17T23:13:38Z'\n",
    "properties['start_datetime'] = '2019-12-17T23:12:48Z'\n",
    "properties['end_datetime'] = '2019-12-17T23:13:38Z'"
   ]
  },
  {
   "cell_type": "markdown",
   "metadata": {},
   "source": [
    "## Mission"
   ]
  },
  {
   "cell_type": "markdown",
   "metadata": {},
   "source": [
    "Extracted from: \n",
    "\n",
    "```\n",
    "/Dimap_Document/Dataset_Sources/Source_Information/Scene_Source/MISSION + MISSION_INDEX\n",
    "/Dimap_Document/Dataset_Sources/Source_Information/Scene_Source/INSTRUMENT\n",
    "```"
   ]
  },
  {
   "cell_type": "code",
   "execution_count": 79,
   "metadata": {},
   "outputs": [],
   "source": [
    "properties['platform'] = 'uk-dmcii'\n",
    "properties['instruments'] = ['slim-6-22']\n",
    "properties['mission'] = 'uk-dmc'"
   ]
  },
  {
   "cell_type": "markdown",
   "metadata": {},
   "source": [
    "## Processing"
   ]
  },
  {
   "cell_type": "markdown",
   "metadata": {},
   "source": [
    "Extracted from: \n",
    "\n",
    "```\n",
    "/Dimap_Document/Production/PRODUCT_TYPE\n",
    "/Dimap_Document/Production/DATASET_PRODUCTION_DATE\n",
    "\n",
    "```"
   ]
  },
  {
   "cell_type": "code",
   "execution_count": 80,
   "metadata": {},
   "outputs": [],
   "source": [
    "properties['processing:level'] = 'L1T'\n",
    "properties['created'] = \"2016-01-13T00:00:00Z\""
   ]
  },
  {
   "source": [
    "## Sat\n",
    "\n",
    "None?"
   ],
   "cell_type": "markdown",
   "metadata": {}
  },
  {
   "cell_type": "markdown",
   "metadata": {},
   "source": [
    "## View"
   ]
  },
  {
   "cell_type": "markdown",
   "metadata": {},
   "source": [
    "Extracted from: \n",
    "\n",
    "```\n",
    "/Dimap_Document/Dataset_Sources/Source_Information/Scene_Source/VIEWING_ANGLE\n",
    "/Dimap_Document/Dataset_Sources/Source_Information/Scene_Source/SUN_AZIMUTH\n",
    "/Dimap_Document/Dataset_Sources/Source_Information/Scene_Source/SUN_ELEVATION\n",
    "```"
   ]
  },
  {
   "cell_type": "code",
   "execution_count": 81,
   "metadata": {},
   "outputs": [],
   "source": [
    "properties['view:azimuth'] = 0.3413209478422\n",
    "properties['view:sun_azimuth'] = 119.1912660753\n",
    "properties['view:sun_elevation'] = 15.28536160123"
   ]
  },
  {
   "cell_type": "markdown",
   "metadata": {},
   "source": [
    "## Item and assets creation"
   ]
  },
  {
   "cell_type": "code",
   "execution_count": 82,
   "metadata": {},
   "outputs": [],
   "source": [
    "item = Item(id=item_id, \n",
    "           geometry=geometry,\n",
    "           bbox=bbox,\n",
    "           datetime=datetime.strptime(properties['datetime'], '%Y-%m-%dT%H:%M:%SZ'),\n",
    "           properties=properties,\n",
    "           stac_extensions=['eo', 'proj', 'view', 'processing'])"
   ]
  },
  {
   "cell_type": "code",
   "execution_count": 83,
   "metadata": {},
   "outputs": [],
   "source": [
    "asset = Asset(href='./ORTHO-U2005b3d_030000_045499_s_L1T-20160113-145544/{}'.format('U200a421_000000_015499_p_L1T.tif'),\n",
    "              media_type=MediaType.GEOTIFF,\n",
    "              roles=['data'])"
   ]
  },
  {
   "cell_type": "markdown",
   "metadata": {},
   "source": [
    "The band list ['nir', 'red', 'green'] is defined in the dimap file:\n",
    "\n",
    "```xml\n",
    "<Image_Interpretation>\n",
    "        <Spectral_Band_Info>\n",
    "            <BAND_INDEX>1</BAND_INDEX>\n",
    "            <BAND_DESCRIPTION>NIR</BAND_DESCRIPTION>\n",
    "            <PHYSICAL_GAIN>1.4237047959488924</PHYSICAL_GAIN>\n",
    "            <PHYSICAL_BIAS>16.715571904750256</PHYSICAL_BIAS>\n",
    "            <PHYSICAL_UNIT>W/m2/sr/m-6</PHYSICAL_UNIT>\n",
    "        </Spectral_Band_Info>\n",
    "        <Spectral_Band_Info>\n",
    "            <BAND_INDEX>2</BAND_INDEX>\n",
    "            <BAND_DESCRIPTION>Red</BAND_DESCRIPTION>\n",
    "            <PHYSICAL_GAIN>1.4125939046816456</PHYSICAL_GAIN>\n",
    "            <PHYSICAL_BIAS>18.13352421041051</PHYSICAL_BIAS>\n",
    "            <PHYSICAL_UNIT>W/m2/sr/m-6</PHYSICAL_UNIT>\n",
    "        </Spectral_Band_Info>\n",
    "        <Spectral_Band_Info>\n",
    "            <BAND_INDEX>3</BAND_INDEX>\n",
    "            <BAND_DESCRIPTION>Green</BAND_DESCRIPTION>\n",
    "            <PHYSICAL_GAIN>1.7182582768158448</PHYSICAL_GAIN>\n",
    "            <PHYSICAL_BIAS>29.810625525690778</PHYSICAL_BIAS>\n",
    "            <PHYSICAL_UNIT>W/m2/sr/m-6</PHYSICAL_UNIT>\n",
    "        </Spectral_Band_Info>\n",
    "    </Image_Interpretation>\n",
    "```"
   ]
  },
  {
   "cell_type": "code",
   "execution_count": 84,
   "metadata": {},
   "outputs": [
    {
     "output_type": "execute_result",
     "data": {
      "text/plain": [
       "[<Band name=NIR>, <Band name=red>, <Band name=green>]"
      ]
     },
     "metadata": {},
     "execution_count": 84
    }
   ],
   "source": [
    "\n",
    "eo_bands = [extensions.eo.Band.create(name=b, \n",
    "                          common_name=str.lower(b),\n",
    "                          center_wavelength=0.0,\n",
    "                          description=f'{b} radiance in W/m2/sr/m-6') for b in ['NIR', 'red', 'green']]\n",
    "\n",
    "eo_bands"
   ]
  },
  {
   "cell_type": "code",
   "execution_count": 85,
   "metadata": {},
   "outputs": [],
   "source": [
    "eo_item = extensions.eo.EOItemExt(item)\n",
    "eo_item.set_bands(eo_bands, asset=asset)\n",
    "\n",
    "eo_item.set_bands(eo_bands)\n",
    "eo_item.apply(eo_bands) "
   ]
  },
  {
   "cell_type": "code",
   "execution_count": 86,
   "metadata": {},
   "outputs": [
    {
     "output_type": "execute_result",
     "data": {
      "text/plain": [
       "<Item id=U200a421_000000_015499_p_L1T>"
      ]
     },
     "metadata": {},
     "execution_count": 86
    }
   ],
   "source": [
    "item.add_asset(key='composite', asset=asset)"
   ]
  },
  {
   "cell_type": "code",
   "execution_count": 87,
   "metadata": {},
   "outputs": [
    {
     "output_type": "execute_result",
     "data": {
      "text/plain": [
       "<Item id=U200a421_000000_015499_p_L1T>"
      ]
     },
     "metadata": {},
     "execution_count": 87
    }
   ],
   "source": [
    "item.add_asset(key='metadata', asset=Asset(href='./ORTHO-U2005b3d_030000_045499_s_L1T-20160113-145544/{}'.format('U200a421_000000_015499_p_L1T.dim'),\n",
    "                                           media_type=MediaType.XML,\n",
    "                                           roles=['metadata']))"
   ]
  },
  {
   "cell_type": "code",
   "execution_count": 88,
   "metadata": {},
   "outputs": [
    {
     "output_type": "execute_result",
     "data": {
      "text/plain": [
       "<Item id=U200a421_000000_015499_p_L1T>"
      ]
     },
     "metadata": {},
     "execution_count": 88
    }
   ],
   "source": [
    "item.add_asset(key='overview', asset=Asset(href='./ORTHO-U2005b3d_030000_045499_s_L1T-20160113-145544/{}'.format('U200a421_000000_015499_p_L1T_browse.jpg'),\n",
    "                                           media_type=MediaType.JPEG,\n",
    "                                           roles=['overview']))"
   ]
  },
  {
   "cell_type": "code",
   "execution_count": 89,
   "metadata": {},
   "outputs": [
    {
     "output_type": "execute_result",
     "data": {
      "text/plain": [
       "{'type': 'Feature',\n",
       " 'stac_version': '1.0.0-beta3',\n",
       " 'id': 'U200a421_000000_015499_p_L1T',\n",
       " 'properties': {'gsd': 22.0,\n",
       "  'proj:epsg': 'EPSG:32651',\n",
       "  'datetime': '2019-12-17T23:13:38Z',\n",
       "  'start_datetime': '2019-12-17T23:12:48Z',\n",
       "  'end_datetime': '2019-12-17T23:13:38Z',\n",
       "  'platform': 'uk-dmcii',\n",
       "  'instruments': ['slim-6-22'],\n",
       "  'mission': 'uk-dmc',\n",
       "  'processing:level': 'L1T',\n",
       "  'created': '2016-01-13T00:00:00Z',\n",
       "  'view:azimuth': 0.3413209478422,\n",
       "  'view:sun_azimuth': 119.1912660753,\n",
       "  'view:sun_elevation': 15.28536160123,\n",
       "  'eo:bands': [{'name': 'NIR',\n",
       "    'common_name': 'NIR',\n",
       "    'description': 'NIR radiance in W/m2/sr/m-6',\n",
       "    'center_wavelength': 0.0},\n",
       "   {'name': 'red',\n",
       "    'common_name': 'red',\n",
       "    'description': 'red radiance in W/m2/sr/m-6',\n",
       "    'center_wavelength': 0.0},\n",
       "   {'name': 'green',\n",
       "    'common_name': 'green',\n",
       "    'description': 'green radiance in W/m2/sr/m-6',\n",
       "    'center_wavelength': 0.0}],\n",
       "  'eo:cloud_cover': None},\n",
       " 'geometry': {'type': 'Polygon',\n",
       "  'coordinates': (((125.3062132704, 15.23102562987),\n",
       "    (122.345820746, 14.86938884105),\n",
       "    (122.9974202006, 11.83916572868),\n",
       "    (125.9228087702, 12.20444482678),\n",
       "    (125.3062132704, 15.23102562987)),)},\n",
       " 'links': [],\n",
       " 'assets': {'composite': {'href': './ORTHO-U2005b3d_030000_045499_s_L1T-20160113-145544/U200a421_000000_015499_p_L1T.tif',\n",
       "   'type': 'image/tiff; application=geotiff',\n",
       "   'eo:bands': [{'name': 'NIR',\n",
       "     'common_name': 'NIR',\n",
       "     'description': 'NIR radiance in W/m2/sr/m-6',\n",
       "     'center_wavelength': 0.0},\n",
       "    {'name': 'red',\n",
       "     'common_name': 'red',\n",
       "     'description': 'red radiance in W/m2/sr/m-6',\n",
       "     'center_wavelength': 0.0},\n",
       "    {'name': 'green',\n",
       "     'common_name': 'green',\n",
       "     'description': 'green radiance in W/m2/sr/m-6',\n",
       "     'center_wavelength': 0.0}],\n",
       "   'roles': ['data']},\n",
       "  'metadata': {'href': './ORTHO-U2005b3d_030000_045499_s_L1T-20160113-145544/U200a421_000000_015499_p_L1T.dim',\n",
       "   'type': 'application/xml',\n",
       "   'roles': ['metadata']},\n",
       "  'overview': {'href': './ORTHO-U2005b3d_030000_045499_s_L1T-20160113-145544/U200a421_000000_015499_p_L1T_browse.jpg',\n",
       "   'type': 'image/jpeg',\n",
       "   'roles': ['overview']}},\n",
       " 'bbox': [122.345820746, 11.83916572868, 125.9228087702, 15.23102562987],\n",
       " 'stac_extensions': ['eo', 'proj', 'view', 'processing']}"
      ]
     },
     "metadata": {},
     "execution_count": 89
    }
   ],
   "source": [
    "item.to_dict()"
   ]
  },
  {
   "cell_type": "markdown",
   "metadata": {},
   "source": [
    "## Write item to disk"
   ]
  },
  {
   "cell_type": "code",
   "execution_count": 90,
   "metadata": {},
   "outputs": [],
   "source": [
    "write_file(item, include_self_link=True, dest_href=f'MetadataExtractorsTests_{item.id}.json')"
   ]
  },
  {
   "cell_type": "markdown",
   "metadata": {},
   "source": [
    "## Update calibration information"
   ]
  },
  {
   "cell_type": "code",
   "execution_count": 91,
   "metadata": {},
   "outputs": [],
   "source": [
    "with open(f'MetadataExtractorsTests_{item.id}.json') as f:\n",
    "    data = json.load(f)"
   ]
  },
  {
   "cell_type": "code",
   "execution_count": 92,
   "metadata": {},
   "outputs": [
    {
     "output_type": "error",
     "ename": "KeyError",
     "evalue": "'data'",
     "traceback": [
      "\u001b[0;31m---------------------------------------------------------------------------\u001b[0m",
      "\u001b[0;31mKeyError\u001b[0m                                  Traceback (most recent call last)",
      "\u001b[0;32m<ipython-input-92-152beabd8a6b>\u001b[0m in \u001b[0;36m<module>\u001b[0;34m\u001b[0m\n\u001b[0;32m----> 1\u001b[0;31m \u001b[0mdata\u001b[0m\u001b[0;34m[\u001b[0m\u001b[0;34m'assets'\u001b[0m\u001b[0;34m]\u001b[0m\u001b[0;34m[\u001b[0m\u001b[0;34m'data'\u001b[0m\u001b[0;34m]\u001b[0m\u001b[0;34m[\u001b[0m\u001b[0;34m'eo:bands'\u001b[0m\u001b[0;34m]\u001b[0m\u001b[0;34m\u001b[0m\u001b[0;34m\u001b[0m\u001b[0m\n\u001b[0m",
      "\u001b[0;31mKeyError\u001b[0m: 'data'"
     ]
    }
   ],
   "source": [
    "data['assets']['data']['eo:bands']"
   ]
  },
  {
   "cell_type": "markdown",
   "metadata": {},
   "source": [
    "## Calibration factors from DN to radiance\n",
    "\n",
    "```\n",
    "/Dimap_Document/Image_Interpretation/Spectral_Band_Info/ PHYSICAL_GAIN PHYSICAL_BIAS\n",
    "```"
   ]
  },
  {
   "cell_type": "code",
   "execution_count": 60,
   "metadata": {},
   "outputs": [],
   "source": [
    "gain = [3.35788685716842, 5.758028652681285, 6.447066283217543]\n",
    "offset = [3.401283466071499, 6.376285553051935, 10.18074661820037]"
   ]
  },
  {
   "cell_type": "markdown",
   "metadata": {},
   "source": [
    "Calibration ESUN values from table 18  DMC Data Product Manual-v2.pdf"
   ]
  },
  {
   "cell_type": "code",
   "execution_count": 61,
   "metadata": {},
   "outputs": [],
   "source": [
    "eai = [1036.0, 1561.0, 1811.0]"
   ]
  },
  {
   "cell_type": "code",
   "execution_count": 62,
   "metadata": {},
   "outputs": [
    {
     "output_type": "stream",
     "name": "stdout",
     "text": [
      "{'name': 'nir', 'common_name': 'nir', 'description': 'nir radiance in W/m2/sr/m-6', 'scale': 3.35788685716842, 'offset': 3.401283466071499, 'eai': 1036.0}\n{'name': 'red', 'common_name': 'red', 'description': 'red radiance in W/m2/sr/m-6', 'scale': 5.758028652681285, 'offset': 6.376285553051935, 'eai': 1561.0}\n{'name': 'green', 'common_name': 'green', 'description': 'green radiance in W/m2/sr/m-6', 'scale': 6.447066283217543, 'offset': 10.18074661820037, 'eai': 1811.0}\n"
     ]
    }
   ],
   "source": [
    "for index, band in enumerate(data['assets']['data']['eo:bands']): \n",
    "    band['scale'] = gain[index]\n",
    "    band['offset'] = offset[index]\n",
    "    band['eai'] = eai[index]\n",
    "    print(band)\n",
    "    \n",
    "    data['assets']['data']['eo:bands'][index] = band\n",
    "    data['properties']['eo:bands'][index] = band"
   ]
  },
  {
   "cell_type": "code",
   "execution_count": 63,
   "metadata": {},
   "outputs": [
    {
     "output_type": "execute_result",
     "data": {
      "text/plain": [
       "{'type': 'Feature',\n",
       " 'stac_version': '1.0.0-beta3',\n",
       " 'id': 'U200a421_000000_015499_p_L1T',\n",
       " 'properties': {'gsd': 22.0,\n",
       "  'proj:epsg': 'EPSG:32651',\n",
       "  'datetime': '2019-12-17T23:13:38Z',\n",
       "  'start_datetime': '2019-12-17T23:12:48Z',\n",
       "  'end_datetime': '2019-12-17T23:13:38Z',\n",
       "  'platform': 'uk-dmcii',\n",
       "  'instruments': ['slim-6-22'],\n",
       "  'mission': 'uk-dmc',\n",
       "  'processing:level': 'L1T',\n",
       "  'created': '2016-01-13T00:00:00Z',\n",
       "  'view:azimuth': 0.3413209478422,\n",
       "  'view:sun_azimuth': 119.1912660753,\n",
       "  'view:sun_elevation': 15.28536160123,\n",
       "  'eo:bands': [{'name': 'nir',\n",
       "    'common_name': 'nir',\n",
       "    'description': 'nir radiance in W/m2/sr/m-6',\n",
       "    'scale': 3.35788685716842,\n",
       "    'offset': 3.401283466071499,\n",
       "    'eai': 1036.0},\n",
       "   {'name': 'red',\n",
       "    'common_name': 'red',\n",
       "    'description': 'red radiance in W/m2/sr/m-6',\n",
       "    'scale': 5.758028652681285,\n",
       "    'offset': 6.376285553051935,\n",
       "    'eai': 1561.0},\n",
       "   {'name': 'green',\n",
       "    'common_name': 'green',\n",
       "    'description': 'green radiance in W/m2/sr/m-6',\n",
       "    'scale': 6.447066283217543,\n",
       "    'offset': 10.18074661820037,\n",
       "    'eai': 1811.0}],\n",
       "  'eo:cloud_cover': None},\n",
       " 'geometry': {'type': 'Polygon',\n",
       "  'coordinates': [[[125.3062132704, 15.23102562987],\n",
       "    [122.345820746, 14.86938884105],\n",
       "    [122.9974202006, 11.83916572868],\n",
       "    [125.9228087702, 12.20444482678],\n",
       "    [125.3062132704, 15.23102562987]]]},\n",
       " 'links': [],\n",
       " 'assets': {'data': {'href': './U200a421_000000_015499_p_L1T.tif',\n",
       "   'type': 'image/tiff; application=geotiff',\n",
       "   'eo:bands': [{'name': 'nir',\n",
       "     'common_name': 'nir',\n",
       "     'description': 'nir radiance in W/m2/sr/m-6',\n",
       "     'scale': 3.35788685716842,\n",
       "     'offset': 3.401283466071499,\n",
       "     'eai': 1036.0},\n",
       "    {'name': 'red',\n",
       "     'common_name': 'red',\n",
       "     'description': 'red radiance in W/m2/sr/m-6',\n",
       "     'scale': 5.758028652681285,\n",
       "     'offset': 6.376285553051935,\n",
       "     'eai': 1561.0},\n",
       "    {'name': 'green',\n",
       "     'common_name': 'green',\n",
       "     'description': 'green radiance in W/m2/sr/m-6',\n",
       "     'scale': 6.447066283217543,\n",
       "     'offset': 10.18074661820037,\n",
       "     'eai': 1811.0}],\n",
       "   'roles': ['data']},\n",
       "  'metadata': {'href': './U200a421_000000_015499_p_L1T.dim',\n",
       "   'type': 'application/xml',\n",
       "   'roles': ['metadata']},\n",
       "  'overview': {'href': './U200a421_000000_015499_p_L1T_browse.jpg',\n",
       "   'type': 'image/jpeg',\n",
       "   'roles': ['overview']}},\n",
       " 'bbox': [122.345820746, 11.83916572868, 125.9228087702, 15.23102562987],\n",
       " 'stac_extensions': ['eo', 'proj', 'view', 'processing']}"
      ]
     },
     "metadata": {},
     "execution_count": 63
    }
   ],
   "source": [
    "data"
   ]
  },
  {
   "cell_type": "markdown",
   "metadata": {},
   "source": [
    "## Write to disk"
   ]
  },
  {
   "cell_type": "code",
   "execution_count": 64,
   "metadata": {},
   "outputs": [],
   "source": [
    "with open(f'MetadataExtractorsTests_{item.id}.json', 'w') as json_file:\n",
    "    json.dump(data, json_file, indent=4)"
   ]
  },
  {
   "cell_type": "code",
   "execution_count": null,
   "metadata": {},
   "outputs": [],
   "source": []
  }
 ],
 "metadata": {
  "kernelspec": {
   "display_name": "Python 3.8.5 64-bit",
   "language": "python",
   "name": "python38564bit20fca7d9a2924c4cb36703ca9504e72e"
  },
  "language_info": {
   "codemirror_mode": {
    "name": "ipython",
    "version": 3
   },
   "file_extension": ".py",
   "mimetype": "text/x-python",
   "name": "python",
   "nbconvert_exporter": "python",
   "pygments_lexer": "ipython3",
   "version": "3.8.5-final"
  }
 },
 "nbformat": 4,
 "nbformat_minor": 4
}