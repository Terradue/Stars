{
 "cells": [
  {
   "cell_type": "code",
   "execution_count": 1,
   "metadata": {},
   "outputs": [],
   "source": [
    "from pystac import *\n",
    "from shapely.geometry import Point, Polygon, mapping\n",
    "import json\n",
    "from datetime import datetime"
   ]
  },
  {
   "cell_type": "code",
   "execution_count": 2,
   "metadata": {},
   "outputs": [],
   "source": [
    "item_id = 'AB0009e5_001_MUL_L1T'"
   ]
  },
  {
   "cell_type": "code",
   "execution_count": 3,
   "metadata": {},
   "outputs": [],
   "source": [
    "p1 = Point(119.4688475506, 0.9092862133597)\n",
    "p2 = Point(119.1757162387, -0.4953445709856)\n",
    "p3 = Point(120.5066675928, -0.7638726131803)\n",
    "p4 = Point(120.8004542068, 0.6399029422236)\n",
    "p5 = Point(119.468847552, 0.9092862136569)"
   ]
  },
  {
   "cell_type": "code",
   "execution_count": 4,
   "metadata": {},
   "outputs": [],
   "source": [
    "footprint = Polygon([p.x, p.y] for p in [p1, p2, p3, p4, p5])"
   ]
  },
  {
   "cell_type": "code",
   "execution_count": 5,
   "metadata": {},
   "outputs": [
    {
     "data": {
      "image/svg+xml": [
       "<svg xmlns=\"http://www.w3.org/2000/svg\" xmlns:xlink=\"http://www.w3.org/1999/xlink\" width=\"100.0\" height=\"100.0\" viewBox=\"119.10878988562652 -0.830798966253788 1.7585906742469604 1.807011532984176\" preserveAspectRatio=\"xMinYMin meet\"><g transform=\"matrix(1,0,0,-1,0,0.1454136004766)\"><path fill-rule=\"evenodd\" fill=\"#66cc99\" stroke=\"#555555\" stroke-width=\"0.03614023065968352\" opacity=\"0.6\" d=\"M 119.4688475506,0.9092862133597 L 119.1757162387,-0.4953445709856 L 120.5066675928,-0.7638726131803 L 120.8004542068,0.6399029422236 L 119.468847552,0.9092862136569 L 119.4688475506,0.9092862133597 z\" /></g></svg>"
      ],
      "text/plain": [
       "<shapely.geometry.polygon.Polygon at 0x7fc9b868b350>"
      ]
     },
     "execution_count": 5,
     "metadata": {},
     "output_type": "execute_result"
    }
   ],
   "source": [
    "footprint"
   ]
  },
  {
   "cell_type": "code",
   "execution_count": 6,
   "metadata": {},
   "outputs": [
    {
     "data": {
      "text/plain": [
       "[119.1757162387, -0.7638726131803, 120.8004542068, 0.9092862136569]"
      ]
     },
     "execution_count": 6,
     "metadata": {},
     "output_type": "execute_result"
    }
   ],
   "source": [
    "bbox = list(footprint.bounds)\n",
    "\n",
    "bbox"
   ]
  },
  {
   "cell_type": "code",
   "execution_count": 7,
   "metadata": {},
   "outputs": [],
   "source": [
    "properties = {}\n",
    "\n",
    "properties['datetime'] = '2020-03-14T01:27:20Z'\n",
    "properties['start_datetime'] = '2020-03-14T01:27:20Z'\n",
    "properties['end_datetime'] = '2020-03-14T01:27:20Z'\n",
    "properties['platform'] = 'ALSAT-1B'\n",
    "properties['instruments'] = ['ALITE']\n",
    "properties['mission'] = 'ALSAT-1B'\n",
    "properties['gsd'] = 24\n",
    "properties['processing:level'] = 'L1T'\n",
    "properties['proj:epsg'] = 'EPSG:32650'\n",
    "#properties['view:incidence_angle'] =\n",
    "properties['view:azimuth'] = -93.87859042310623\n",
    "properties['view:sun_azimuth'] = 93.79403995855\n",
    "properties['view:sun_elevation'] = 49.39520864449\n",
    "#properties[''] = \n",
    "#properties[''] = \n"
   ]
  },
  {
   "cell_type": "code",
   "execution_count": 8,
   "metadata": {},
   "outputs": [],
   "source": [
    "item = Item(id=item_id, \n",
    "           geometry=mapping(footprint),\n",
    "           bbox=bbox,\n",
    "           datetime=datetime.strptime(properties['datetime'], '%Y-%m-%dT%H:%M:%SZ'),\n",
    "           properties=properties,\n",
    "           stac_extensions=['eo', 'sat', 'proj', 'view', 'processing'])"
   ]
  },
  {
   "cell_type": "code",
   "execution_count": null,
   "metadata": {},
   "outputs": [],
   "source": [
    "from shapely.geometry import shape\n",
    "shape(mapping(footprint))"
   ]
  },
  {
   "cell_type": "code",
   "execution_count": 9,
   "metadata": {},
   "outputs": [],
   "source": [
    "\n",
    "# href, title=None, description=None, media_type=None, roles=None, properties=None\n",
    "asset = Asset(href='./{}'.format('AB0009e5_001_MUL_L1T.tif'),\n",
    "              media_type=MediaType.GEOTIFF,\n",
    "              roles=['data'],\n",
    "             properties={'scale': 0.2})"
   ]
  },
  {
   "cell_type": "code",
   "execution_count": 10,
   "metadata": {},
   "outputs": [
    {
     "data": {
      "text/plain": [
       "[<Band name=blue>, <Band name=green>, <Band name=red>, <Band name=nir>]"
      ]
     },
     "execution_count": 10,
     "metadata": {},
     "output_type": "execute_result"
    }
   ],
   "source": [
    "eo_bands = [extensions.eo.Band.create(name=b, \n",
    "                          common_name=b,\n",
    "                          description=f'{b} radiance in W/m2/sr/m-6 (gain 0.2)') for b in ['blue', 'green', 'red', 'nir']]\n",
    "\n",
    "eo_bands"
   ]
  },
  {
   "cell_type": "code",
   "execution_count": 11,
   "metadata": {},
   "outputs": [],
   "source": [
    "eo_item = extensions.eo.EOItemExt(item)\n",
    "eo_item.set_cloud_cover('0.0')\n",
    "eo_item.set_bands(eo_bands, asset=asset)\n",
    "\n",
    "eo_item.set_bands(eo_bands)\n",
    "eo_item.apply(eo_bands) "
   ]
  },
  {
   "cell_type": "code",
   "execution_count": 12,
   "metadata": {},
   "outputs": [
    {
     "data": {
      "text/plain": [
       "<Item id=AB0009e5_001_MUL_L1T>"
      ]
     },
     "execution_count": 12,
     "metadata": {},
     "output_type": "execute_result"
    }
   ],
   "source": [
    "item.add_asset(key='data', asset=asset)"
   ]
  },
  {
   "cell_type": "code",
   "execution_count": 13,
   "metadata": {},
   "outputs": [
    {
     "data": {
      "text/plain": [
       "<Item id=AB0009e5_001_MUL_L1T>"
      ]
     },
     "execution_count": 13,
     "metadata": {},
     "output_type": "execute_result"
    }
   ],
   "source": [
    "item.add_asset(key='metadata', asset=Asset(href='./{}'.format('AB0009e5_001_MUL_L1T.dim'),\n",
    "                                           media_type=MediaType.XML,\n",
    "                                           roles=['metadata']))"
   ]
  },
  {
   "cell_type": "code",
   "execution_count": 14,
   "metadata": {},
   "outputs": [
    {
     "data": {
      "text/plain": [
       "<Item id=AB0009e5_001_MUL_L1T>"
      ]
     },
     "execution_count": 14,
     "metadata": {},
     "output_type": "execute_result"
    }
   ],
   "source": [
    "item.add_asset(key='overview', asset=Asset(href='./{}'.format('AB0009e5_001_MUL_L1T_browse.jpg'),\n",
    "                                           media_type=MediaType.JPEG,\n",
    "                                           roles=['overview']))"
   ]
  },
  {
   "cell_type": "code",
   "execution_count": 15,
   "metadata": {},
   "outputs": [],
   "source": [
    "item.href = './a'"
   ]
  },
  {
   "cell_type": "code",
   "execution_count": 16,
   "metadata": {},
   "outputs": [
    {
     "data": {
      "text/plain": [
       "{'type': 'Feature',\n",
       " 'stac_version': '1.0.0-beta.2',\n",
       " 'id': 'AB0009e5_001_MUL_L1T',\n",
       " 'properties': {'datetime': '2020-03-14T01:27:20Z',\n",
       "  'start_datetime': '2020-03-14T01:27:20Z',\n",
       "  'end_datetime': '2020-03-14T01:27:20Z',\n",
       "  'platform': 'ALSAT-1B',\n",
       "  'instruments': ['ALITE'],\n",
       "  'mission': 'ALSAT-1B',\n",
       "  'gsd': 24,\n",
       "  'processing:level': 'L1T',\n",
       "  'proj:epsg': 'EPSG:32650',\n",
       "  'view:azimuth': -93.87859042310623,\n",
       "  'view:sun_azimuth': 93.79403995855,\n",
       "  'view:sun_elevation': 49.39520864449,\n",
       "  'eo:cloud_cover': None,\n",
       "  'eo:bands': [{'name': 'blue',\n",
       "    'common_name': 'blue',\n",
       "    'description': 'blue radiance in W/m2/sr/m-6 (gain 0.2)'},\n",
       "   {'name': 'green',\n",
       "    'common_name': 'green',\n",
       "    'description': 'green radiance in W/m2/sr/m-6 (gain 0.2)'},\n",
       "   {'name': 'red',\n",
       "    'common_name': 'red',\n",
       "    'description': 'red radiance in W/m2/sr/m-6 (gain 0.2)'},\n",
       "   {'name': 'nir',\n",
       "    'common_name': 'nir',\n",
       "    'description': 'nir radiance in W/m2/sr/m-6 (gain 0.2)'}]},\n",
       " 'geometry': {'type': 'Polygon',\n",
       "  'coordinates': (((119.4688475506, 0.9092862133597),\n",
       "    (119.1757162387, -0.4953445709856),\n",
       "    (120.5066675928, -0.7638726131803),\n",
       "    (120.8004542068, 0.6399029422236),\n",
       "    (119.468847552, 0.9092862136569),\n",
       "    (119.4688475506, 0.9092862133597)),)},\n",
       " 'links': [],\n",
       " 'assets': {'data': {'href': './AB0009e5_001_MUL_L1T.tif',\n",
       "   'type': 'image/tiff; application=geotiff',\n",
       "   'scale': 0.2,\n",
       "   'eo:bands': [{'name': 'blue',\n",
       "     'common_name': 'blue',\n",
       "     'description': 'blue radiance in W/m2/sr/m-6 (gain 0.2)'},\n",
       "    {'name': 'green',\n",
       "     'common_name': 'green',\n",
       "     'description': 'green radiance in W/m2/sr/m-6 (gain 0.2)'},\n",
       "    {'name': 'red',\n",
       "     'common_name': 'red',\n",
       "     'description': 'red radiance in W/m2/sr/m-6 (gain 0.2)'},\n",
       "    {'name': 'nir',\n",
       "     'common_name': 'nir',\n",
       "     'description': 'nir radiance in W/m2/sr/m-6 (gain 0.2)'}],\n",
       "   'roles': ['data']},\n",
       "  'metadata': {'href': './AB0009e5_001_MUL_L1T.dim',\n",
       "   'type': 'application/xml',\n",
       "   'roles': ['metadata']},\n",
       "  'overview': {'href': './AB0009e5_001_MUL_L1T_browse.jpg',\n",
       "   'type': 'image/jpeg',\n",
       "   'roles': ['overview']}},\n",
       " 'bbox': [119.1757162387, -0.7638726131803, 120.8004542068, 0.9092862136569],\n",
       " 'stac_extensions': ['eo', 'sat', 'proj', 'view', 'processing']}"
      ]
     },
     "execution_count": 16,
     "metadata": {},
     "output_type": "execute_result"
    }
   ],
   "source": [
    "item.to_dict()"
   ]
  },
  {
   "cell_type": "code",
   "execution_count": 17,
   "metadata": {},
   "outputs": [],
   "source": [
    "write_file(item, include_self_link=True, dest_href=f'MetadataExtractorsTests_{item.id}.json')"
   ]
  },
  {
   "cell_type": "code",
   "execution_count": null,
   "metadata": {},
   "outputs": [],
   "source": []
  }
 ],
 "metadata": {
  "kernelspec": {
   "display_name": "Python [conda env:env_stac]",
   "language": "python",
   "name": "conda-env-env_stac-py"
  },
  "language_info": {
   "codemirror_mode": {
    "name": "ipython",
    "version": 3
   },
   "file_extension": ".py",
   "mimetype": "text/x-python",
   "name": "python",
   "nbconvert_exporter": "python",
   "pygments_lexer": "ipython3",
   "version": "3.7.9"
  }
 },
 "nbformat": 4,
 "nbformat_minor": 4
}
