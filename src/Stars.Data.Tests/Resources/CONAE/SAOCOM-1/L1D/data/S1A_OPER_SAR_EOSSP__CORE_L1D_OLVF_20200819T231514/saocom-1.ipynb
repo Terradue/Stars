{
 "cells": [
  {
   "cell_type": "code",
   "execution_count": 198,
   "metadata": {},
   "outputs": [],
   "source": [
    "from pystac import *\n",
    "from shapely.geometry import Point, Polygon, mapping\n",
    "import json\n",
    "from datetime import datetime"
   ]
  },
  {
   "cell_type": "markdown",
   "metadata": {},
   "source": [
    "## Initialize"
   ]
  },
  {
   "cell_type": "code",
   "execution_count": 199,
   "metadata": {},
   "outputs": [],
   "source": [
    "properties = {}"
   ]
  },
  {
   "cell_type": "markdown",
   "metadata": {},
   "source": [
    "## Identifier"
   ]
  },
  {
   "cell_type": "markdown",
   "metadata": {},
   "source": [
    "\n",
    "variable: item_id\n",
    "\n",
    "xpath or method: /SAOCOM_XMLProduct/Channel/RasterInfo/FileName\n",
    "\n",
    "field: S1A_OPER_SAR_EOSSP__CORE_L1D_OLVF_20200819T231514.xemt\n",
    "\n",
    "notes: take L1D product filename from /CONAE/SAOCOM-1/L1D/data/item_id/Config/parameterFile2.xml' as 'S1<X>_OPER_SAR_EOSSP__CORE_<LLL>_<Orbit>_<DDDDDDDD>T<TTTTTT>'\n",
    "\n",
    "example: S1A_OPER_SAR_EOSSP__CORE_L1D_OLVF_20200819T231514\n",
    "\n",
    "-----------------------------------------------------"
   ]
  },
  {
   "cell_type": "code",
   "execution_count": 200,
   "metadata": {},
   "outputs": [],
   "source": [
    "item_id = 'S1A_OPER_SAR_EOSSP__CORE_L1D_OLVF_20200819T231514'\n",
    "properties['item_id'] = 'S1A_OPER_SAR_EOSSP__CORE_L1D_OLVF_20200819T231514'"
   ]
  },
  {
   "cell_type": "markdown",
   "metadata": {},
   "source": [
    "## Mission"
   ]
  },
  {
   "cell_type": "markdown",
   "metadata": {},
   "source": [
    "variable: mission\n",
    "\n",
    "xpath or method: N/A\n",
    "\n",
    "field: N/A\n",
    "\n",
    "notes: HARDCODED\n",
    "\n",
    "example: saocom-1\n",
    "\n",
    "-----------------------------------------------------\n",
    "\n",
    "variable: platform\n",
    "\n",
    "xpath or method: /SAOCOM_XMLProduct/Channel/RasterInfo/FileName\n",
    "\n",
    "field: N/A\n",
    "\n",
    "notes:  from filename under /CONAE/SAOCOM-1/L1D/data/item_id/Data as '<level>-acqId<cccccccccc>-<x>-<mmm>-<hhhhhhhhhh>-<pp>-<r>' extract satellite A/B from -<x>-\n",
    "\n",
    "example: saocom-1A\n",
    "\n",
    "-----------------------------------------------------\n",
    "\n",
    "variable: instruments\n",
    "\n",
    "xpath or method: /SAOCOM_XMLProduct/Channel/DataSetInfo/SensorName\n",
    "\n",
    "field: SAO1A\n",
    "\n",
    "notes: SAR-L\n",
    "\n",
    "example: SAO1A\n",
    "\n",
    "-----------------------------------------------------"
   ]
  },
  {
   "cell_type": "code",
   "execution_count": 201,
   "metadata": {},
   "outputs": [],
   "source": [
    "properties['mission'] = 'saocom-1'\n",
    "properties['platform'] = 'saocom-1A'\n",
    "properties['instruments'] = 'SAO1A'"
   ]
  },
  {
   "cell_type": "markdown",
   "metadata": {},
   "source": [
    "## SAT extension"
   ]
  },
  {
   "cell_type": "markdown",
   "metadata": {},
   "source": [
    "variable: orbit_state\n",
    "\n",
    "xpath or method: /SAOCOM_XMLProduct/Channel/StateVectorData/OrbitDirection\n",
    "\n",
    "field: ASCENDING\n",
    "\n",
    "notes: N/A\n",
    "\n",
    "example: ASCENDING\n",
    "\n",
    "-----------------------------------------------------\n",
    "\n",
    "variable: absolute_orbit\n",
    "\n",
    "xpath or method: /SAOCOM_XMLProduct/Channel/StateVectorData/OrbitNumber\n",
    "\n",
    "field: NOT AVAILABLE\n",
    "\n",
    "notes: N/A\n",
    "\n",
    "example: N/A\n",
    "\n",
    "-----------------------------------------------------"
   ]
  },
  {
   "cell_type": "code",
   "execution_count": 202,
   "metadata": {},
   "outputs": [],
   "source": [
    "properties['sat:orbit_state'] = 'ASCENDING'\n",
    "properties['sat:absolute_orbit'] = 'NA'"
   ]
  },
  {
   "cell_type": "markdown",
   "metadata": {},
   "source": [
    "## VIEW extension"
   ]
  },
  {
   "cell_type": "markdown",
   "metadata": {},
   "source": [
    "variable: view.incidence_angle\n",
    "\n",
    "xpath or method: N/A\n",
    "\n",
    "field: [24.9,48.7]\n",
    "\n",
    "notes: The incidence angle is the angle between the incident SAR beam and the axis perpendicular to the local geodetic ground surface (from target point of view). It ranges from Near Incidence Angle to Far Incidence Angle. Min incidence angle for TOPSAR Wide Single Pol and Dual Pol: near range 24.9, far range 48.7. Ref: CONAE, Saocom-1 Level 1 Products Format, Jan 2020, Tab.3 Level 1 Products main characteristics\n",
    "\n",
    "example: [24.9,48.7]\n",
    "\n",
    "-----------------------------------------------------\n",
    "\n",
    "variable: view:off_nadir\n",
    "\n",
    "xpath or method: N/A\n",
    "\n",
    "field: [15,50]\n",
    "\n",
    "notes: The off-nadir angle (or look angle) is the angle between the satellite's nadir position and the SAR beam (from instrument point of view). Ref. https://eo.belspo.be/nl/satellites-and-sensors/saocom-1a\n",
    "\n",
    "example: [15,50]\n",
    "\n",
    "-----------------------------------------------------"
   ]
  },
  {
   "cell_type": "code",
   "execution_count": 203,
   "metadata": {},
   "outputs": [],
   "source": [
    "properties['view:incidence_angle'] = [24.9,48.7]\n",
    "properties['view:off_nadir'] = [15.0,50.0]"
   ]
  },
  {
   "cell_type": "markdown",
   "metadata": {},
   "source": [
    "## SAR extension"
   ]
  },
  {
   "cell_type": "markdown",
   "metadata": {},
   "source": [
    "variable: sar:observation_direction\n",
    "\n",
    "xpath or method: /SAOCOM_XMLProduct/Channel/DataSetInfo/SideLooking\n",
    "\n",
    "field: RIGHT\n",
    "\n",
    "notes: Antenna pointing direction, string: as \"right\" or \"left\". For KP5 given in capital letters -> e.g. from \"RIGHT\" to \"right\"\n",
    "\n",
    "example: right\n",
    "\n",
    "-----------------------------------------------------\n",
    "\n",
    "variable: sar:instrument_mode\n",
    "\n",
    "xpath or method: /SAOCOM_XMLProduct/Channel/RasterInfo/FileName\n",
    "\n",
    "field: TOPSAR WIDE\n",
    "\n",
    "notes: REQUIRED, take filename '<level>-acqId<cccccccccc>-<x>-<mmm>-<hhhhhhhhhh>-<pp>-<r>' and extract <mmm> or <mmmm> \"smx\" for stripmap x, with x the beam number 1 to 10; \"tna\" for topsar narrow A; \"tnb\" for topsar narrow B; \"tw\" for topsar wide.\n",
    "\n",
    "example: TW\n",
    "\n",
    "-----------------------------------------------------\n",
    "\n",
    "variable: sar:frequency_band\n",
    "\n",
    "xpath or method: N/A\n",
    "\n",
    "field: N/A\n",
    "\n",
    "notes: REQUIRED: HARDCODED\n",
    "\n",
    "example: L\n",
    "\n",
    "-----------------------------------------------------\n",
    "\n",
    "variable: sar:center_frequency\n",
    "\n",
    "xpath or method: /Auxiliary/Root/RadarFrequency\n",
    "\n",
    "field: 1275000000\n",
    "\n",
    "notes: In gigahertz (GHz), multiple the value by 1e-9.\n",
    "\n",
    "example: 12.75\n",
    "\n",
    "-----------------------------------------------------\n",
    "\n",
    "variable: sar:polarizations\n",
    "\n",
    "xpath or method: /SAOCOM_XMLProduct/Channel/SwathInfo/Polarization\n",
    "\n",
    "field: V/V V/H\n",
    "\n",
    "notes: REQUIRED for both single pol images convert V/V and V/H to VV and VH. Same also from filename <pp> field \n",
    "\n",
    "example: [VV,VH]\n",
    "\n",
    "-----------------------------------------------------\n",
    "\n",
    "variable: sar:product_type\n",
    "\n",
    "xpath or method: /SAOCOM_XMLProduct/Channel/RasterInfo/FileName\n",
    "\n",
    "field: gtc\n",
    "\n",
    "notes: REQUIRED: take filename '<level>-acqId<cccccccccc>-<x>-<mmm>-<hhhhhhhhhh>-<pp>-<r>' and extract <level> from the following options <level>={slc (L1A), di (L1B), gec (L1C), gtc (L1D)} and choose among P=(SSC,MGD,GRD,GEC,GTC,RTC), i.e. P=GTC \n",
    "\n",
    "example: GTC\n",
    "\n",
    "-----------------------------------------------------"
   ]
  },
  {
   "cell_type": "code",
   "execution_count": 204,
   "metadata": {},
   "outputs": [],
   "source": [
    "properties['sar:observation_direction'] = 'right'\n",
    "properties['sar:instrument_mode'] = 'TW'\n",
    "properties['sar:frequency_band'] = 'L'\n",
    "properties['sar:center_frequency'] = 12.75\n",
    "properties['sar:polarizations'] = ['VV','VH']\n",
    "properties['sar:product_type'] = 'GTC'"
   ]
  },
  {
   "cell_type": "markdown",
   "metadata": {},
   "source": [
    "## Processing Level"
   ]
  },
  {
   "cell_type": "markdown",
   "metadata": {},
   "source": [
    "variable: proc:level\n",
    "\n",
    "xpath or method: /SAOCOM_XMLProduct/Channel/RasterInfo/FileName\n",
    "\n",
    "field: N/A\n",
    "\n",
    "notes: from sar:product_type <level>={slc (L1A), di (L1B), gec (L1C), gtc (L1D)}\n",
    "\n",
    "example: L1D\n",
    "\n",
    "-----------------------------------------------------"
   ]
  },
  {
   "cell_type": "code",
   "execution_count": 205,
   "metadata": {},
   "outputs": [],
   "source": [
    "properties['processing:level'] = 'L1D'"
   ]
  },
  {
   "cell_type": "markdown",
   "metadata": {},
   "source": [
    "## Time"
   ]
  },
  {
   "cell_type": "markdown",
   "metadata": {},
   "source": [
    "variable: datetime\n",
    "\n",
    "xpath or method: /SAOCOM_XMLProduct/Channel/DataSetInfo/ProcessingDate\n",
    "\n",
    "field: 19-AUG-2020 21:17:26.613000000000\n",
    "\n",
    "notes: format to ISO\n",
    "    \n",
    "example: 2020-08-19T21:17:26Z\n",
    "\n",
    "-----------------------------------------------------\n",
    "\n",
    "variable: start_datetime\n",
    "\n",
    "xpath or method: /SAOCOM_XMLProduct/Channel/SwathInfo/AcquisitionStartTime\n",
    "\n",
    "field: 20-AUG-2020 01:25:21.947890000000\n",
    "\n",
    "notes: format to ISO \n",
    "\n",
    "example: 2020-08-20T01:25:21Z\n",
    "\n",
    "-----------------------------------------------------\n",
    "\n",
    "variable: end_datetime\n",
    "\n",
    "xpath or method: N/A\n",
    "\n",
    "field: N/A\n",
    "\n",
    "notes: format to ISO\n",
    "\n",
    "example: N/A\n",
    "\n",
    "-----------------------------------------------------"
   ]
  },
  {
   "cell_type": "code",
   "execution_count": 206,
   "metadata": {},
   "outputs": [],
   "source": [
    "properties['datetime'] = '2020-08-19T21:17:26Z'\n",
    "properties['start_datetime'] = '2020-08-20T01:25:21Z'\n",
    "#properties['end_datetime'] = ''"
   ]
  },
  {
   "cell_type": "markdown",
   "metadata": {},
   "source": [
    "## Spatial Information"
   ]
  },
  {
   "cell_type": "markdown",
   "metadata": {},
   "source": [
    "variable: proj:epsg\n",
    "\n",
    "xpath or method: /SAOCOM_XMLProduct/Channel/DataSetInfo/ProjectionParameters\n",
    "\n",
    "field: N/A\n",
    "\n",
    "notes: Use this field to derive EPSG. E.g. (+proj=utm +zone=52 +ellps=WGS84 +datum=WGS84 +units=m +no_defs +x_0=372414 +y_0=5.41344e+06)->EPSG=32652\n",
    "\n",
    "example: 32652\n",
    "\n",
    "-----------------------------------------------------\n",
    "\n",
    "variable: proj:wkt2\n",
    "\n",
    "xpath or method: /SAOCOM_XMLProduct/Channel/GroundCornerPoints/XxxXxx, XxxXxx=(NorthWest,NorthEast,SouthWest,SouthEast)\n",
    "\n",
    "field: N/A\n",
    "\n",
    "notes: find WKT2 from BBOX\n",
    "\n",
    "example: N/A\n",
    "\n",
    "-----------------------------------------------------"
   ]
  },
  {
   "cell_type": "code",
   "execution_count": 207,
   "metadata": {},
   "outputs": [],
   "source": [
    "properties['proj:epsg'] = 32652\n",
    "# properties['proj:wkt2'] = ''  ###TBD"
   ]
  },
  {
   "cell_type": "markdown",
   "metadata": {},
   "source": [
    "## SAR geometry"
   ]
  },
  {
   "cell_type": "markdown",
   "metadata": {},
   "source": [
    "\n",
    "variable: sar:resolution_range\n",
    "\n",
    "xpath or method: N/A\n",
    "\n",
    "field: N/A\n",
    "\n",
    "notes: Range resolution in meters (m). Ref: CONAE, Saocom-1 Level 1 Products Format, Jan 2020, Tab.3 Level 1 Products main characteristics.\n",
    "\n",
    "example: 50\n",
    "\n",
    "-----------------------------------------------------\n",
    "\n",
    "variable: sar:resolution_azimuth\n",
    "\n",
    "xpath or method: N/A\n",
    "\n",
    "field: N/A\n",
    "\n",
    "notes: Azimuth resolution in meters (m). Ref: CONAE, Saocom-1 Level 1 Products Format, Jan 2020, Tab.3 Level 1 Products main characteristics.\n",
    "\n",
    "example: 50\n",
    "\n",
    "-----------------------------------------------------\n",
    "\n",
    "variable: sar:pixel_spacing_range\n",
    "\n",
    "xpath or method: /SAOCOM_XMLProduct/Channel/RasterInfo/LinesStep\n",
    "\n",
    "field: 45.9972638425657\n",
    "\n",
    "notes: Strongly RECOMMENDED for GRD\n",
    "\n",
    "example: 45.9972638425657\n",
    "\n",
    "-----------------------------------------------------\n",
    "\n",
    "variable: sar:pixel_spacing_azimuth\n",
    "\n",
    "xpath or method: /SAOCOM_XMLProduct/Channel/RasterInfo/SamplesStep\n",
    "\n",
    "field: 47.346770920798\n",
    "\n",
    "notes: Strongly RECOMMENDED for GRD\n",
    "\n",
    "example: 47.346770920798\n",
    "\n",
    "-----------------------------------------------------\n",
    "\n",
    "variable: sar:looks_range\n",
    "\n",
    "xpath or method: N/A\n",
    "\n",
    "field: N/A\n",
    "\n",
    "notes: number of looks perpendicular to the flight path\n",
    "\n",
    "example: N/A\n",
    "\n",
    "-----------------------------------------------------\n",
    "\n",
    "variable: sar:looks_azimuth\n",
    "\n",
    "xpath or method: N/A\n",
    "\n",
    "field: N/A\n",
    "\n",
    "notes: number of looks parallel to the flight path\n",
    "\n",
    "example: N/A\n",
    "\n",
    "-----------------------------------------------------\n",
    "\n",
    "variable: sar:looks_equivalent_number\n",
    "\n",
    "xpath or method: N/A\n",
    "\n",
    "field: N/A\n",
    "\n",
    "notes: The equivalent number of looks (ENL). Ref: CONAE, Saocom-1 Level 1 Products Format, Jan 2020, Tab.3 Level 1 Products main characteristics.\n",
    "\n",
    "example: 3\n",
    "\n",
    "-----------------------------------------------------"
   ]
  },
  {
   "cell_type": "code",
   "execution_count": 208,
   "metadata": {},
   "outputs": [],
   "source": [
    "properties['sar:resolution_range'] = 50\n",
    "properties['sar:resolution_azimuth'] = 50\n",
    "properties['sar:pixel_spacing_range'] = 45.9972638425657\n",
    "properties['sar:pixel_spacing_azimuth'] = 47.3467709207983\n",
    "#properties['sar:looks_range'] =\n",
    "#properties['sar:looks_azimuth'] = \n",
    "properties['sar:looks_equivalent_number'] = 4.0476193428039551"
   ]
  },
  {
   "cell_type": "markdown",
   "metadata": {},
   "source": [
    "## GSD"
   ]
  },
  {
   "cell_type": "markdown",
   "metadata": {},
   "source": [
    "TOPSAR Wide swath mode imagery, 350 km swath width -> 50 m GSD"
   ]
  },
  {
   "cell_type": "code",
   "execution_count": 209,
   "metadata": {},
   "outputs": [],
   "source": [
    "properties['gsd'] = 50.0"
   ]
  },
  {
   "cell_type": "markdown",
   "metadata": {},
   "source": [
    "## Image Geometry"
   ]
  },
  {
   "cell_type": "markdown",
   "metadata": {},
   "source": [
    "Geometry information at: /SAOCOM_XMLProduct/Channel/GroundCornerPoints/XxxXxx, XxxXxx=(NorthWest,NorthEast,SouthWest,SouthEast)\n",
    "TLGC for Top Left Geodetic Coordinates (and so on). Extract Lon (first point val) Lat (second point val) in deg\n",
    "```xml\n",
    "     <GroundCornerPoints>\n",
    "      <EastingGridSize>0</EastingGridSize>\n",
    "      <NorthingGridSize>0</NorthingGridSize>\n",
    "      <NorthWest>\n",
    "        <Point>\n",
    "          <val unit=\"deg\">51.3561111111111</val>\n",
    "          <val unit=\"deg\">123.819444444444</val>\n",
    "          <val unit=\"m\">0</val>\n",
    "          <val unit=\"deg\">0</val>\n",
    "          <val unit=\"deg\">0</val>\n",
    "        </Point>\n",
    "      </NorthWest>\n",
    "      <NorthEast>\n",
    "        <Point>\n",
    "          <val unit=\"deg\">51.3561111111111</val>\n",
    "          <val unit=\"deg\">129.868055555556</val>\n",
    "          <val unit=\"m\">0</val>\n",
    "          <val unit=\"deg\">0</val>\n",
    "          <val unit=\"deg\">0</val>\n",
    "        </Point>\n",
    "      </NorthEast>\n",
    "      <SouthWest>\n",
    "        <Point>\n",
    "          <val unit=\"deg\">46.2488888888889</val>\n",
    "          <val unit=\"deg\">123.819444444444</val>\n",
    "          <val unit=\"m\">0</val>\n",
    "          <val unit=\"deg\">0</val>\n",
    "          <val unit=\"deg\">0</val>\n",
    "        </Point>\n",
    "      </SouthWest>\n",
    "      <SouthEast>\n",
    "        <Point>\n",
    "          <val unit=\"deg\">46.2488888888889</val>\n",
    "          <val unit=\"deg\">129.868055555556</val>\n",
    "          <val unit=\"m\">0</val>\n",
    "          <val unit=\"deg\">0</val>\n",
    "          <val unit=\"deg\">0</val>\n",
    "        </Point>\n",
    "      </SouthEast>\n",
    "      <Center>\n",
    "        <Point>\n",
    "          <val unit=\"deg\">2.55361111111111</val>\n",
    "          <val unit=\"deg\">3.02430555555556</val>\n",
    "          <val unit=\"m\">0</val>\n",
    "          <val unit=\"deg\">0</val>\n",
    "          <val unit=\"deg\">0</val>\n",
    "        </Point>\n",
    "      </Center>\n",
    "    </GroundCornerPoints>\n",
    "```"
   ]
  },
  {
   "cell_type": "code",
   "execution_count": 210,
   "metadata": {},
   "outputs": [],
   "source": [
    "TLGC = Point(51.3561111111111, 123.819444444444)\n",
    "TRGC = Point(51.3561111111111, 129.868055555556)\n",
    "BRGC = Point(46.2488888888889, 129.868055555556)\n",
    "BLGC = Point(46.2488888888889, 123.819444444444)\n",
    "TLGC = Point(51.3561111111111, 123.819444444444)"
   ]
  },
  {
   "cell_type": "code",
   "execution_count": 211,
   "metadata": {},
   "outputs": [],
   "source": [
    "footprint = Polygon([p.x, p.y] for p in [TLGC, TRGC, BRGC, BLGC, TLGC])"
   ]
  },
  {
   "cell_type": "code",
   "execution_count": 212,
   "metadata": {},
   "outputs": [
    {
     "data": {
      "image/svg+xml": [
       "<svg xmlns=\"http://www.w3.org/2000/svg\" xmlns:xlink=\"http://www.w3.org/1999/xlink\" width=\"100.0\" height=\"100.0\" viewBox=\"46.00694444444442 123.57749999999952 5.591111111111154 6.532500000000951\" preserveAspectRatio=\"xMinYMin meet\"><g transform=\"matrix(1,0,0,-1,0,253.6875)\"><path fill-rule=\"evenodd\" fill=\"#66cc99\" stroke=\"#555555\" stroke-width=\"0.13065000000001903\" opacity=\"0.6\" d=\"M 51.3561111111111,123.819444444444 L 51.3561111111111,129.868055555556 L 46.2488888888889,129.868055555556 L 46.2488888888889,123.819444444444 L 51.3561111111111,123.819444444444 z\" /></g></svg>"
      ],
      "text/plain": [
       "<shapely.geometry.polygon.Polygon at 0x7f4e239db7d0>"
      ]
     },
     "execution_count": 212,
     "metadata": {},
     "output_type": "execute_result"
    }
   ],
   "source": [
    "footprint"
   ]
  },
  {
   "cell_type": "code",
   "execution_count": 213,
   "metadata": {},
   "outputs": [
    {
     "data": {
      "text/plain": [
       "[46.2488888888889, 123.819444444444, 51.3561111111111, 129.868055555556]"
      ]
     },
     "execution_count": 213,
     "metadata": {},
     "output_type": "execute_result"
    }
   ],
   "source": [
    "bbox = list(footprint.bounds)\n",
    "\n",
    "bbox"
   ]
  },
  {
   "cell_type": "code",
   "execution_count": 214,
   "metadata": {},
   "outputs": [
    {
     "data": {
      "text/plain": [
       "{'type': 'Polygon',\n",
       " 'coordinates': (((51.3561111111111, 123.819444444444),\n",
       "   (51.3561111111111, 129.868055555556),\n",
       "   (46.2488888888889, 129.868055555556),\n",
       "   (46.2488888888889, 123.819444444444),\n",
       "   (51.3561111111111, 123.819444444444)),)}"
      ]
     },
     "execution_count": 214,
     "metadata": {},
     "output_type": "execute_result"
    }
   ],
   "source": [
    "geometry = mapping(footprint)\n",
    "\n",
    "geometry"
   ]
  },
  {
   "cell_type": "markdown",
   "metadata": {},
   "source": [
    "## Item"
   ]
  },
  {
   "cell_type": "code",
   "execution_count": 215,
   "metadata": {},
   "outputs": [],
   "source": [
    "item = Item(id=item_id, \n",
    "           geometry=mapping(footprint),\n",
    "           bbox=bbox,\n",
    "           datetime=datetime.strptime(properties['datetime'], '%Y-%m-%dT%H:%M:%SZ'),\n",
    "           properties=properties,\n",
    "           stac_extensions=['eo', 'sat', 'proj', 'sar', 'processing', 'view'])"
   ]
  },
  {
   "cell_type": "code",
   "execution_count": 216,
   "metadata": {},
   "outputs": [
    {
     "data": {
      "text/plain": [
       "<Item id=S1A_OPER_SAR_EOSSP__CORE_L1D_OLVF_20200819T231514>"
      ]
     },
     "execution_count": 216,
     "metadata": {},
     "output_type": "execute_result"
    }
   ],
   "source": [
    "item"
   ]
  },
  {
   "cell_type": "code",
   "execution_count": 217,
   "metadata": {},
   "outputs": [
    {
     "data": {
      "text/plain": [
       "{'type': 'Feature',\n",
       " 'stac_version': '1.0.0-beta.2',\n",
       " 'id': 'S1A_OPER_SAR_EOSSP__CORE_L1D_OLVF_20200819T231514',\n",
       " 'properties': {'item_id': 'S1A_OPER_SAR_EOSSP__CORE_L1D_OLVF_20200819T231514',\n",
       "  'mission': 'saocom-1',\n",
       "  'platform': 'saocom-1A',\n",
       "  'instruments': 'SAO1A',\n",
       "  'sat:orbit_state': 'ASCENDING',\n",
       "  'sat:absolute_orbit': 'NA',\n",
       "  'view:incidence_angle': [24.9, 48.7],\n",
       "  'view:off_nadir': [15.0, 50.0],\n",
       "  'sar:observation_direction': 'right',\n",
       "  'sar:instrument_mode': 'TW',\n",
       "  'sar:frequency_band': 'L',\n",
       "  'sar:center_frequency': 12.75,\n",
       "  'sar:polarizations': ['VV', 'VH'],\n",
       "  'sar:product_type': 'GTC',\n",
       "  'processing:level': 'L1D',\n",
       "  'datetime': '2020-08-19T21:17:26Z',\n",
       "  'start_datetime': '2020-08-20T01:25:21Z',\n",
       "  'proj:epsg': 32652,\n",
       "  'sar:resolution_range': 50,\n",
       "  'sar:resolution_azimuth': 50,\n",
       "  'sar:pixel_spacing_range': 45.9972638425657,\n",
       "  'sar:pixel_spacing_azimuth': 47.3467709207983,\n",
       "  'sar:looks_equivalent_number': 4.047619342803955,\n",
       "  'gsd': 50.0},\n",
       " 'geometry': {'type': 'Polygon',\n",
       "  'coordinates': (((51.3561111111111, 123.819444444444),\n",
       "    (51.3561111111111, 129.868055555556),\n",
       "    (46.2488888888889, 129.868055555556),\n",
       "    (46.2488888888889, 123.819444444444),\n",
       "    (51.3561111111111, 123.819444444444)),)},\n",
       " 'links': [],\n",
       " 'assets': {},\n",
       " 'bbox': [46.2488888888889,\n",
       "  123.819444444444,\n",
       "  51.3561111111111,\n",
       "  129.868055555556],\n",
       " 'stac_extensions': ['eo', 'sat', 'proj', 'sar', 'processing', 'view']}"
      ]
     },
     "execution_count": 217,
     "metadata": {},
     "output_type": "execute_result"
    }
   ],
   "source": [
    "item.to_dict()"
   ]
  },
  {
   "cell_type": "markdown",
   "metadata": {},
   "source": [
    "# Import STAC asset with data roles for dual pol L1D data as single-band geotiff"
   ]
  },
  {
   "cell_type": "code",
   "execution_count": 218,
   "metadata": {},
   "outputs": [],
   "source": [
    "asset = Asset(href='./Data/{}'.format('gtc-acqId0000211284-a-tw--0000000000-vh-m'),\n",
    "              media_type=MediaType.GEOTIFF,\n",
    "              roles=['data'])"
   ]
  },
  {
   "cell_type": "code",
   "execution_count": 219,
   "metadata": {},
   "outputs": [
    {
     "data": {
      "text/plain": [
       "{'href': './Data/gtc-acqId0000211284-a-tw--0000000000-vh-m',\n",
       " 'type': 'image/tiff; application=geotiff',\n",
       " 'roles': ['data']}"
      ]
     },
     "execution_count": 219,
     "metadata": {},
     "output_type": "execute_result"
    }
   ],
   "source": [
    "asset.to_dict()"
   ]
  },
  {
   "cell_type": "code",
   "execution_count": 220,
   "metadata": {},
   "outputs": [
    {
     "data": {
      "text/plain": [
       "<Item id=S1A_OPER_SAR_EOSSP__CORE_L1D_OLVF_20200819T231514>"
      ]
     },
     "execution_count": 220,
     "metadata": {},
     "output_type": "execute_result"
    }
   ],
   "source": [
    "item.add_asset(key='data_vh', asset=asset)"
   ]
  },
  {
   "cell_type": "code",
   "execution_count": 221,
   "metadata": {},
   "outputs": [
    {
     "data": {
      "text/plain": [
       "{'type': 'Feature',\n",
       " 'stac_version': '1.0.0-beta.2',\n",
       " 'id': 'S1A_OPER_SAR_EOSSP__CORE_L1D_OLVF_20200819T231514',\n",
       " 'properties': {'item_id': 'S1A_OPER_SAR_EOSSP__CORE_L1D_OLVF_20200819T231514',\n",
       "  'mission': 'saocom-1',\n",
       "  'platform': 'saocom-1A',\n",
       "  'instruments': 'SAO1A',\n",
       "  'sat:orbit_state': 'ASCENDING',\n",
       "  'sat:absolute_orbit': 'NA',\n",
       "  'view:incidence_angle': [24.9, 48.7],\n",
       "  'view:off_nadir': [15.0, 50.0],\n",
       "  'sar:observation_direction': 'right',\n",
       "  'sar:instrument_mode': 'TW',\n",
       "  'sar:frequency_band': 'L',\n",
       "  'sar:center_frequency': 12.75,\n",
       "  'sar:polarizations': ['VV', 'VH'],\n",
       "  'sar:product_type': 'GTC',\n",
       "  'processing:level': 'L1D',\n",
       "  'datetime': '2020-08-19T21:17:26Z',\n",
       "  'start_datetime': '2020-08-20T01:25:21Z',\n",
       "  'proj:epsg': 32652,\n",
       "  'sar:resolution_range': 50,\n",
       "  'sar:resolution_azimuth': 50,\n",
       "  'sar:pixel_spacing_range': 45.9972638425657,\n",
       "  'sar:pixel_spacing_azimuth': 47.3467709207983,\n",
       "  'sar:looks_equivalent_number': 4.047619342803955,\n",
       "  'gsd': 50.0},\n",
       " 'geometry': {'type': 'Polygon',\n",
       "  'coordinates': (((51.3561111111111, 123.819444444444),\n",
       "    (51.3561111111111, 129.868055555556),\n",
       "    (46.2488888888889, 129.868055555556),\n",
       "    (46.2488888888889, 123.819444444444),\n",
       "    (51.3561111111111, 123.819444444444)),)},\n",
       " 'links': [],\n",
       " 'assets': {'data_vh': {'href': './Data/gtc-acqId0000211284-a-tw--0000000000-vh-m',\n",
       "   'type': 'image/tiff; application=geotiff',\n",
       "   'roles': ['data']}},\n",
       " 'bbox': [46.2488888888889,\n",
       "  123.819444444444,\n",
       "  51.3561111111111,\n",
       "  129.868055555556],\n",
       " 'stac_extensions': ['eo', 'sat', 'proj', 'sar', 'processing', 'view']}"
      ]
     },
     "execution_count": 221,
     "metadata": {},
     "output_type": "execute_result"
    }
   ],
   "source": [
    "item.to_dict()"
   ]
  },
  {
   "cell_type": "code",
   "execution_count": 222,
   "metadata": {},
   "outputs": [],
   "source": [
    "asset = Asset(href='./Data/{}'.format('gtc-acqId0000211284-a-tw--0000000000-vv-m'),\n",
    "              media_type=MediaType.GEOTIFF,\n",
    "              roles=['data'])"
   ]
  },
  {
   "cell_type": "code",
   "execution_count": 223,
   "metadata": {},
   "outputs": [
    {
     "data": {
      "text/plain": [
       "{'href': './Data/gtc-acqId0000211284-a-tw--0000000000-vv-m',\n",
       " 'type': 'image/tiff; application=geotiff',\n",
       " 'roles': ['data']}"
      ]
     },
     "execution_count": 223,
     "metadata": {},
     "output_type": "execute_result"
    }
   ],
   "source": [
    "asset.to_dict()"
   ]
  },
  {
   "cell_type": "code",
   "execution_count": 224,
   "metadata": {},
   "outputs": [
    {
     "data": {
      "text/plain": [
       "<Item id=S1A_OPER_SAR_EOSSP__CORE_L1D_OLVF_20200819T231514>"
      ]
     },
     "execution_count": 224,
     "metadata": {},
     "output_type": "execute_result"
    }
   ],
   "source": [
    "item.add_asset(key='data_vv', asset=asset)"
   ]
  },
  {
   "cell_type": "code",
   "execution_count": 225,
   "metadata": {},
   "outputs": [
    {
     "data": {
      "text/plain": [
       "{'type': 'Feature',\n",
       " 'stac_version': '1.0.0-beta.2',\n",
       " 'id': 'S1A_OPER_SAR_EOSSP__CORE_L1D_OLVF_20200819T231514',\n",
       " 'properties': {'item_id': 'S1A_OPER_SAR_EOSSP__CORE_L1D_OLVF_20200819T231514',\n",
       "  'mission': 'saocom-1',\n",
       "  'platform': 'saocom-1A',\n",
       "  'instruments': 'SAO1A',\n",
       "  'sat:orbit_state': 'ASCENDING',\n",
       "  'sat:absolute_orbit': 'NA',\n",
       "  'view:incidence_angle': [24.9, 48.7],\n",
       "  'view:off_nadir': [15.0, 50.0],\n",
       "  'sar:observation_direction': 'right',\n",
       "  'sar:instrument_mode': 'TW',\n",
       "  'sar:frequency_band': 'L',\n",
       "  'sar:center_frequency': 12.75,\n",
       "  'sar:polarizations': ['VV', 'VH'],\n",
       "  'sar:product_type': 'GTC',\n",
       "  'processing:level': 'L1D',\n",
       "  'datetime': '2020-08-19T21:17:26Z',\n",
       "  'start_datetime': '2020-08-20T01:25:21Z',\n",
       "  'proj:epsg': 32652,\n",
       "  'sar:resolution_range': 50,\n",
       "  'sar:resolution_azimuth': 50,\n",
       "  'sar:pixel_spacing_range': 45.9972638425657,\n",
       "  'sar:pixel_spacing_azimuth': 47.3467709207983,\n",
       "  'sar:looks_equivalent_number': 4.047619342803955,\n",
       "  'gsd': 50.0},\n",
       " 'geometry': {'type': 'Polygon',\n",
       "  'coordinates': (((51.3561111111111, 123.819444444444),\n",
       "    (51.3561111111111, 129.868055555556),\n",
       "    (46.2488888888889, 129.868055555556),\n",
       "    (46.2488888888889, 123.819444444444),\n",
       "    (51.3561111111111, 123.819444444444)),)},\n",
       " 'links': [],\n",
       " 'assets': {'data_vh': {'href': './Data/gtc-acqId0000211284-a-tw--0000000000-vh-m',\n",
       "   'type': 'image/tiff; application=geotiff',\n",
       "   'roles': ['data']},\n",
       "  'data_vv': {'href': './Data/gtc-acqId0000211284-a-tw--0000000000-vv-m',\n",
       "   'type': 'image/tiff; application=geotiff',\n",
       "   'roles': ['data']}},\n",
       " 'bbox': [46.2488888888889,\n",
       "  123.819444444444,\n",
       "  51.3561111111111,\n",
       "  129.868055555556],\n",
       " 'stac_extensions': ['eo', 'sat', 'proj', 'sar', 'processing', 'view']}"
      ]
     },
     "execution_count": 225,
     "metadata": {},
     "output_type": "execute_result"
    }
   ],
   "source": [
    "item.to_dict()"
   ]
  },
  {
   "cell_type": "markdown",
   "metadata": {},
   "source": [
    "# Import STAC assets for product metadata"
   ]
  },
  {
   "cell_type": "code",
   "execution_count": 226,
   "metadata": {},
   "outputs": [
    {
     "data": {
      "text/plain": [
       "<Item id=S1A_OPER_SAR_EOSSP__CORE_L1D_OLVF_20200819T231514>"
      ]
     },
     "execution_count": 226,
     "metadata": {},
     "output_type": "execute_result"
    }
   ],
   "source": [
    "item.add_asset(key='metadata_vh', asset=Asset(href='./Data/{}'.format('gtc-acqId0000211284-a-tw--0000000000-vh-m.xml'),\n",
    "              media_type=MediaType.XML,\n",
    "              roles=['metadata']))"
   ]
  },
  {
   "cell_type": "code",
   "execution_count": 227,
   "metadata": {},
   "outputs": [
    {
     "data": {
      "text/plain": [
       "{'type': 'Feature',\n",
       " 'stac_version': '1.0.0-beta.2',\n",
       " 'id': 'S1A_OPER_SAR_EOSSP__CORE_L1D_OLVF_20200819T231514',\n",
       " 'properties': {'item_id': 'S1A_OPER_SAR_EOSSP__CORE_L1D_OLVF_20200819T231514',\n",
       "  'mission': 'saocom-1',\n",
       "  'platform': 'saocom-1A',\n",
       "  'instruments': 'SAO1A',\n",
       "  'sat:orbit_state': 'ASCENDING',\n",
       "  'sat:absolute_orbit': 'NA',\n",
       "  'view:incidence_angle': [24.9, 48.7],\n",
       "  'view:off_nadir': [15.0, 50.0],\n",
       "  'sar:observation_direction': 'right',\n",
       "  'sar:instrument_mode': 'TW',\n",
       "  'sar:frequency_band': 'L',\n",
       "  'sar:center_frequency': 12.75,\n",
       "  'sar:polarizations': ['VV', 'VH'],\n",
       "  'sar:product_type': 'GTC',\n",
       "  'processing:level': 'L1D',\n",
       "  'datetime': '2020-08-19T21:17:26Z',\n",
       "  'start_datetime': '2020-08-20T01:25:21Z',\n",
       "  'proj:epsg': 32652,\n",
       "  'sar:resolution_range': 50,\n",
       "  'sar:resolution_azimuth': 50,\n",
       "  'sar:pixel_spacing_range': 45.9972638425657,\n",
       "  'sar:pixel_spacing_azimuth': 47.3467709207983,\n",
       "  'sar:looks_equivalent_number': 4.047619342803955,\n",
       "  'gsd': 50.0},\n",
       " 'geometry': {'type': 'Polygon',\n",
       "  'coordinates': (((51.3561111111111, 123.819444444444),\n",
       "    (51.3561111111111, 129.868055555556),\n",
       "    (46.2488888888889, 129.868055555556),\n",
       "    (46.2488888888889, 123.819444444444),\n",
       "    (51.3561111111111, 123.819444444444)),)},\n",
       " 'links': [],\n",
       " 'assets': {'data_vh': {'href': './Data/gtc-acqId0000211284-a-tw--0000000000-vh-m',\n",
       "   'type': 'image/tiff; application=geotiff',\n",
       "   'roles': ['data']},\n",
       "  'data_vv': {'href': './Data/gtc-acqId0000211284-a-tw--0000000000-vv-m',\n",
       "   'type': 'image/tiff; application=geotiff',\n",
       "   'roles': ['data']},\n",
       "  'metadata_vh': {'href': './Data/gtc-acqId0000211284-a-tw--0000000000-vh-m.xml',\n",
       "   'type': 'application/xml',\n",
       "   'roles': ['metadata']}},\n",
       " 'bbox': [46.2488888888889,\n",
       "  123.819444444444,\n",
       "  51.3561111111111,\n",
       "  129.868055555556],\n",
       " 'stac_extensions': ['eo', 'sat', 'proj', 'sar', 'processing', 'view']}"
      ]
     },
     "execution_count": 227,
     "metadata": {},
     "output_type": "execute_result"
    }
   ],
   "source": [
    "item.to_dict()"
   ]
  },
  {
   "cell_type": "code",
   "execution_count": 228,
   "metadata": {},
   "outputs": [
    {
     "data": {
      "text/plain": [
       "<Item id=S1A_OPER_SAR_EOSSP__CORE_L1D_OLVF_20200819T231514>"
      ]
     },
     "execution_count": 228,
     "metadata": {},
     "output_type": "execute_result"
    }
   ],
   "source": [
    "item.add_asset(key='metadata_vv', asset=Asset(href='./Data/{}'.format('gtc-acqId0000211284-a-tw--0000000000-vv-m.xml'),\n",
    "              media_type=MediaType.XML,\n",
    "              roles=['metadata']))"
   ]
  },
  {
   "cell_type": "code",
   "execution_count": 229,
   "metadata": {},
   "outputs": [
    {
     "data": {
      "text/plain": [
       "{'type': 'Feature',\n",
       " 'stac_version': '1.0.0-beta.2',\n",
       " 'id': 'S1A_OPER_SAR_EOSSP__CORE_L1D_OLVF_20200819T231514',\n",
       " 'properties': {'item_id': 'S1A_OPER_SAR_EOSSP__CORE_L1D_OLVF_20200819T231514',\n",
       "  'mission': 'saocom-1',\n",
       "  'platform': 'saocom-1A',\n",
       "  'instruments': 'SAO1A',\n",
       "  'sat:orbit_state': 'ASCENDING',\n",
       "  'sat:absolute_orbit': 'NA',\n",
       "  'view:incidence_angle': [24.9, 48.7],\n",
       "  'view:off_nadir': [15.0, 50.0],\n",
       "  'sar:observation_direction': 'right',\n",
       "  'sar:instrument_mode': 'TW',\n",
       "  'sar:frequency_band': 'L',\n",
       "  'sar:center_frequency': 12.75,\n",
       "  'sar:polarizations': ['VV', 'VH'],\n",
       "  'sar:product_type': 'GTC',\n",
       "  'processing:level': 'L1D',\n",
       "  'datetime': '2020-08-19T21:17:26Z',\n",
       "  'start_datetime': '2020-08-20T01:25:21Z',\n",
       "  'proj:epsg': 32652,\n",
       "  'sar:resolution_range': 50,\n",
       "  'sar:resolution_azimuth': 50,\n",
       "  'sar:pixel_spacing_range': 45.9972638425657,\n",
       "  'sar:pixel_spacing_azimuth': 47.3467709207983,\n",
       "  'sar:looks_equivalent_number': 4.047619342803955,\n",
       "  'gsd': 50.0},\n",
       " 'geometry': {'type': 'Polygon',\n",
       "  'coordinates': (((51.3561111111111, 123.819444444444),\n",
       "    (51.3561111111111, 129.868055555556),\n",
       "    (46.2488888888889, 129.868055555556),\n",
       "    (46.2488888888889, 123.819444444444),\n",
       "    (51.3561111111111, 123.819444444444)),)},\n",
       " 'links': [],\n",
       " 'assets': {'data_vh': {'href': './Data/gtc-acqId0000211284-a-tw--0000000000-vh-m',\n",
       "   'type': 'image/tiff; application=geotiff',\n",
       "   'roles': ['data']},\n",
       "  'data_vv': {'href': './Data/gtc-acqId0000211284-a-tw--0000000000-vv-m',\n",
       "   'type': 'image/tiff; application=geotiff',\n",
       "   'roles': ['data']},\n",
       "  'metadata_vh': {'href': './Data/gtc-acqId0000211284-a-tw--0000000000-vh-m.xml',\n",
       "   'type': 'application/xml',\n",
       "   'roles': ['metadata']},\n",
       "  'metadata_vv': {'href': './Data/gtc-acqId0000211284-a-tw--0000000000-vv-m.xml',\n",
       "   'type': 'application/xml',\n",
       "   'roles': ['metadata']}},\n",
       " 'bbox': [46.2488888888889,\n",
       "  123.819444444444,\n",
       "  51.3561111111111,\n",
       "  129.868055555556],\n",
       " 'stac_extensions': ['eo', 'sat', 'proj', 'sar', 'processing', 'view']}"
      ]
     },
     "execution_count": 229,
     "metadata": {},
     "output_type": "execute_result"
    }
   ],
   "source": [
    "item.to_dict()"
   ]
  },
  {
   "cell_type": "code",
   "execution_count": 230,
   "metadata": {},
   "outputs": [
    {
     "data": {
      "text/plain": [
       "<Item id=S1A_OPER_SAR_EOSSP__CORE_L1D_OLVF_20200819T231514>"
      ]
     },
     "execution_count": 230,
     "metadata": {},
     "output_type": "execute_result"
    }
   ],
   "source": [
    "item.add_asset(key='overview', asset=Asset(href='./Images/{}'.format('gtc-acqId0000211284-a-tw--0000000000-m.png'),\n",
    "              media_type=MediaType.PNG,\n",
    "              roles=['overview']))"
   ]
  },
  {
   "cell_type": "code",
   "execution_count": 231,
   "metadata": {},
   "outputs": [
    {
     "data": {
      "text/plain": [
       "{'type': 'Feature',\n",
       " 'stac_version': '1.0.0-beta.2',\n",
       " 'id': 'S1A_OPER_SAR_EOSSP__CORE_L1D_OLVF_20200819T231514',\n",
       " 'properties': {'item_id': 'S1A_OPER_SAR_EOSSP__CORE_L1D_OLVF_20200819T231514',\n",
       "  'mission': 'saocom-1',\n",
       "  'platform': 'saocom-1A',\n",
       "  'instruments': 'SAO1A',\n",
       "  'sat:orbit_state': 'ASCENDING',\n",
       "  'sat:absolute_orbit': 'NA',\n",
       "  'view:incidence_angle': [24.9, 48.7],\n",
       "  'view:off_nadir': [15.0, 50.0],\n",
       "  'sar:observation_direction': 'right',\n",
       "  'sar:instrument_mode': 'TW',\n",
       "  'sar:frequency_band': 'L',\n",
       "  'sar:center_frequency': 12.75,\n",
       "  'sar:polarizations': ['VV', 'VH'],\n",
       "  'sar:product_type': 'GTC',\n",
       "  'processing:level': 'L1D',\n",
       "  'datetime': '2020-08-19T21:17:26Z',\n",
       "  'start_datetime': '2020-08-20T01:25:21Z',\n",
       "  'proj:epsg': 32652,\n",
       "  'sar:resolution_range': 50,\n",
       "  'sar:resolution_azimuth': 50,\n",
       "  'sar:pixel_spacing_range': 45.9972638425657,\n",
       "  'sar:pixel_spacing_azimuth': 47.3467709207983,\n",
       "  'sar:looks_equivalent_number': 4.047619342803955,\n",
       "  'gsd': 50.0},\n",
       " 'geometry': {'type': 'Polygon',\n",
       "  'coordinates': (((51.3561111111111, 123.819444444444),\n",
       "    (51.3561111111111, 129.868055555556),\n",
       "    (46.2488888888889, 129.868055555556),\n",
       "    (46.2488888888889, 123.819444444444),\n",
       "    (51.3561111111111, 123.819444444444)),)},\n",
       " 'links': [],\n",
       " 'assets': {'data_vh': {'href': './Data/gtc-acqId0000211284-a-tw--0000000000-vh-m',\n",
       "   'type': 'image/tiff; application=geotiff',\n",
       "   'roles': ['data']},\n",
       "  'data_vv': {'href': './Data/gtc-acqId0000211284-a-tw--0000000000-vv-m',\n",
       "   'type': 'image/tiff; application=geotiff',\n",
       "   'roles': ['data']},\n",
       "  'metadata_vh': {'href': './Data/gtc-acqId0000211284-a-tw--0000000000-vh-m.xml',\n",
       "   'type': 'application/xml',\n",
       "   'roles': ['metadata']},\n",
       "  'metadata_vv': {'href': './Data/gtc-acqId0000211284-a-tw--0000000000-vv-m.xml',\n",
       "   'type': 'application/xml',\n",
       "   'roles': ['metadata']},\n",
       "  'overview': {'href': './Images/gtc-acqId0000211284-a-tw--0000000000-m.png',\n",
       "   'type': 'image/png',\n",
       "   'roles': ['overview']}},\n",
       " 'bbox': [46.2488888888889,\n",
       "  123.819444444444,\n",
       "  51.3561111111111,\n",
       "  129.868055555556],\n",
       " 'stac_extensions': ['eo', 'sat', 'proj', 'sar', 'processing', 'view']}"
      ]
     },
     "execution_count": 231,
     "metadata": {},
     "output_type": "execute_result"
    }
   ],
   "source": [
    "item.to_dict()"
   ]
  },
  {
   "cell_type": "code",
   "execution_count": 232,
   "metadata": {},
   "outputs": [],
   "source": [
    "write_file(item, include_self_link=True, dest_href=f'MetadataExtractorsTests_{item.id}.json')"
   ]
  },
  {
   "cell_type": "code",
   "execution_count": null,
   "metadata": {},
   "outputs": [],
   "source": []
  }
 ],
 "metadata": {
  "kernelspec": {
   "display_name": "env_kompsat_5",
   "language": "python",
   "name": "env_kompsat_5"
  },
  "language_info": {
   "codemirror_mode": {
    "name": "ipython",
    "version": 3
   },
   "file_extension": ".py",
   "mimetype": "text/x-python",
   "name": "python",
   "nbconvert_exporter": "python",
   "pygments_lexer": "ipython3",
   "version": "3.7.9"
  }
 },
 "nbformat": 4,
 "nbformat_minor": 4
}
