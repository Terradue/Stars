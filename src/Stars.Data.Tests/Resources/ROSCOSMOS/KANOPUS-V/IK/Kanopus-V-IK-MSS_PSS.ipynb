{
 "cells": [
  {
   "cell_type": "markdown",
   "metadata": {},
   "source": [
    "# KANOPUS_V_IK\tMSS_PSS "
   ]
  },
  {
   "cell_type": "markdown",
   "metadata": {},
   "source": [
    "This is the best case one can get with KANOPUS-V IK MSS_PSS:\n",
    "\n",
    "- the zip archive contains the multispectral and pan products\n",
    "- an XMl file is included for each\n",
    "\n",
    "Products downloaded from:\n",
    "\n",
    "- cos2/calls/796/acquisitions/796-ROSCOSMOS-KANOPUS_V-Kanopus-V-IK_19377_02_Flood_Bolivia_10012021/Kanopus-V-IK_19377_02_Flood_Bolivia_10012021-product.zip\n"
   ]
  },
  {
   "cell_type": "code",
   "execution_count": 1,
   "metadata": {},
   "outputs": [],
   "source": [
    "from lxml import etree\n",
    "from pystac import *\n",
    "from shapely.geometry import Point, Polygon, mapping\n",
    "import json\n",
    "from datetime import datetime\n",
    "import numpy as np\n",
    "import collections"
   ]
  },
  {
   "cell_type": "markdown",
   "metadata": {},
   "source": [
    "These are the paths to the XML metadata files provided with the product:"
   ]
  },
  {
   "cell_type": "code",
   "execution_count": 2,
   "metadata": {},
   "outputs": [],
   "source": [
    "mss_metadata = 'Kanopus-V-IK_MSS_19377_02_Bolivia_10012021/Kanopus-V-IK_MSS_19377_02_Bolivia_10012021.xml'\n",
    "pss_metadata = 'Kanopus-V-IK_PSS_19377_02_Bolivia_10012021/Kanopus-V-IK_PSS_19377_02_Bolivia_10012021.xml'"
   ]
  },
  {
   "cell_type": "code",
   "execution_count": 3,
   "metadata": {},
   "outputs": [],
   "source": [
    "parser = etree.XMLParser()\n",
    "pss_tree = etree.parse(pss_metadata, parser)"
   ]
  },
  {
   "cell_type": "code",
   "execution_count": 4,
   "metadata": {},
   "outputs": [],
   "source": [
    "\n",
    "mss_tree = etree.parse(mss_metadata, parser)"
   ]
  },
  {
   "cell_type": "markdown",
   "metadata": {},
   "source": [
    "STAC properties:"
   ]
  },
  {
   "cell_type": "code",
   "execution_count": 5,
   "metadata": {},
   "outputs": [],
   "source": [
    "properties = {}"
   ]
  },
  {
   "cell_type": "markdown",
   "metadata": {},
   "source": [
    "Read the core metadata in a dict"
   ]
  },
  {
   "cell_type": "code",
   "execution_count": 6,
   "metadata": {},
   "outputs": [
    {
     "name": "stdout",
     "output_type": "stream",
     "text": [
      "1 Version = 1.0.0.0\n",
      "2 cOrganization = \"АО \"\n",
      "3 cModelTxtName = \"Канопус-В ИК\"\n",
      "4 cProgramm = \"Российские космические системы.FormSatD\"\n",
      "5 tSessionTime = 18:56:7.000000\n",
      "6 dSessionDate = 10/1/2021\n",
      "7 dSessionDateUTC = 10/1/2021\n",
      "8 tSessionTimeUTC = 15:56:7.000000\n",
      "9 cDataFileName = \"KVIK_19382_19377_02_3NP2_07_ORT_S_000911_110121.tiff\"\n",
      "10 cProcLevel = \"2B\"\n",
      "11 nMarH_PUL42 = 2559.83693440817\n",
      "12 nMarH_WGS84 = 2824.42468542924\n",
      "13 nMarH_SK95 = 2567.30737733003\n",
      "14 nMarH_GSK_2011 = 2823.33915202878\n",
      "15 bSunAngle = 82.0702588025395, 112.525259934873\n",
      "16 dSunDate = 10/1/2021\n",
      "17 tSunTime = 18:56:32.000000\n",
      "18 bSatAngle = 85.3792011047271, 15.1674929356836\n",
      "1 Version = 1.0.0.0\n",
      "2 cOrganization = \"АО \"\n",
      "3 cModelTxtName = \"Канопус-В ИК\"\n",
      "4 cProgramm = \"Российские космические системы.FormSatD\"\n",
      "5 tSessionTime = 18:56:7.000000\n",
      "6 dSessionDate = 10/1/2021\n",
      "7 dSessionDateUTC = 10/1/2021\n",
      "8 tSessionTimeUTC = 15:56:7.000000\n",
      "9 cDataFileName = \"KVIK_19382_19377_02_3NP2_07_ORT_PSS1_180411_110121.tiff\"\n",
      "10 cProcLevel = \"2B\"\n",
      "11 nMarH_PUL42 = 2455.18911801744\n",
      "12 nMarH_WGS84 = 2719.72217529522\n",
      "13 nMarH_SK95 = 2462.67941713054\n",
      "14 nMarH_GSK_2011 = 2718.63864981383\n",
      "15 bSunAngle = 81.9841643406101, 113.297565710332\n",
      "16 dSunDate = 10/1/2021\n",
      "17 tSunTime = 18:56:29.000000\n",
      "18 bSatAngle = 87.9856766749895, 96.5035582833169\n"
     ]
    }
   ],
   "source": [
    "mss_main = {}\n",
    "pss_main = {}\n",
    "\n",
    "for index, line in enumerate(mss_tree.xpath('/PASP_ROOT')[0].text.split('\\n')):\n",
    "    if line == \"\":\n",
    "        continue\n",
    "    print(index, line)\n",
    "    mss_main[line.split('=')[0].strip()] = line.split('=')[1].strip().replace('\"', '')\n",
    "    \n",
    "for index, line in enumerate(pss_tree.xpath('/PASP_ROOT')[0].text.split('\\n')):\n",
    "    if line == \"\":\n",
    "        continue\n",
    "    print(index, line)\n",
    "    pss_main[line.split('=')[0].strip()] = line.split('=')[1].strip().replace('\"', '')\n",
    "    "
   ]
  },
  {
   "cell_type": "markdown",
   "metadata": {},
   "source": [
    "## Identifier\n",
    "\n",
    "```\n",
    "cDataFileName = \"KVIK_19382_19377_02_3NP2_07_ORT_S_000911_110121.tiff\"\n",
    "cDataFileName = \"KVIK_19382_19377_02_3NP2_07_ORT_PSS1_180411_110121.tiff\"\n",
    "```"
   ]
  },
  {
   "cell_type": "markdown",
   "metadata": {},
   "source": [
    "Here, the identifier is the common part of the two data file names"
   ]
  },
  {
   "cell_type": "markdown",
   "metadata": {},
   "source": [
    "Use the common part of the pss_main['cDataFileName'] and mss_main['cDataFileName'] values"
   ]
  },
  {
   "cell_type": "code",
   "execution_count": 7,
   "metadata": {},
   "outputs": [
    {
     "data": {
      "text/plain": [
       "'KVIK_19382_19377_02_3NP2_07_ORT'"
      ]
     },
     "execution_count": 7,
     "metadata": {},
     "output_type": "execute_result"
    }
   ],
   "source": [
    "'_'.join(pss_main['cDataFileName'].split('_')[:7])"
   ]
  },
  {
   "cell_type": "code",
   "execution_count": 8,
   "metadata": {},
   "outputs": [
    {
     "data": {
      "text/plain": [
       "'KVIK_19382_19377_02_3NP2_07_ORT'"
      ]
     },
     "execution_count": 8,
     "metadata": {},
     "output_type": "execute_result"
    }
   ],
   "source": [
    "'_'.join(mss_main['cDataFileName'].split('_')[:7])"
   ]
  },
  {
   "cell_type": "code",
   "execution_count": 9,
   "metadata": {},
   "outputs": [
    {
     "data": {
      "text/plain": [
       "'KVIK_19382_19377_02_3NP2_07_ORT'"
      ]
     },
     "execution_count": 9,
     "metadata": {},
     "output_type": "execute_result"
    }
   ],
   "source": [
    "item_id = '_'.join(mss_main['cDataFileName'].split('_')[:7])\n",
    "item_id"
   ]
  },
  {
   "cell_type": "markdown",
   "metadata": {},
   "source": [
    "## Processing"
   ]
  },
  {
   "cell_type": "code",
   "execution_count": 10,
   "metadata": {},
   "outputs": [],
   "source": [
    "properties['processing:level'] = mss_main['cProcLevel']"
   ]
  },
  {
   "cell_type": "markdown",
   "metadata": {},
   "source": [
    "## Time"
   ]
  },
  {
   "cell_type": "code",
   "execution_count": 11,
   "metadata": {},
   "outputs": [],
   "source": [
    "properties['datetime'] = datetime.strptime(f\"{mss_main['dSessionDateUTC']}T{mss_main['tSessionTimeUTC']}\", '%d/%m/%YT%H:%M:%S.000000').strftime('%Y-%m-%dT%H:%M:%SZ')\n",
    "properties['start_datetime'] = datetime.strptime(f\"{mss_main['dSessionDateUTC']}T{mss_main['tSessionTimeUTC']}\", '%d/%m/%YT%H:%M:%S.000000').strftime('%Y-%m-%dT%H:%M:%SZ')"
   ]
  },
  {
   "cell_type": "code",
   "execution_count": 12,
   "metadata": {},
   "outputs": [
    {
     "data": {
      "text/plain": [
       "{'processing:level': '2B',\n",
       " 'datetime': '2021-01-10T15:56:07Z',\n",
       " 'start_datetime': '2021-01-10T15:56:07Z'}"
      ]
     },
     "execution_count": 12,
     "metadata": {},
     "output_type": "execute_result"
    }
   ],
   "source": [
    "properties"
   ]
  },
  {
   "cell_type": "markdown",
   "metadata": {},
   "source": [
    "## Spatial information"
   ]
  },
  {
   "cell_type": "markdown",
   "metadata": {},
   "source": [
    "Read the longitudes and latitudes provided under /PASP_ROOT/Polygon"
   ]
  },
  {
   "cell_type": "code",
   "execution_count": null,
   "metadata": {},
   "outputs": [],
   "source": []
  },
  {
   "cell_type": "code",
   "execution_count": 13,
   "metadata": {},
   "outputs": [],
   "source": [
    "polygon_info = {}\n",
    "\n",
    "for index, line in enumerate(mss_tree.xpath('/PASP_ROOT/Polygon')[0].text.split('\\n')):\n",
    "    if line == \"\":\n",
    "        continue\n",
    "  \n",
    "    polygon_info[line.split('=')[0].strip()] = line.split('=')[1].strip().replace('\"', '')\n",
    "    \n"
   ]
  },
  {
   "cell_type": "markdown",
   "metadata": {},
   "source": [
    "Convert to float"
   ]
  },
  {
   "cell_type": "code",
   "execution_count": 14,
   "metadata": {},
   "outputs": [],
   "source": [
    "lon = [ float(z) for z in polygon_info['bLon'].split(',')]\n",
    "lat = [ float(z) for z in polygon_info['bLat'].split(',')]\n"
   ]
  },
  {
   "cell_type": "code",
   "execution_count": 15,
   "metadata": {},
   "outputs": [],
   "source": [
    "points = []\n",
    "for i in range(0, int(polygon_info['nPnt'])):\n",
    "\n",
    "    points.append(Point(lon[i], lat[i]))"
   ]
  },
  {
   "cell_type": "code",
   "execution_count": 16,
   "metadata": {},
   "outputs": [],
   "source": [
    "footprint = Polygon([p.x, p.y] for p in points)\n",
    "\n",
    "bbox = list(footprint.bounds)\n",
    "\n",
    "geometry=mapping(footprint)\n"
   ]
  },
  {
   "cell_type": "code",
   "execution_count": 17,
   "metadata": {},
   "outputs": [
    {
     "data": {
      "image/svg+xml": [
       "<svg xmlns=\"http://www.w3.org/2000/svg\" xmlns:xlink=\"http://www.w3.org/1999/xlink\" width=\"100.0\" height=\"100.0\" viewBox=\"-65.5647463015973 -19.487974499801997 0.5236296478218918 1.2696059670748916\" preserveAspectRatio=\"xMinYMin meet\"><g transform=\"matrix(1,0,0,-1,0,-37.706343032529105)\"><path fill-rule=\"evenodd\" fill=\"#66cc99\" stroke=\"#555555\" stroke-width=\"0.02539211934149783\" opacity=\"0.6\" d=\"M -65.0881390970004,-19.4055735212105 L -65.1073437707072,-19.3129773087026 L -65.1077394820459,-19.313050723806 L -65.1258085633459,-19.2257940228378 L -65.1262009611196,-19.2258666204057 L -65.1443074368364,-19.1384344625831 L -65.1446866295955,-19.1385048820649 L -65.1627971793989,-19.0510192968612 L -65.1631774816718,-19.0510903727437 L -65.1812921144921,-18.9635472560845 L -65.1816780150707,-18.9636198132761 L -65.1997497666063,-18.8761817701308 L -65.2001397760286,-18.8762551407493 L -65.2181618299444,-18.7889437967296 L -65.2185539202676,-18.7890174313048 L -65.2365800780069,-18.701651262554 L -65.2369729756478,-18.7017250419519 L -65.2550376120101,-18.6141829188724 L -65.2554311769347,-18.6142569756544 L -65.2734041277528,-18.5269880978803 L -65.2737947606496,-18.5270616716831 L -65.2917861062033,-18.4396782461417 L -65.292170729726,-18.4397504316003 L -65.3100221878397,-18.3528217450574 L -65.3104105802913,-18.3528932019305 L -65.328409902626,-18.2653909759521 L -65.5177238583723,-18.3004231199888 L -65.4988353461246,-18.3931613167436 L -65.4985079580029,-18.3931007771572 L -65.4803265620045,-18.4805075652768 L -65.4799544918656,-18.4804381493401 L -65.4617844547242,-18.5678661786298 L -65.4615022361804,-18.5678133934771 L -65.4436920259776,-18.6551150718114 L -65.4433391258909,-18.6550491669858 L -65.4252268881207,-18.742448957285 L -65.424896221058,-18.742387298006 L -65.4069078905128,-18.8297511318868 L -65.4065649464975,-18.829687177961 L -65.3885729794954,-18.9170548175565 L -65.3882285238929,-18.9169905259327 L -65.3701749274934,-19.0043785404806 L -65.3698268692906,-19.0043136280181 L -65.3517919887915,-19.0916985126268 L -65.3515231558111,-19.0916484972211 L -65.3336317488182,-19.1789729377968 L -65.3333019061271,-19.178911815172 L -65.3153375194935,-19.2662844794458 L -65.3150000240613,-19.2662220265086 L -65.2969358221896,-19.3536090770501 L -65.2966337710326,-19.3535530784137 L -65.2784654501074,-19.440952056577 L -65.0881390970004,-19.4055735212105 z\" /></g></svg>"
      ],
      "text/plain": [
       "<shapely.geometry.polygon.Polygon at 0x7f1e94d614f0>"
      ]
     },
     "execution_count": 17,
     "metadata": {},
     "output_type": "execute_result"
    }
   ],
   "source": [
    "footprint"
   ]
  },
  {
   "cell_type": "code",
   "execution_count": 18,
   "metadata": {},
   "outputs": [
    {
     "data": {
      "text/plain": [
       "[-65.5177238583723, -19.440952056577, -65.0881390970004, -18.2653909759521]"
      ]
     },
     "execution_count": 18,
     "metadata": {},
     "output_type": "execute_result"
    }
   ],
   "source": [
    "bbox"
   ]
  },
  {
   "cell_type": "code",
   "execution_count": 19,
   "metadata": {},
   "outputs": [
    {
     "data": {
      "text/plain": [
       "{'type': 'Polygon',\n",
       " 'coordinates': (((-65.0881390970004, -19.4055735212105),\n",
       "   (-65.1073437707072, -19.3129773087026),\n",
       "   (-65.1077394820459, -19.313050723806),\n",
       "   (-65.1258085633459, -19.2257940228378),\n",
       "   (-65.1262009611196, -19.2258666204057),\n",
       "   (-65.1443074368364, -19.1384344625831),\n",
       "   (-65.1446866295955, -19.1385048820649),\n",
       "   (-65.1627971793989, -19.0510192968612),\n",
       "   (-65.1631774816718, -19.0510903727437),\n",
       "   (-65.1812921144921, -18.9635472560845),\n",
       "   (-65.1816780150707, -18.9636198132761),\n",
       "   (-65.1997497666063, -18.8761817701308),\n",
       "   (-65.2001397760286, -18.8762551407493),\n",
       "   (-65.2181618299444, -18.7889437967296),\n",
       "   (-65.2185539202676, -18.7890174313048),\n",
       "   (-65.2365800780069, -18.701651262554),\n",
       "   (-65.2369729756478, -18.7017250419519),\n",
       "   (-65.2550376120101, -18.6141829188724),\n",
       "   (-65.2554311769347, -18.6142569756544),\n",
       "   (-65.2734041277528, -18.5269880978803),\n",
       "   (-65.2737947606496, -18.5270616716831),\n",
       "   (-65.2917861062033, -18.4396782461417),\n",
       "   (-65.292170729726, -18.4397504316003),\n",
       "   (-65.3100221878397, -18.3528217450574),\n",
       "   (-65.3104105802913, -18.3528932019305),\n",
       "   (-65.328409902626, -18.2653909759521),\n",
       "   (-65.5177238583723, -18.3004231199888),\n",
       "   (-65.4988353461246, -18.3931613167436),\n",
       "   (-65.4985079580029, -18.3931007771572),\n",
       "   (-65.4803265620045, -18.4805075652768),\n",
       "   (-65.4799544918656, -18.4804381493401),\n",
       "   (-65.4617844547242, -18.5678661786298),\n",
       "   (-65.4615022361804, -18.5678133934771),\n",
       "   (-65.4436920259776, -18.6551150718114),\n",
       "   (-65.4433391258909, -18.6550491669858),\n",
       "   (-65.4252268881207, -18.742448957285),\n",
       "   (-65.424896221058, -18.742387298006),\n",
       "   (-65.4069078905128, -18.8297511318868),\n",
       "   (-65.4065649464975, -18.829687177961),\n",
       "   (-65.3885729794954, -18.9170548175565),\n",
       "   (-65.3882285238929, -18.9169905259327),\n",
       "   (-65.3701749274934, -19.0043785404806),\n",
       "   (-65.3698268692906, -19.0043136280181),\n",
       "   (-65.3517919887915, -19.0916985126268),\n",
       "   (-65.3515231558111, -19.0916484972211),\n",
       "   (-65.3336317488182, -19.1789729377968),\n",
       "   (-65.3333019061271, -19.178911815172),\n",
       "   (-65.3153375194935, -19.2662844794458),\n",
       "   (-65.3150000240613, -19.2662220265086),\n",
       "   (-65.2969358221896, -19.3536090770501),\n",
       "   (-65.2966337710326, -19.3535530784137),\n",
       "   (-65.2784654501074, -19.440952056577),\n",
       "   (-65.0881390970004, -19.4055735212105)),)}"
      ]
     },
     "execution_count": 19,
     "metadata": {},
     "output_type": "execute_result"
    }
   ],
   "source": [
    "geometry"
   ]
  },
  {
   "cell_type": "code",
   "execution_count": null,
   "metadata": {},
   "outputs": [],
   "source": []
  },
  {
   "cell_type": "markdown",
   "metadata": {},
   "source": [
    "## Projection"
   ]
  },
  {
   "cell_type": "markdown",
   "metadata": {},
   "source": [
    "Extracted from /PASP_ROOT/Geo/GeoCoding\n",
    "    "
   ]
  },
  {
   "cell_type": "code",
   "execution_count": 20,
   "metadata": {},
   "outputs": [
    {
     "name": "stdout",
     "output_type": "stream",
     "text": [
      "1 cCoordSystName = \"WGS 84 / UTM zone 20N\"\n",
      "2 nCoordSystCode = 32620\n",
      "3 cZoneName = \"UTM zone 20N\"\n",
      "4 nZoneCode = 16020\n",
      "5 cTrMethodName = \"Поперечная проекция Меркатора\"\n",
      "6 nTrMethodCode = 1\n",
      "7 cGeoDatName = \"WGS 84\"\n",
      "8 nGeoDatCode = 4326\n",
      "9 nLonOfOrig = -63\n",
      "10 nLatOfOrig = 0\n",
      "11 nScAtOrig = 0.9996\n",
      "12 nFalsEast = 500000\n",
      "13 nFalsNord = 0\n"
     ]
    }
   ],
   "source": [
    "geocoding = {}\n",
    "\n",
    "for index, line in enumerate(mss_tree.xpath('/PASP_ROOT/Geo/GeoCoding')[0].text.split('\\n')):\n",
    "    if line == \"\":\n",
    "        continue\n",
    "    print(index, line)\n",
    "    \n",
    "        \n",
    "    geocoding[line.split('=')[0].strip()] = line.split('=')[1].strip().replace('\"', '')\n",
    "    "
   ]
  },
  {
   "cell_type": "code",
   "execution_count": 21,
   "metadata": {},
   "outputs": [],
   "source": [
    "properties['proj:epsg'] = f\"EPSG:{geocoding['nCoordSystCode']}\""
   ]
  },
  {
   "cell_type": "code",
   "execution_count": 22,
   "metadata": {},
   "outputs": [
    {
     "data": {
      "text/plain": [
       "{'processing:level': '2B',\n",
       " 'datetime': '2021-01-10T15:56:07Z',\n",
       " 'start_datetime': '2021-01-10T15:56:07Z',\n",
       " 'proj:epsg': 'EPSG:32620'}"
      ]
     },
     "execution_count": 22,
     "metadata": {},
     "output_type": "execute_result"
    }
   ],
   "source": [
    "properties"
   ]
  },
  {
   "cell_type": "markdown",
   "metadata": {},
   "source": [
    "## Item"
   ]
  },
  {
   "cell_type": "code",
   "execution_count": 23,
   "metadata": {},
   "outputs": [],
   "source": [
    "item = Item(id=item_id, \n",
    "           geometry=mapping(footprint),\n",
    "           bbox=bbox,\n",
    "           datetime=datetime.strptime(properties['datetime'], '%Y-%m-%dT%H:%M:%SZ'),\n",
    "           properties=properties,\n",
    "           stac_extensions=['eo', 'sat', 'proj', 'processing'])"
   ]
  },
  {
   "cell_type": "markdown",
   "metadata": {},
   "source": [
    "## Assets"
   ]
  },
  {
   "cell_type": "markdown",
   "metadata": {},
   "source": [
    "pan asset"
   ]
  },
  {
   "cell_type": "code",
   "execution_count": 24,
   "metadata": {},
   "outputs": [],
   "source": [
    "pan_asset=Asset(href='./{}'.format(pss_main['cDataFileName']), media_type=MediaType.GEOTIFF,\n",
    "              roles=['data'])\n",
    "\n",
    "eo_bands = [extensions.eo.Band.create(name=b, \n",
    "                          common_name=b,\n",
    "                          description=f'{b}') for b in ['pan']]\n",
    "\n",
    "eo_item = extensions.eo.EOItemExt(item)\n",
    "eo_item.set_bands(eo_bands, asset=pan_asset)"
   ]
  },
  {
   "cell_type": "code",
   "execution_count": 25,
   "metadata": {},
   "outputs": [
    {
     "data": {
      "text/plain": [
       "<Item id=KVIK_19382_19377_02_3NP2_07_ORT>"
      ]
     },
     "execution_count": 25,
     "metadata": {},
     "output_type": "execute_result"
    }
   ],
   "source": [
    "item.add_asset(key='pan', \n",
    "               asset=pan_asset)"
   ]
  },
  {
   "cell_type": "markdown",
   "metadata": {},
   "source": [
    "MSS asset provides the radimetic information as: "
   ]
  },
  {
   "cell_type": "markdown",
   "metadata": {},
   "source": [
    "```xml\n",
    "<Device>\n",
    "<Ch1>\n",
    "nChannelNumber = 1\n",
    "bSpectralZone = 0.47, 0.53\n",
    "</Ch1>\n",
    "<Ch2>\n",
    "nChannelNumber = 2\n",
    "bSpectralZone = 0.52, 0.6\n",
    "</Ch2>\n",
    "<Ch3>\n",
    "nChannelNumber = 3\n",
    "bSpectralZone = 0.64, 0.69\n",
    "</Ch3>\n",
    "<Ch4>\n",
    "nChannelNumber = 4\n",
    "bSpectralZone = 0.76, 0.84\n",
    "</Ch4>\n",
    "</Device>\n",
    "```\n",
    "\n",
    "**NOTE** This info may be in a random order, so we do a lookup to get the band names in the order of the bands in the MSS asset\n"
   ]
  },
  {
   "cell_type": "code",
   "execution_count": null,
   "metadata": {},
   "outputs": [],
   "source": []
  },
  {
   "cell_type": "code",
   "execution_count": 26,
   "metadata": {},
   "outputs": [],
   "source": [
    "def get_cbn(spectral_range):\n",
    "    \n",
    "    def mean(numbers):\n",
    "        return round(float(sum(numbers)) / max(len(numbers), 1), 2)\n",
    "\n",
    "    if \"{:.2f}\".format(mean(spectral_range)) in [\"{:.2f}\".format(_) for _ in np.arange(0.63, 0.69, 0.01)]: \n",
    "        \n",
    "        return 'red'\n",
    "    \n",
    "    elif \"{:.2f}\".format(mean(spectral_range)) in [\"{:.2f}\".format(_) for _ in np.arange(0.52, 0.60, 0.01)]: \n",
    "        \n",
    "        return 'green'\n",
    "\n",
    "    elif \"{:.2f}\".format(mean(spectral_range)) in [\"{:.2f}\".format(_) for _ in np.arange(0.44, 0.52, 0.01)]: \n",
    "        \n",
    "        return 'blue'\n",
    "    \n",
    "    elif \"{:.2f}\".format(mean(spectral_range)) in [\"{:.2f}\".format(_) for _ in np.arange(0.75, 0.84, 0.01)]: \n",
    "        \n",
    "        return 'nir'"
   ]
  },
  {
   "cell_type": "code",
   "execution_count": 27,
   "metadata": {},
   "outputs": [
    {
     "data": {
      "text/plain": [
       "OrderedDict([('1', 'blue'), ('2', 'green'), ('3', 'red'), ('4', 'nir')])"
      ]
     },
     "execution_count": 27,
     "metadata": {},
     "output_type": "execute_result"
    }
   ],
   "source": [
    "channels = {}\n",
    "\n",
    "for ch in ['Ch1', 'Ch2', 'Ch3', 'Ch4']:\n",
    "    \n",
    "    channel = {}\n",
    "    \n",
    "    for index, line in enumerate(mss_tree.xpath(f'/PASP_ROOT/Device/{ch}')[0].text.split('\\n')):\n",
    "        if line == \"\":\n",
    "            continue\n",
    "\n",
    "        channel[line.split('=')[0].strip()] = line.split('=')[1].strip().replace('\"', '')\n",
    "    \n",
    "    index_ch = channel['nChannelNumber']\n",
    "    \n",
    "    for _ in ['nChannelNumber', 'bSPEA', 'bSPEA_APPROX', 'bEA']:\n",
    "        channel.pop(_)\n",
    "\n",
    "    channels[index_ch] = get_cbn((float(channel['bSpectralZone'].split(',')[0]), float(channel['bSpectralZone'].split(',')[1])))\n",
    "    \n",
    "channels = collections.OrderedDict(sorted(channels.items()))\n",
    "\n",
    "channels"
   ]
  },
  {
   "cell_type": "code",
   "execution_count": 28,
   "metadata": {},
   "outputs": [
    {
     "data": {
      "text/plain": [
       "['blue', 'green', 'red', 'nir']"
      ]
     },
     "execution_count": 28,
     "metadata": {},
     "output_type": "execute_result"
    }
   ],
   "source": [
    "list(channels.values())"
   ]
  },
  {
   "cell_type": "code",
   "execution_count": 29,
   "metadata": {},
   "outputs": [],
   "source": [
    "mss_asset=Asset(href='./{}'.format(mss_main['cDataFileName']), media_type=MediaType.GEOTIFF,\n",
    "              roles=['data'])\n",
    "\n",
    "eo_bands = [extensions.eo.Band.create(name=b, \n",
    "                          common_name=b,\n",
    "                          description=f'{b}') for b in list(channels.values())]\n",
    "\n",
    "eo_item = extensions.eo.EOItemExt(item)\n",
    "eo_item.set_bands(eo_bands, asset=mss_asset)"
   ]
  },
  {
   "cell_type": "code",
   "execution_count": 30,
   "metadata": {},
   "outputs": [
    {
     "data": {
      "text/plain": [
       "<Item id=KVIK_19382_19377_02_3NP2_07_ORT>"
      ]
     },
     "execution_count": 30,
     "metadata": {},
     "output_type": "execute_result"
    }
   ],
   "source": [
    "item.add_asset(key='mss', asset=mss_asset)"
   ]
  },
  {
   "cell_type": "code",
   "execution_count": 31,
   "metadata": {},
   "outputs": [
    {
     "data": {
      "text/plain": [
       "{'type': 'Feature',\n",
       " 'stac_version': '1.0.0-beta3',\n",
       " 'id': 'KVIK_19382_19377_02_3NP2_07_ORT',\n",
       " 'properties': {'processing:level': '2B',\n",
       "  'datetime': '2021-01-10T15:56:07Z',\n",
       "  'start_datetime': '2021-01-10T15:56:07Z',\n",
       "  'proj:epsg': 'EPSG:32620'},\n",
       " 'geometry': {'type': 'Polygon',\n",
       "  'coordinates': (((-65.0881390970004, -19.4055735212105),\n",
       "    (-65.1073437707072, -19.3129773087026),\n",
       "    (-65.1077394820459, -19.313050723806),\n",
       "    (-65.1258085633459, -19.2257940228378),\n",
       "    (-65.1262009611196, -19.2258666204057),\n",
       "    (-65.1443074368364, -19.1384344625831),\n",
       "    (-65.1446866295955, -19.1385048820649),\n",
       "    (-65.1627971793989, -19.0510192968612),\n",
       "    (-65.1631774816718, -19.0510903727437),\n",
       "    (-65.1812921144921, -18.9635472560845),\n",
       "    (-65.1816780150707, -18.9636198132761),\n",
       "    (-65.1997497666063, -18.8761817701308),\n",
       "    (-65.2001397760286, -18.8762551407493),\n",
       "    (-65.2181618299444, -18.7889437967296),\n",
       "    (-65.2185539202676, -18.7890174313048),\n",
       "    (-65.2365800780069, -18.701651262554),\n",
       "    (-65.2369729756478, -18.7017250419519),\n",
       "    (-65.2550376120101, -18.6141829188724),\n",
       "    (-65.2554311769347, -18.6142569756544),\n",
       "    (-65.2734041277528, -18.5269880978803),\n",
       "    (-65.2737947606496, -18.5270616716831),\n",
       "    (-65.2917861062033, -18.4396782461417),\n",
       "    (-65.292170729726, -18.4397504316003),\n",
       "    (-65.3100221878397, -18.3528217450574),\n",
       "    (-65.3104105802913, -18.3528932019305),\n",
       "    (-65.328409902626, -18.2653909759521),\n",
       "    (-65.5177238583723, -18.3004231199888),\n",
       "    (-65.4988353461246, -18.3931613167436),\n",
       "    (-65.4985079580029, -18.3931007771572),\n",
       "    (-65.4803265620045, -18.4805075652768),\n",
       "    (-65.4799544918656, -18.4804381493401),\n",
       "    (-65.4617844547242, -18.5678661786298),\n",
       "    (-65.4615022361804, -18.5678133934771),\n",
       "    (-65.4436920259776, -18.6551150718114),\n",
       "    (-65.4433391258909, -18.6550491669858),\n",
       "    (-65.4252268881207, -18.742448957285),\n",
       "    (-65.424896221058, -18.742387298006),\n",
       "    (-65.4069078905128, -18.8297511318868),\n",
       "    (-65.4065649464975, -18.829687177961),\n",
       "    (-65.3885729794954, -18.9170548175565),\n",
       "    (-65.3882285238929, -18.9169905259327),\n",
       "    (-65.3701749274934, -19.0043785404806),\n",
       "    (-65.3698268692906, -19.0043136280181),\n",
       "    (-65.3517919887915, -19.0916985126268),\n",
       "    (-65.3515231558111, -19.0916484972211),\n",
       "    (-65.3336317488182, -19.1789729377968),\n",
       "    (-65.3333019061271, -19.178911815172),\n",
       "    (-65.3153375194935, -19.2662844794458),\n",
       "    (-65.3150000240613, -19.2662220265086),\n",
       "    (-65.2969358221896, -19.3536090770501),\n",
       "    (-65.2966337710326, -19.3535530784137),\n",
       "    (-65.2784654501074, -19.440952056577),\n",
       "    (-65.0881390970004, -19.4055735212105)),)},\n",
       " 'links': [],\n",
       " 'assets': {'pan': {'href': './KVIK_19382_19377_02_3NP2_07_ORT_PSS1_180411_110121.tiff',\n",
       "   'type': 'image/tiff; application=geotiff',\n",
       "   'eo:bands': [{'name': 'pan', 'common_name': 'pan', 'description': 'pan'}],\n",
       "   'roles': ['data']},\n",
       "  'mss': {'href': './KVIK_19382_19377_02_3NP2_07_ORT_S_000911_110121.tiff',\n",
       "   'type': 'image/tiff; application=geotiff',\n",
       "   'eo:bands': [{'name': 'blue', 'common_name': 'blue', 'description': 'blue'},\n",
       "    {'name': 'green', 'common_name': 'green', 'description': 'green'},\n",
       "    {'name': 'red', 'common_name': 'red', 'description': 'red'},\n",
       "    {'name': 'nir', 'common_name': 'nir', 'description': 'nir'}],\n",
       "   'roles': ['data']}},\n",
       " 'bbox': [-65.5177238583723,\n",
       "  -19.440952056577,\n",
       "  -65.0881390970004,\n",
       "  -18.2653909759521],\n",
       " 'stac_extensions': ['eo', 'sat', 'proj', 'processing']}"
      ]
     },
     "execution_count": 31,
     "metadata": {},
     "output_type": "execute_result"
    }
   ],
   "source": [
    "item.to_dict()"
   ]
  },
  {
   "cell_type": "markdown",
   "metadata": {},
   "source": [
    "## Additional info"
   ]
  },
  {
   "cell_type": "code",
   "execution_count": 32,
   "metadata": {},
   "outputs": [],
   "source": [
    "properties['mission'] = 'KANOPUS-V'\n",
    "properties['sensor'] = 'MSS-PSS'"
   ]
  },
  {
   "cell_type": "markdown",
   "metadata": {},
   "source": [
    "## Write to disk"
   ]
  },
  {
   "cell_type": "code",
   "execution_count": 33,
   "metadata": {},
   "outputs": [],
   "source": [
    "write_file(item, include_self_link=True, dest_href=f'MetadataExtractorsTests_{item.id}.json')"
   ]
  },
  {
   "cell_type": "code",
   "execution_count": null,
   "metadata": {},
   "outputs": [],
   "source": []
  }
 ],
 "metadata": {
  "kernelspec": {
   "display_name": "Python [conda env:env_stac]",
   "language": "python",
   "name": "conda-env-env_stac-py"
  },
  "language_info": {
   "codemirror_mode": {
    "name": "ipython",
    "version": 3
   },
   "file_extension": ".py",
   "mimetype": "text/x-python",
   "name": "python",
   "nbconvert_exporter": "python",
   "pygments_lexer": "ipython3",
   "version": "3.9.1"
  }
 },
 "nbformat": 4,
 "nbformat_minor": 4
}