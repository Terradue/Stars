{
 "cells": [
  {
   "cell_type": "markdown",
   "metadata": {},
   "source": [
    "# KANOPUS_V3"
   ]
  },
  {
   "cell_type": "markdown",
   "metadata": {},
   "source": [
    "This is the best case one can get with KANOPUS-V IK MSS_PSS:\n",
    "\n",
    "- the zip archive contains the multispectral and pan products\n",
    "- an XMl file is included for each\n",
    "\n",
    "Products downloaded from:\n",
    "\n",
    "- cos2/calls/796/acquisitions/796-ROSCOSMOS-KANOPUS_V-Kanopus-V-IK_19377_02_Flood_Bolivia_10012021/Kanopus-V-IK_19377_02_Flood_Bolivia_10012021-product.zip\n"
   ]
  },
  {
   "cell_type": "code",
   "execution_count": 1,
   "metadata": {},
   "outputs": [],
   "source": [
    "from lxml import etree\n",
    "from pystac import *\n",
    "from shapely.geometry import Point, Polygon, mapping\n",
    "import json\n",
    "from datetime import datetime\n",
    "import numpy as np\n",
    "import collections"
   ]
  },
  {
   "cell_type": "markdown",
   "metadata": {},
   "source": [
    "These are the paths to the XML metadata files provided with the product:"
   ]
  },
  {
   "cell_type": "code",
   "execution_count": null,
   "metadata": {},
   "outputs": [],
   "source": []
  },
  {
   "cell_type": "code",
   "execution_count": 4,
   "metadata": {},
   "outputs": [],
   "source": [
    "mss_metadata = 'Kanopus-V3_BOLIVIA_09012021_MSS/Kanopus-V3_BOLIVIA_09012021_MSS.xml'\n",
    "pss_metadata = 'Kanopus-V3_BOLIVIA_09012021_PSS/Kanopus-V3_BOLIVIA_09012021_PSS.xml'"
   ]
  },
  {
   "cell_type": "code",
   "execution_count": 5,
   "metadata": {},
   "outputs": [],
   "source": [
    "parser = etree.XMLParser()\n",
    "pss_tree = etree.parse(pss_metadata, parser)"
   ]
  },
  {
   "cell_type": "code",
   "execution_count": 6,
   "metadata": {},
   "outputs": [],
   "source": [
    "\n",
    "mss_tree = etree.parse(mss_metadata, parser)"
   ]
  },
  {
   "cell_type": "markdown",
   "metadata": {},
   "source": [
    "STAC properties:"
   ]
  },
  {
   "cell_type": "code",
   "execution_count": 7,
   "metadata": {},
   "outputs": [],
   "source": [
    "properties = {}"
   ]
  },
  {
   "cell_type": "markdown",
   "metadata": {},
   "source": [
    "Read the core metadata in a dict"
   ]
  },
  {
   "cell_type": "code",
   "execution_count": 8,
   "metadata": {},
   "outputs": [
    {
     "name": "stdout",
     "output_type": "stream",
     "text": [
      "1 Version = 1.0.0.0\n",
      "2 cOrganization = \"ФГУП \"\n",
      "3 cModelTxtName = \"Канопус-В №3\"\n",
      "4 cProgramm = \"Российские космические системы.FormSatD\"\n",
      "5 tSessionTime = 18:54:0.000000\n",
      "6 dSessionDate = 9/1/2021\n",
      "7 dSessionDateUTC = 9/1/2021\n",
      "8 tSessionTimeUTC = 15:54:0.000000\n",
      "9 cDataFileName = \"KV3_16300_16298_01_3NP2_20_ORT_S_451822_090121.tiff\"\n",
      "10 cProcLevel = \"2B\"\n",
      "11 nMarH_PUL42 = 2534.29884764273\n",
      "12 nMarH_WGS84 = 2798.91854358959\n",
      "13 nMarH_SK95 = 2541.75262562279\n",
      "14 nMarH_GSK_2011 = 2797.8314358443\n",
      "15 bSunAngle = 81.7049261424627, 111.917529617944\n",
      "16 dSunDate = 9/1/2021\n",
      "17 tSunTime = 18:54:21.000000\n",
      "18 bSatAngle = 80.5251048911988, 55.1602939658545\n",
      "1 Version = 1.0.0.0\n",
      "2 cOrganization = \"ФГУП \"\n",
      "3 cModelTxtName = \"Канопус-В №3\"\n",
      "4 cProgramm = \"Российские космические системы.FormSatD\"\n",
      "5 tSessionTime = 18:54:0.000000\n",
      "6 dSessionDate = 9/1/2021\n",
      "7 dSessionDateUTC = 9/1/2021\n",
      "8 tSessionTimeUTC = 15:54:0.000000\n",
      "9 cDataFileName = \"KV3_16300_16298_01_3NP2_20_ORT_PSS1_041522_090121.tiff\"\n",
      "10 cProcLevel = \"2B\"\n",
      "11 nMarH_PUL42 = 2542.94023507647\n",
      "12 nMarH_WGS84 = 2807.50641465212\n",
      "13 nMarH_SK95 = 2550.41461886745\n",
      "14 nMarH_GSK_2011 = 2806.42135423515\n",
      "15 bSunAngle = 81.6153508794229, 112.674911572578\n",
      "16 dSunDate = 9/1/2021\n",
      "17 tSunTime = 18:54:18.000000\n",
      "18 bSatAngle = 81.7927547717807, 82.8380974993112\n"
     ]
    }
   ],
   "source": [
    "mss_main = {}\n",
    "pss_main = {}\n",
    "\n",
    "for index, line in enumerate(mss_tree.xpath('/PASP_ROOT')[0].text.split('\\n')):\n",
    "    if line == \"\":\n",
    "        continue\n",
    "    print(index, line)\n",
    "    mss_main[line.split('=')[0].strip()] = line.split('=')[1].strip().replace('\"', '')\n",
    "    \n",
    "for index, line in enumerate(pss_tree.xpath('/PASP_ROOT')[0].text.split('\\n')):\n",
    "    if line == \"\":\n",
    "        continue\n",
    "    print(index, line)\n",
    "    pss_main[line.split('=')[0].strip()] = line.split('=')[1].strip().replace('\"', '')\n",
    "    "
   ]
  },
  {
   "cell_type": "markdown",
   "metadata": {},
   "source": [
    "## Identifier\n",
    "\n",
    "```\n",
    "cDataFileName = \"KVIK_19382_19377_02_3NP2_07_ORT_S_000911_110121.tiff\"\n",
    "cDataFileName = \"KVIK_19382_19377_02_3NP2_07_ORT_PSS1_180411_110121.tiff\"\n",
    "```"
   ]
  },
  {
   "cell_type": "markdown",
   "metadata": {},
   "source": [
    "Here, the identifier is the common part of the two data file names"
   ]
  },
  {
   "cell_type": "markdown",
   "metadata": {},
   "source": [
    "Use the common part of the pss_main['cDataFileName'] and mss_main['cDataFileName'] values"
   ]
  },
  {
   "cell_type": "code",
   "execution_count": 9,
   "metadata": {},
   "outputs": [
    {
     "data": {
      "text/plain": [
       "'KV3_16300_16298_01_3NP2_20_ORT'"
      ]
     },
     "execution_count": 9,
     "metadata": {},
     "output_type": "execute_result"
    }
   ],
   "source": [
    "'_'.join(pss_main['cDataFileName'].split('_')[:7])"
   ]
  },
  {
   "cell_type": "code",
   "execution_count": 10,
   "metadata": {},
   "outputs": [
    {
     "data": {
      "text/plain": [
       "'KV3_16300_16298_01_3NP2_20_ORT'"
      ]
     },
     "execution_count": 10,
     "metadata": {},
     "output_type": "execute_result"
    }
   ],
   "source": [
    "'_'.join(mss_main['cDataFileName'].split('_')[:7])"
   ]
  },
  {
   "cell_type": "code",
   "execution_count": 11,
   "metadata": {},
   "outputs": [
    {
     "data": {
      "text/plain": [
       "'KV3_16300_16298_01_3NP2_20_ORT'"
      ]
     },
     "execution_count": 11,
     "metadata": {},
     "output_type": "execute_result"
    }
   ],
   "source": [
    "item_id = '_'.join(mss_main['cDataFileName'].split('_')[:7])\n",
    "item_id"
   ]
  },
  {
   "cell_type": "markdown",
   "metadata": {},
   "source": [
    "## Processing"
   ]
  },
  {
   "cell_type": "code",
   "execution_count": 12,
   "metadata": {},
   "outputs": [],
   "source": [
    "properties['processing:level'] = mss_main['cProcLevel']"
   ]
  },
  {
   "cell_type": "markdown",
   "metadata": {},
   "source": [
    "## Time"
   ]
  },
  {
   "cell_type": "code",
   "execution_count": 13,
   "metadata": {},
   "outputs": [],
   "source": [
    "properties['datetime'] = datetime.strptime(f\"{mss_main['dSessionDateUTC']}T{mss_main['tSessionTimeUTC']}\", '%d/%m/%YT%H:%M:%S.000000').strftime('%Y-%m-%dT%H:%M:%SZ')\n",
    "properties['start_datetime'] = datetime.strptime(f\"{mss_main['dSessionDateUTC']}T{mss_main['tSessionTimeUTC']}\", '%d/%m/%YT%H:%M:%S.000000').strftime('%Y-%m-%dT%H:%M:%SZ')"
   ]
  },
  {
   "cell_type": "code",
   "execution_count": 14,
   "metadata": {},
   "outputs": [
    {
     "data": {
      "text/plain": [
       "{'processing:level': '2B',\n",
       " 'datetime': '2021-01-09T15:54:00Z',\n",
       " 'start_datetime': '2021-01-09T15:54:00Z'}"
      ]
     },
     "execution_count": 14,
     "metadata": {},
     "output_type": "execute_result"
    }
   ],
   "source": [
    "properties"
   ]
  },
  {
   "cell_type": "markdown",
   "metadata": {},
   "source": [
    "## Spatial information"
   ]
  },
  {
   "cell_type": "markdown",
   "metadata": {},
   "source": [
    "Read the longitudes and latitudes provided under /PASP_ROOT/Polygon"
   ]
  },
  {
   "cell_type": "code",
   "execution_count": null,
   "metadata": {},
   "outputs": [],
   "source": []
  },
  {
   "cell_type": "code",
   "execution_count": 15,
   "metadata": {},
   "outputs": [],
   "source": [
    "polygon_info = {}\n",
    "\n",
    "for index, line in enumerate(mss_tree.xpath('/PASP_ROOT/Polygon')[0].text.split('\\n')):\n",
    "    if line == \"\":\n",
    "        continue\n",
    "  \n",
    "    polygon_info[line.split('=')[0].strip()] = line.split('=')[1].strip().replace('\"', '')\n",
    "    \n"
   ]
  },
  {
   "cell_type": "markdown",
   "metadata": {},
   "source": [
    "Convert to float"
   ]
  },
  {
   "cell_type": "code",
   "execution_count": 16,
   "metadata": {},
   "outputs": [],
   "source": [
    "lon = [ float(z) for z in polygon_info['bLon'].split(',')]\n",
    "lat = [ float(z) for z in polygon_info['bLat'].split(',')]\n"
   ]
  },
  {
   "cell_type": "code",
   "execution_count": 17,
   "metadata": {},
   "outputs": [],
   "source": [
    "points = []\n",
    "for i in range(0, int(polygon_info['nPnt'])):\n",
    "\n",
    "    points.append(Point(lon[i], lat[i]))"
   ]
  },
  {
   "cell_type": "code",
   "execution_count": 18,
   "metadata": {},
   "outputs": [],
   "source": [
    "footprint = Polygon([p.x, p.y] for p in points)\n",
    "\n",
    "bbox = list(footprint.bounds)\n",
    "\n",
    "geometry=mapping(footprint)\n"
   ]
  },
  {
   "cell_type": "code",
   "execution_count": 19,
   "metadata": {},
   "outputs": [
    {
     "data": {
      "image/svg+xml": [
       "<svg xmlns=\"http://www.w3.org/2000/svg\" xmlns:xlink=\"http://www.w3.org/1999/xlink\" width=\"100.0\" height=\"100.0\" viewBox=\"-65.44002898937875 -19.255912949793153 0.34819226551059046 0.6112455550214051\" preserveAspectRatio=\"xMinYMin meet\"><g transform=\"matrix(1,0,0,-1,0,-37.9005803445649)\"><path fill-rule=\"evenodd\" fill=\"#66cc99\" stroke=\"#555555\" stroke-width=\"0.012224911100428101\" opacity=\"0.6\" d=\"M -65.1144754481282,-19.1992005243514 L -65.1337174808101,-19.1062529485793 L -65.1338978956999,-19.1062843799899 L -65.1524583386333,-19.018267248002 L -65.1525665694643,-19.0182862386485 L -65.1707648210572,-18.9305635335288 L -65.1709671920145,-18.9305995387728 L -65.1890122722752,-18.8428804401266 L -65.1891930498915,-18.8429124554719 L -65.2073130204314,-18.7551797689487 L -65.2074936295303,-18.7552116961291 L -65.2260113761575,-18.6673061190318 L -65.4173902651187,-18.701485064752 L -65.3984786203564,-18.7948725834263 L -65.3983669341649,-18.79485270354 L -65.3800498391899,-18.8825867320093 L -65.3799804397692,-18.8825743533514 L -65.3616571917804,-18.970297808152 L -65.3615521048514,-18.9702790172397 L -65.3443953896143,-19.0578190940624 L -65.3442223458288,-19.0577885206494 L -65.3260508063013,-19.1455286926317 L -65.3259564645122,-19.1455120879927 L -65.3080627911653,-19.2332742255331 L -65.1144754481282,-19.1992005243514 z\" /></g></svg>"
      ],
      "text/plain": [
       "<shapely.geometry.polygon.Polygon at 0x7ff7c35b6eb0>"
      ]
     },
     "execution_count": 19,
     "metadata": {},
     "output_type": "execute_result"
    }
   ],
   "source": [
    "footprint"
   ]
  },
  {
   "cell_type": "code",
   "execution_count": 20,
   "metadata": {},
   "outputs": [
    {
     "data": {
      "text/plain": [
       "[-65.4173902651187, -19.2332742255331, -65.1144754481282, -18.6673061190318]"
      ]
     },
     "execution_count": 20,
     "metadata": {},
     "output_type": "execute_result"
    }
   ],
   "source": [
    "bbox"
   ]
  },
  {
   "cell_type": "code",
   "execution_count": 21,
   "metadata": {},
   "outputs": [
    {
     "data": {
      "text/plain": [
       "{'type': 'Polygon',\n",
       " 'coordinates': (((-65.1144754481282, -19.1992005243514),\n",
       "   (-65.1337174808101, -19.1062529485793),\n",
       "   (-65.1338978956999, -19.1062843799899),\n",
       "   (-65.1524583386333, -19.018267248002),\n",
       "   (-65.1525665694643, -19.0182862386485),\n",
       "   (-65.1707648210572, -18.9305635335288),\n",
       "   (-65.1709671920145, -18.9305995387728),\n",
       "   (-65.1890122722752, -18.8428804401266),\n",
       "   (-65.1891930498915, -18.8429124554719),\n",
       "   (-65.2073130204314, -18.7551797689487),\n",
       "   (-65.2074936295303, -18.7552116961291),\n",
       "   (-65.2260113761575, -18.6673061190318),\n",
       "   (-65.4173902651187, -18.701485064752),\n",
       "   (-65.3984786203564, -18.7948725834263),\n",
       "   (-65.3983669341649, -18.79485270354),\n",
       "   (-65.3800498391899, -18.8825867320093),\n",
       "   (-65.3799804397692, -18.8825743533514),\n",
       "   (-65.3616571917804, -18.970297808152),\n",
       "   (-65.3615521048514, -18.9702790172397),\n",
       "   (-65.3443953896143, -19.0578190940624),\n",
       "   (-65.3442223458288, -19.0577885206494),\n",
       "   (-65.3260508063013, -19.1455286926317),\n",
       "   (-65.3259564645122, -19.1455120879927),\n",
       "   (-65.3080627911653, -19.2332742255331),\n",
       "   (-65.1144754481282, -19.1992005243514)),)}"
      ]
     },
     "execution_count": 21,
     "metadata": {},
     "output_type": "execute_result"
    }
   ],
   "source": [
    "geometry"
   ]
  },
  {
   "cell_type": "code",
   "execution_count": null,
   "metadata": {},
   "outputs": [],
   "source": []
  },
  {
   "cell_type": "markdown",
   "metadata": {},
   "source": [
    "## Projection"
   ]
  },
  {
   "cell_type": "markdown",
   "metadata": {},
   "source": [
    "Extracted from /PASP_ROOT/Geo/GeoCoding\n",
    "    "
   ]
  },
  {
   "cell_type": "code",
   "execution_count": 22,
   "metadata": {},
   "outputs": [
    {
     "name": "stdout",
     "output_type": "stream",
     "text": [
      "1 cCoordSystName = \"WGS 84 / UTM zone 20N\"\n",
      "2 nCoordSystCode = 32620\n",
      "3 cZoneName = \"UTM zone 20N\"\n",
      "4 nZoneCode = 16020\n",
      "5 cTrMethodName = \"Поперечная проекция Меркатора\"\n",
      "6 nTrMethodCode = 1\n",
      "7 cGeoDatName = \"WGS 84\"\n",
      "8 nGeoDatCode = 4326\n",
      "9 nLonOfOrig = -63\n",
      "10 nLatOfOrig = 0\n",
      "11 nScAtOrig = 0.9996\n",
      "12 nFalsEast = 500000\n",
      "13 nFalsNord = 0\n"
     ]
    }
   ],
   "source": [
    "geocoding = {}\n",
    "\n",
    "for index, line in enumerate(mss_tree.xpath('/PASP_ROOT/Geo/GeoCoding')[0].text.split('\\n')):\n",
    "    if line == \"\":\n",
    "        continue\n",
    "    print(index, line)\n",
    "    \n",
    "        \n",
    "    geocoding[line.split('=')[0].strip()] = line.split('=')[1].strip().replace('\"', '')\n",
    "    "
   ]
  },
  {
   "cell_type": "code",
   "execution_count": 23,
   "metadata": {},
   "outputs": [],
   "source": [
    "properties['proj:epsg'] = f\"EPSG:{geocoding['nCoordSystCode']}\""
   ]
  },
  {
   "cell_type": "code",
   "execution_count": 24,
   "metadata": {},
   "outputs": [
    {
     "data": {
      "text/plain": [
       "{'processing:level': '2B',\n",
       " 'datetime': '2021-01-09T15:54:00Z',\n",
       " 'start_datetime': '2021-01-09T15:54:00Z',\n",
       " 'proj:epsg': 'EPSG:32620'}"
      ]
     },
     "execution_count": 24,
     "metadata": {},
     "output_type": "execute_result"
    }
   ],
   "source": [
    "properties"
   ]
  },
  {
   "cell_type": "markdown",
   "metadata": {},
   "source": [
    "## Item"
   ]
  },
  {
   "cell_type": "code",
   "execution_count": 25,
   "metadata": {},
   "outputs": [],
   "source": [
    "item = Item(id=item_id, \n",
    "           geometry=mapping(footprint),\n",
    "           bbox=bbox,\n",
    "           datetime=datetime.strptime(properties['datetime'], '%Y-%m-%dT%H:%M:%SZ'),\n",
    "           properties=properties,\n",
    "           stac_extensions=['eo', 'sat', 'proj', 'processing'])"
   ]
  },
  {
   "cell_type": "markdown",
   "metadata": {},
   "source": [
    "## Assets"
   ]
  },
  {
   "cell_type": "markdown",
   "metadata": {},
   "source": [
    "pan asset"
   ]
  },
  {
   "cell_type": "code",
   "execution_count": 26,
   "metadata": {},
   "outputs": [],
   "source": [
    "pan_asset=Asset(href='./{}'.format(pss_main['cDataFileName']), media_type=MediaType.GEOTIFF,\n",
    "              roles=['data'])\n",
    "\n",
    "eo_bands = [extensions.eo.Band.create(name=b, \n",
    "                          common_name=b,\n",
    "                          description=f'{b}') for b in ['pan']]\n",
    "\n",
    "eo_item = extensions.eo.EOItemExt(item)\n",
    "eo_item.set_bands(eo_bands, asset=pan_asset)"
   ]
  },
  {
   "cell_type": "code",
   "execution_count": 27,
   "metadata": {},
   "outputs": [
    {
     "data": {
      "text/plain": [
       "<Item id=KV3_16300_16298_01_3NP2_20_ORT>"
      ]
     },
     "execution_count": 27,
     "metadata": {},
     "output_type": "execute_result"
    }
   ],
   "source": [
    "item.add_asset(key='pan', \n",
    "               asset=pan_asset)"
   ]
  },
  {
   "cell_type": "markdown",
   "metadata": {},
   "source": [
    "MSS asset provides the radimetic information as: "
   ]
  },
  {
   "cell_type": "markdown",
   "metadata": {},
   "source": [
    "```xml\n",
    "<Device>\n",
    "<Ch1>\n",
    "nChannelNumber = 1\n",
    "bSpectralZone = 0.47, 0.53\n",
    "</Ch1>\n",
    "<Ch2>\n",
    "nChannelNumber = 2\n",
    "bSpectralZone = 0.52, 0.6\n",
    "</Ch2>\n",
    "<Ch3>\n",
    "nChannelNumber = 3\n",
    "bSpectralZone = 0.64, 0.69\n",
    "</Ch3>\n",
    "<Ch4>\n",
    "nChannelNumber = 4\n",
    "bSpectralZone = 0.76, 0.84\n",
    "</Ch4>\n",
    "</Device>\n",
    "```\n",
    "\n",
    "**NOTE** This info may be in a random order, so we do a lookup to get the band names in the order of the bands in the MSS asset\n"
   ]
  },
  {
   "cell_type": "code",
   "execution_count": null,
   "metadata": {},
   "outputs": [],
   "source": []
  },
  {
   "cell_type": "code",
   "execution_count": 28,
   "metadata": {},
   "outputs": [],
   "source": [
    "def get_cbn(spectral_range):\n",
    "    \n",
    "    def mean(numbers):\n",
    "        return round(float(sum(numbers)) / max(len(numbers), 1), 2)\n",
    "\n",
    "    if \"{:.2f}\".format(mean(spectral_range)) in [\"{:.2f}\".format(_) for _ in np.arange(0.63, 0.69, 0.01)]: \n",
    "        \n",
    "        return 'red'\n",
    "    \n",
    "    elif \"{:.2f}\".format(mean(spectral_range)) in [\"{:.2f}\".format(_) for _ in np.arange(0.52, 0.60, 0.01)]: \n",
    "        \n",
    "        return 'green'\n",
    "\n",
    "    elif \"{:.2f}\".format(mean(spectral_range)) in [\"{:.2f}\".format(_) for _ in np.arange(0.44, 0.52, 0.01)]: \n",
    "        \n",
    "        return 'blue'\n",
    "    \n",
    "    elif \"{:.2f}\".format(mean(spectral_range)) in [\"{:.2f}\".format(_) for _ in np.arange(0.75, 0.84, 0.01)]: \n",
    "        \n",
    "        return 'nir'"
   ]
  },
  {
   "cell_type": "code",
   "execution_count": 29,
   "metadata": {},
   "outputs": [
    {
     "data": {
      "text/plain": [
       "OrderedDict([('1', 'green'), ('2', 'blue'), ('3', 'nir'), ('4', 'red')])"
      ]
     },
     "execution_count": 29,
     "metadata": {},
     "output_type": "execute_result"
    }
   ],
   "source": [
    "channels = {}\n",
    "\n",
    "for ch in ['Ch1', 'Ch2', 'Ch3', 'Ch4']:\n",
    "    \n",
    "    channel = {}\n",
    "    \n",
    "    for index, line in enumerate(mss_tree.xpath(f'/PASP_ROOT/Device/{ch}')[0].text.split('\\n')):\n",
    "        if line == \"\":\n",
    "            continue\n",
    "\n",
    "        channel[line.split('=')[0].strip()] = line.split('=')[1].strip().replace('\"', '')\n",
    "    \n",
    "    index_ch = channel['nChannelNumber']\n",
    "    \n",
    "    for _ in ['nChannelNumber', 'bSPEA', 'bSPEA_APPROX', 'bEA']:\n",
    "        channel.pop(_)\n",
    "\n",
    "    channels[index_ch] = get_cbn((float(channel['bSpectralZone'].split(',')[0]), float(channel['bSpectralZone'].split(',')[1])))\n",
    "    \n",
    "channels = collections.OrderedDict(sorted(channels.items()))\n",
    "\n",
    "channels"
   ]
  },
  {
   "cell_type": "code",
   "execution_count": 30,
   "metadata": {},
   "outputs": [
    {
     "data": {
      "text/plain": [
       "['green', 'blue', 'nir', 'red']"
      ]
     },
     "execution_count": 30,
     "metadata": {},
     "output_type": "execute_result"
    }
   ],
   "source": [
    "list(channels.values())"
   ]
  },
  {
   "cell_type": "code",
   "execution_count": 31,
   "metadata": {},
   "outputs": [],
   "source": [
    "mss_asset=Asset(href='./{}'.format(mss_main['cDataFileName']), media_type=MediaType.GEOTIFF,\n",
    "              roles=['data'])\n",
    "\n",
    "eo_bands = [extensions.eo.Band.create(name=b, \n",
    "                          common_name=b,\n",
    "                          description=f'{b}') for b in list(channels.values())]\n",
    "\n",
    "eo_item = extensions.eo.EOItemExt(item)\n",
    "eo_item.set_bands(eo_bands, asset=mss_asset)"
   ]
  },
  {
   "cell_type": "code",
   "execution_count": 32,
   "metadata": {},
   "outputs": [
    {
     "data": {
      "text/plain": [
       "<Item id=KV3_16300_16298_01_3NP2_20_ORT>"
      ]
     },
     "execution_count": 32,
     "metadata": {},
     "output_type": "execute_result"
    }
   ],
   "source": [
    "item.add_asset(key='mss', asset=mss_asset)"
   ]
  },
  {
   "cell_type": "code",
   "execution_count": 33,
   "metadata": {},
   "outputs": [
    {
     "data": {
      "text/plain": [
       "{'type': 'Feature',\n",
       " 'stac_version': '1.0.0-beta.2',\n",
       " 'id': 'KV3_16300_16298_01_3NP2_20_ORT',\n",
       " 'properties': {'processing:level': '2B',\n",
       "  'datetime': '2021-01-09T15:54:00Z',\n",
       "  'start_datetime': '2021-01-09T15:54:00Z',\n",
       "  'proj:epsg': 'EPSG:32620'},\n",
       " 'geometry': {'type': 'Polygon',\n",
       "  'coordinates': (((-65.1144754481282, -19.1992005243514),\n",
       "    (-65.1337174808101, -19.1062529485793),\n",
       "    (-65.1338978956999, -19.1062843799899),\n",
       "    (-65.1524583386333, -19.018267248002),\n",
       "    (-65.1525665694643, -19.0182862386485),\n",
       "    (-65.1707648210572, -18.9305635335288),\n",
       "    (-65.1709671920145, -18.9305995387728),\n",
       "    (-65.1890122722752, -18.8428804401266),\n",
       "    (-65.1891930498915, -18.8429124554719),\n",
       "    (-65.2073130204314, -18.7551797689487),\n",
       "    (-65.2074936295303, -18.7552116961291),\n",
       "    (-65.2260113761575, -18.6673061190318),\n",
       "    (-65.4173902651187, -18.701485064752),\n",
       "    (-65.3984786203564, -18.7948725834263),\n",
       "    (-65.3983669341649, -18.79485270354),\n",
       "    (-65.3800498391899, -18.8825867320093),\n",
       "    (-65.3799804397692, -18.8825743533514),\n",
       "    (-65.3616571917804, -18.970297808152),\n",
       "    (-65.3615521048514, -18.9702790172397),\n",
       "    (-65.3443953896143, -19.0578190940624),\n",
       "    (-65.3442223458288, -19.0577885206494),\n",
       "    (-65.3260508063013, -19.1455286926317),\n",
       "    (-65.3259564645122, -19.1455120879927),\n",
       "    (-65.3080627911653, -19.2332742255331),\n",
       "    (-65.1144754481282, -19.1992005243514)),)},\n",
       " 'links': [],\n",
       " 'assets': {'pan': {'href': './KV3_16300_16298_01_3NP2_20_ORT_PSS1_041522_090121.tiff',\n",
       "   'type': 'image/tiff; application=geotiff',\n",
       "   'eo:bands': [{'name': 'pan', 'common_name': 'pan', 'description': 'pan'}],\n",
       "   'roles': ['data']},\n",
       "  'mss': {'href': './KV3_16300_16298_01_3NP2_20_ORT_S_451822_090121.tiff',\n",
       "   'type': 'image/tiff; application=geotiff',\n",
       "   'eo:bands': [{'name': 'green',\n",
       "     'common_name': 'green',\n",
       "     'description': 'green'},\n",
       "    {'name': 'blue', 'common_name': 'blue', 'description': 'blue'},\n",
       "    {'name': 'nir', 'common_name': 'nir', 'description': 'nir'},\n",
       "    {'name': 'red', 'common_name': 'red', 'description': 'red'}],\n",
       "   'roles': ['data']}},\n",
       " 'bbox': [-65.4173902651187,\n",
       "  -19.2332742255331,\n",
       "  -65.1144754481282,\n",
       "  -18.6673061190318],\n",
       " 'stac_extensions': ['eo', 'sat', 'proj', 'processing']}"
      ]
     },
     "execution_count": 33,
     "metadata": {},
     "output_type": "execute_result"
    }
   ],
   "source": [
    "item.to_dict()"
   ]
  },
  {
   "cell_type": "markdown",
   "metadata": {},
   "source": [
    "## Additional info"
   ]
  },
  {
   "cell_type": "code",
   "execution_count": 34,
   "metadata": {},
   "outputs": [],
   "source": [
    "properties['mission'] = 'KANOPUS-V'\n",
    "properties['sensor'] = 'MSS-PSS'"
   ]
  },
  {
   "cell_type": "markdown",
   "metadata": {},
   "source": [
    "## Write to disk"
   ]
  },
  {
   "cell_type": "code",
   "execution_count": 35,
   "metadata": {},
   "outputs": [],
   "source": [
    "write_file(item, include_self_link=True, dest_href=f'MetadataExtractorsTests_{item.id}.json')"
   ]
  },
  {
   "cell_type": "code",
   "execution_count": null,
   "metadata": {},
   "outputs": [],
   "source": []
  }
 ],
 "metadata": {
  "kernelspec": {
   "display_name": "Python [conda env:env_stac]",
   "language": "python",
   "name": "conda-env-env_stac-py"
  },
  "language_info": {
   "codemirror_mode": {
    "name": "ipython",
    "version": 3
   },
   "file_extension": ".py",
   "mimetype": "text/x-python",
   "name": "python",
   "nbconvert_exporter": "python",
   "pygments_lexer": "ipython3",
   "version": "3.9.1"
  }
 },
 "nbformat": 4,
 "nbformat_minor": 4
}
